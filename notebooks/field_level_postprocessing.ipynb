{
 "cells": [
  {
   "cell_type": "code",
   "execution_count": null,
   "metadata": {},
   "outputs": [],
   "source": [
    "import sys\n",
    "from pathlib import Path\n",
    "sys.path.append(str(Path().absolute().parent))\n"
   ]
  },
  {
   "cell_type": "code",
   "execution_count": null,
   "metadata": {},
   "outputs": [],
   "source": [
    "import ee \n",
    "import geemap\n",
    "\n",
    "ee.Initialize(project=\"thurgau-irrigation\")"
   ]
  },
  {
   "cell_type": "code",
   "execution_count": null,
   "metadata": {},
   "outputs": [],
   "source": [
    "from typing import Tuple\n",
    "import matplotlib.pyplot as plt\n",
    "import seaborn as sns\n",
    "import numpy as np\n",
    "import pandas as pd\n",
    "\n",
    "from src.et_blue_per_field.et_blue_field_postprocessing import (\n",
    "    compute_field_et_stats,\n",
    "    compute_et_volume,\n",
    "    threshold_et_volume,\n",
    ")\n",
    "from src.et_blue_per_field.etc_look_up_processing import (\n",
    "    add_date_column,\n",
    "    compute_et_ratio_timeseries,\n",
    "    plot_multiple_et_ratio_timeseries,\n",
    "    create_et_mask,\n",
    ")\n",
    "\n",
    "from utils.ee_utils import (\n",
    "    back_to_float,\n",
    "    back_to_int,\n",
    "    export_image_to_asset,\n",
    "    print_value_ranges,\n",
    "    is_image_empty,\n",
    "    fill_gaps_with_zeros,\n",
    "    export_feature_collection,\n",
    ")\n",
    "\n",
    "from utils.date_utils import print_collection_dates, merge_same_date_images"
   ]
  },
  {
   "cell_type": "markdown",
   "metadata": {},
   "source": [
    "---"
   ]
  },
  {
   "cell_type": "markdown",
   "metadata": {},
   "source": [
    "## Constants"
   ]
  },
  {
   "cell_type": "code",
   "execution_count": null,
   "metadata": {},
   "outputs": [],
   "source": [
    "# YEAR = 2021\n",
    "\n",
    "# ETC_THRESHOLD = 0.7\n",
    "# MINIMUM_IRRIGATION_THRESHOLD = 0\n",
    "\n",
    "# ET_PRODUCT = \"WaPOR_10m\"\n",
    "\n",
    "\n",
    "# PATH_TO_ET_BLUE_POSTPROCESSED = f\"projects/thurgau-irrigation/assets/FribourgAndVaud/ET_blue_postprocessed/ET_blue_postprocessed_{YEAR}_dekadal_from_WaPOR_10m\"\n",
    "# PATH_TO_FIELD_BOUNDARIES = (\n",
    "#     f\"projects/thurgau-irrigation/assets/FribourgAndVaud/blind_potato_fields\"\n",
    "# )\n",
    "# PATH_TO_ET_GREEN = f\"projects/thurgau-irrigation/assets/FribourgAndVaud/ET_green/ET_green_{YEAR}_dekadal_from_WaPOR_10m\"\n",
    "# PATH_TO_ETC_LOOK_UP = (\n",
    "#     f\"projects/thurgau-irrigation/assets/FribourgAndVaud/ETc_WAPOR/ETc_Pasture_Broye\"\n",
    "# )\n",
    "\n",
    "# TEMPORAL_RESOLUTION = \"dekadal\"\n",
    "# SCALING_FACTOR = 100\n",
    "\n",
    "# PATH_TO_POSTPROCESSED_FIELD_LEVEL_ET_BLUE = f\"projects/thurgau-irrigation/assets/FribourgAndVaud/ET_blue_per_field/ET_blue_per_field_{YEAR}_{TEMPORAL_RESOLUTION}_from_{ET_PRODUCT}_ETC_threshold_{int(ETC_THRESHOLD * 100)}\""
   ]
  },
  {
   "cell_type": "markdown",
   "metadata": {},
   "source": [
    "## 0. Load the assets"
   ]
  },
  {
   "cell_type": "code",
   "execution_count": null,
   "metadata": {},
   "outputs": [],
   "source": [
    "# crop_fields = ee.FeatureCollection(PATH_TO_FIELD_BOUNDARIES)"
   ]
  },
  {
   "cell_type": "code",
   "execution_count": null,
   "metadata": {},
   "outputs": [],
   "source": [
    "# et_green_collection = (\n",
    "#     ee.ImageCollection(PATH_TO_ET_GREEN)\n",
    "#     .filterDate(f\"{YEAR}-01-01\", f\"{YEAR}-12-31\")\n",
    "#     .map(lambda img: back_to_float(img, SCALING_FACTOR))\n",
    "# )\n",
    "\n",
    "# print_collection_dates(et_green_collection)"
   ]
  },
  {
   "cell_type": "code",
   "execution_count": null,
   "metadata": {},
   "outputs": [],
   "source": [
    "# ETc_look_up = ee.FeatureCollection(PATH_TO_ETC_LOOK_UP)\n",
    "\n",
    "# ETc_look_up_df = geemap.ee_to_df(ETc_look_up)\n",
    "\n",
    "# ETc_look_up_df = add_date_column(ETc_look_up_df)\n",
    "\n",
    "# ETc_look_up_df[\"ETc\"] = ETc_look_up_df[\"ETc\"] / 10\n",
    "\n",
    "# ETc_look_up_df = ETc_look_up_df.sort_values(by=\"Date\")\n",
    "\n",
    "# print(ETc_look_up_df.head(12))"
   ]
  },
  {
   "cell_type": "code",
   "execution_count": null,
   "metadata": {},
   "outputs": [],
   "source": [
    "# et_blue_postprocessed_collection = (\n",
    "#     ee.ImageCollection(PATH_TO_ET_BLUE_POSTPROCESSED)\n",
    "#     .filterDate(f\"{YEAR}-04-01\", f\"{YEAR}-10-31\")\n",
    "#     .map(lambda img: back_to_float(img, SCALING_FACTOR))\n",
    "# )\n",
    "\n",
    "# print_collection_dates(et_blue_postprocessed_collection)"
   ]
  },
  {
   "cell_type": "markdown",
   "metadata": {},
   "source": [
    "## 1. Mask ET blue pixels where ET green > X * ET<sub>c</sub>"
   ]
  },
  {
   "cell_type": "code",
   "execution_count": null,
   "metadata": {},
   "outputs": [],
   "source": [
    "# masked_collection = et_green_collection.map(lambda img: create_et_mask(img, ETc_look_up_df, \"ET_green\", ETC_THRESHOLD))"
   ]
  },
  {
   "cell_type": "code",
   "execution_count": null,
   "metadata": {},
   "outputs": [],
   "source": [
    "# def multiply_image_collections(\n",
    "#     col1: ee.ImageCollection, col2: ee.ImageCollection, band_name1: str, band_name2: str\n",
    "# ) -> ee.ImageCollection:\n",
    "#     \"\"\"\n",
    "#     Multiply images from two collections with matching dates for a specified band.\n",
    "\n",
    "#     Args:\n",
    "#         col1: First image collection\n",
    "#         col2: Second image collection\n",
    "#         band_name1: Band name from first collection to multiply\n",
    "#         band_name2: Band name from second collection to multiply\n",
    "\n",
    "#     Returns:\n",
    "#         Image collection containing the multiplied results\n",
    "#     \"\"\"\n",
    "#     # Sort both collections by date\n",
    "#     sorted_col1 = col1.sort(\"system:time_start\")\n",
    "#     sorted_col2 = col2.sort(\"system:time_start\")\n",
    "\n",
    "#     # Convert to lists for paired iteration\n",
    "#     col_list1 = sorted_col1.toList(sorted_col1.size())\n",
    "#     col_list2 = sorted_col2.toList(sorted_col2.size())\n",
    "\n",
    "#     def multiply_images(index):\n",
    "#         # Get corresponding images\n",
    "#         img1 = ee.Image(col_list1.get(index))\n",
    "#         img2 = ee.Image(col_list2.get(index))\n",
    "\n",
    "#         # Multiply the specified bands\n",
    "#         result = img1.select(band_name1).multiply(img2.select(band_name2))\n",
    "\n",
    "#         # Return result with the timestamp from first collection\n",
    "#         return result.copyProperties(img1, [\"system:time_start\"])\n",
    "\n",
    "#     # Create sequence for mapping\n",
    "#     sequence = ee.List.sequence(0, sorted_col1.size().subtract(1))\n",
    "\n",
    "#     # Map multiplication over the sequences\n",
    "#     return ee.ImageCollection(sequence.map(multiply_images))"
   ]
  },
  {
   "cell_type": "code",
   "execution_count": null,
   "metadata": {},
   "outputs": [],
   "source": [
    "# et_blue_masked = multiply_image_collections(et_blue_postprocessed_collection, masked_collection, \"ET_blue\", \"ET_green\")\n",
    "# et_blue_masked_list = et_blue_masked.toList(et_blue_masked.size())"
   ]
  },
  {
   "cell_type": "markdown",
   "metadata": {},
   "source": [
    "## 2. Apply ETc filtering"
   ]
  },
  {
   "cell_type": "code",
   "execution_count": null,
   "metadata": {},
   "outputs": [],
   "source": [
    "# def count_empty_images_per_month(feature):\n",
    "#     properties = feature.propertyNames().filter(\n",
    "#         ee.Filter.stringContains(\"item\", \"median_et_blue\")\n",
    "#     )\n",
    "\n",
    "#     def count_empty_by_month(current_month, prev_feature):\n",
    "#         month_str = ee.Number(current_month).format(\"%02d\")\n",
    "#         month_props = properties.filter(ee.Filter.stringContains(\"item\", month_str))\n",
    "\n",
    "#         empty_count = month_props.map(\n",
    "#             lambda prop: ee.Number(\n",
    "#                 ee.Algorithms.If(ee.Number(feature.get(prop)).eq(-99), 1, 0)\n",
    "#             )\n",
    "#         ).reduce(ee.Reducer.sum())\n",
    "\n",
    "#         prop_name = ee.String(\"empty_images_month_\").cat(month_str)\n",
    "#         return ee.Feature(prev_feature).set(prop_name, empty_count)\n",
    "\n",
    "#     months = ee.List.sequence(4, 10)\n",
    "#     return months.iterate(count_empty_by_month, feature)\n"
   ]
  },
  {
   "cell_type": "code",
   "execution_count": null,
   "metadata": {},
   "outputs": [],
   "source": [
    "# dates = et_blue_masked.aggregate_array(\"system:time_start\")\n",
    "\n",
    "# dates = [ee.Date(date).format(\"YYYY-MM-dd\").getInfo() for date in dates.getInfo()]\n",
    "\n",
    "\n",
    "# crop_fields_iteration = crop_fields\n",
    "\n",
    "# crop_fields_iteration = crop_fields_iteration.map(\n",
    "#     lambda f: f.set(\n",
    "#         {\n",
    "#             \"etc_threshold\": ETC_THRESHOLD,\n",
    "#         }\n",
    "#     )\n",
    "# )\n",
    "\n",
    "# for i, date in enumerate(dates):\n",
    "\n",
    "#     image = ee.Image(et_blue_masked_list.get(i))\n",
    "\n",
    "#     fileds_with_stats = compute_field_et_stats(\n",
    "#         et_image=image,\n",
    "#         fields=crop_fields_iteration,\n",
    "#         et_band_name=\"ET_blue\",\n",
    "#         scale=10,\n",
    "#         date=date,\n",
    "#     )\n",
    "\n",
    "#     feature_with_m3 = compute_et_volume(fileds_with_stats, date=date)\n",
    "\n",
    "#     feature_with_m3 = threshold_et_volume(\n",
    "#         feature_with_m3, threshold=MINIMUM_IRRIGATION_THRESHOLD, date=date\n",
    "#     )\n",
    "\n",
    "#     crop_fields_iteration = feature_with_m3\n",
    "\n",
    "\n",
    "# updated_features = crop_fields_iteration.map(count_empty_images_per_month)\n",
    "\n",
    "# task_name = f\"field_et_blue_{ET_PRODUCT}_ETC_{ETC_THRESHOLD}_{YEAR}\"\n",
    "\n",
    "# export_feature_collection(\n",
    "#     collection=updated_features,\n",
    "#     task_name=task_name,\n",
    "#     asset_id=PATH_TO_POSTPROCESSED_FIELD_LEVEL_ET_BLUE,\n",
    "# )\n",
    "\n",
    "# # updated_features.getInfo()"
   ]
  },
  {
   "cell_type": "markdown",
   "metadata": {},
   "source": [
    "---"
   ]
  },
  {
   "cell_type": "code",
   "execution_count": null,
   "metadata": {},
   "outputs": [],
   "source": [
    "# Map = geemap.Map()\n",
    "\n",
    "# et_blue_list = et_blue_masked.toList(et_blue_masked.size())\n",
    "# et_blue = ee.Image(et_blue_list.get(13))\n",
    "\n",
    "# vis_params = {\"bands\": [\"ET_blue\"], \"min\": 0, \"max\": 1, \"palette\": \"viridis\"}\n",
    "\n",
    "# Map.addLayer(et_blue, vis_params, \"ET_blue\")\n",
    "# Map.addLayer(crop_fields_iteration, {\"color\": \"red\"}, \"fields_with_stats\")\n",
    "\n",
    "# Map.centerObject(crop_fields, 12)\n",
    "\n",
    "\n",
    "# Map"
   ]
  },
  {
   "cell_type": "markdown",
   "metadata": {},
   "source": [
    "---"
   ]
  },
  {
   "cell_type": "code",
   "execution_count": null,
   "metadata": {},
   "outputs": [],
   "source": [
    "# etc_table = ee.FeatureCollection(\"projects/thurgau-irrigation/assets/FribourgAndVaud/ETc_WAPOR/ETc_Pasture_Broye\")\n",
    "\n",
    "# etc_df = geemap.ee_to_df(etc_table)\n",
    "\n",
    "# etc_df = add_date_column(etc_df)\n",
    "\n",
    "# etc_df[\"ETc\"] = etc_df[\"ETc\"]/10\n",
    "\n",
    "# print(etc_df.tail(12))\n"
   ]
  },
  {
   "cell_type": "code",
   "execution_count": null,
   "metadata": {},
   "outputs": [],
   "source": [
    "# et_green_collection1 = ee.ImageCollection(\n",
    "#     \"projects/thurgau-irrigation/assets/FribourgAndVaud/ET_green/ET_green_2020_dekadal_from_Landsat_30m\"\n",
    "# ).map(lambda img: back_to_float(img, SCALING_FACTOR))\n",
    "\n",
    "# et_green_collection2 = ee.ImageCollection(\n",
    "#     \"projects/thurgau-irrigation/assets/FribourgAndVaud/ET_green/ET_green_2020_dekadal_from_WaPOR_10m\"\n",
    "# ).map(lambda img: back_to_float(img, SCALING_FACTOR))"
   ]
  },
  {
   "cell_type": "code",
   "execution_count": null,
   "metadata": {},
   "outputs": [],
   "source": [
    "# ratio_df = compute_et_ratio_timeseries(\n",
    "#     et_collections=[et_green_collection1 ,et_green_collection2],\n",
    "#     etc_df=etc_df,\n",
    "#     et_band_name=\"ET_green\"\n",
    "# )\n",
    "\n",
    "# # Plot the results\n",
    "# plot_multiple_et_ratio_timeseries(ratio_df)\n",
    "\n",
    "# # You can also examine the raw data\n",
    "# print(ratio_df.head(36))"
   ]
  },
  {
   "cell_type": "markdown",
   "metadata": {},
   "source": [
    "## 3. Adding minimum irrigation thresholds"
   ]
  },
  {
   "cell_type": "code",
   "execution_count": null,
   "metadata": {},
   "outputs": [],
   "source": [
    "# YEAR = 2021\n",
    "# ET_PRODUCT = \"WaPOR_10m\"\n",
    "# ETC_THRESHOLD = 70\n",
    "\n",
    "\n",
    "# PATH_TO_FEATURE_COLLECTION = f\"projects/thurgau-irrigation/assets/FribourgAndVaud/ET_blue_per_field/ET_blue_per_field_{YEAR}_dekadal_from_{ET_PRODUCT}_ETC_threshold_{ETC_THRESHOLD}\"\n",
    "\n",
    "# fc = ee.FeatureCollection(PATH_TO_FEATURE_COLLECTION)"
   ]
  },
  {
   "cell_type": "code",
   "execution_count": null,
   "metadata": {},
   "outputs": [],
   "source": [
    "# def get_days_in_month(month: str) -> int:\n",
    "#     \"\"\"Return number of days in given month for {YEAR}.\"\"\"\n",
    "#     days_lookup = {\"04\": 30, \"05\": 31, \"06\": 30, \"07\": 31, \"08\": 31, \"09\": 30, \"10\": 31}\n",
    "#     return days_lookup[month]\n",
    "\n",
    "\n",
    "# def calculate_monthly_sums(feature: ee.Feature) -> ee.Feature:\n",
    "#     months = [\"04\", \"05\", \"06\", \"07\", \"08\", \"09\", \"10\"]\n",
    "#     area_ha = feature.geometry().area().divide(10000)\n",
    "\n",
    "#     new_properties = {}\n",
    "#     for month in months:\n",
    "#         days_in_month = get_days_in_month(month)\n",
    "\n",
    "#         # Get dekadal values\n",
    "#         d01 = ee.Number.parse(feature.get(f\"et_blue_m3_{YEAR}-{month}-01\"))\n",
    "#         d11 = ee.Number.parse(feature.get(f\"et_blue_m3_{YEAR}-{month}-11\"))\n",
    "#         d21 = ee.Number.parse(feature.get(f\"et_blue_m3_{YEAR}-{month}-21\"))\n",
    "\n",
    "#         # Calculate days for each dekad\n",
    "#         if month in [\"04\", \"06\", \"09\"]:\n",
    "#             days = [10, 10, 10]  # 30-day month\n",
    "#         else:\n",
    "#             days = [10, 10, 11]  # 31-day month\n",
    "\n",
    "#         # Weight values by days\n",
    "#         weighted_sum = (\n",
    "#             d01.multiply(days[0]).add(d11.multiply(days[1])).add(d21.multiply(days[2]))\n",
    "#         )\n",
    "\n",
    "#         # Set properties\n",
    "#         sum_property = f\"et_blue_m3_{YEAR}_{month}\"\n",
    "#         new_properties[sum_property] = weighted_sum\n",
    "\n",
    "#         per_ha_property = f\"et_blue_m3/ha_{YEAR}_{month}\"\n",
    "#         new_properties[per_ha_property] = weighted_sum.divide(area_ha)\n",
    "\n",
    "#     return feature.set(new_properties)\n",
    "\n",
    "\n",
    "# def process_collection(fc: ee.FeatureCollection) -> ee.FeatureCollection:\n",
    "#     return fc.map(calculate_monthly_sums)"
   ]
  },
  {
   "cell_type": "code",
   "execution_count": null,
   "metadata": {},
   "outputs": [],
   "source": [
    "# processed_fc = process_collection(fc)\n",
    "\n",
    "# processed_fc.first().getInfo()"
   ]
  },
  {
   "cell_type": "code",
   "execution_count": null,
   "metadata": {},
   "outputs": [],
   "source": [
    "# def filter_et_values(feature: ee.Feature, threshold: float) -> ee.Feature:\n",
    "#     months = [\"04\", \"05\", \"06\", \"07\", \"08\", \"09\", \"10\"]\n",
    "#     new_properties = {}\n",
    "\n",
    "#     threshold = ee.Number(threshold)\n",
    "\n",
    "#     feature = feature.set({\"minimum_irrigation_threshold\": threshold})\n",
    "\n",
    "#     for month in months:\n",
    "#         # Get number of empty images for the month\n",
    "#         empty_images = ee.Number(feature.get(f\"empty_images_month_{month}\"))\n",
    "\n",
    "#         # Calculate adjusted threshold\n",
    "#         adjusted_threshold = threshold.multiply(\n",
    "#             ee.Number(3).subtract(empty_images)\n",
    "#         ).divide(3)\n",
    "\n",
    "#         # Get and filter ET value\n",
    "#         property_name = f\"et_blue_m3/ha_{YEAR}_{month}\"\n",
    "#         value = ee.Number(feature.get(property_name))\n",
    "#         filtered_value = ee.Algorithms.If(value.lt(adjusted_threshold), 0, value)\n",
    "#         new_properties[f\"filtered_{property_name}\"] = filtered_value\n",
    "\n",
    "#     return feature.set(new_properties)\n",
    "\n",
    "\n",
    "# # filtered_fc = processed_fc.map(lambda f: filter_et_values(f, 0))\n",
    "# for threshold in [100, 140]:\n",
    "#     filtered_fc = processed_fc.map(lambda f: filter_et_values(f, threshold))\n",
    "\n",
    "#     task_name = f\"min_irr_{int(threshold)}_{YEAR}\"\n",
    "\n",
    "#     export_name = PATH_TO_FEATURE_COLLECTION + f\"_min_irr_{int(threshold)}\"\n",
    "\n",
    "#     export_feature_collection(\n",
    "#         collection=filtered_fc,\n",
    "#         task_name=task_name,\n",
    "#         asset_id=export_name,\n",
    "#     )\n",
    "\n",
    "#     print(f\"Exported {export_name} for {ET_PRODUCT}\")\n",
    "\n",
    "\n",
    "# filtered_fc.first().getInfo()"
   ]
  },
  {
   "cell_type": "code",
   "execution_count": null,
   "metadata": {},
   "outputs": [],
   "source": [
    "# Map = geemap.Map(height=\"800px\")\n",
    "\n",
    "\n",
    "# irrigation_09 = processed_fc.reduceToImage(\n",
    "#     properties=[\"et_blue_m3/ha_2018_08\"], reducer=ee.Reducer.first()\n",
    "# )\n",
    "\n",
    "# Map.addLayer(\n",
    "#     irrigation_09, {\"min\": 0, \"max\": 200, \"palette\": \"viridis\"}, \"irrigation_08\"\n",
    "# )\n",
    "\n",
    "# Map.add_colorbar({\"min\": 0, \"max\": 200, \"palette\": \"viridis\"})\n",
    "\n",
    "# Map.addLayer(processed_fc, {}, \"ET_blue_per_field\")\n",
    "# Map.centerObject(processed_fc, 12)\n",
    "\n",
    "# Map"
   ]
  },
  {
   "cell_type": "code",
   "execution_count": null,
   "metadata": {},
   "outputs": [],
   "source": [
    "# import matplotlib.pyplot as plt\n",
    "# import numpy as np\n",
    "# from typing import List, Tuple\n",
    "# import re\n",
    "\n",
    "# def get_et_blue_properties(feature: ee.Feature) -> Tuple[List[float], float]:\n",
    "#     \"\"\"Extract positive dekadal et_blue values and area from feature.\"\"\"\n",
    "#     properties = feature.toDictionary().getInfo()\n",
    "#     geometry = feature.geometry().area().getInfo()\n",
    "#     area_ha = geometry / 10000  # Convert square meters to hectares\n",
    "    \n",
    "#     dekadal_pattern = re.compile(r'et_blue_m3_\\d{4}-\\d{2}-(01|11|21)$')\n",
    "#     et_blue_values = [\n",
    "#         float(value) for key, value in properties.items()\n",
    "#         if dekadal_pattern.match(key) and \n",
    "#         isinstance(value, (int, float)) and \n",
    "#         value > 0\n",
    "#     ]\n",
    "#     return et_blue_values, area_ha\n",
    "\n",
    "# def calculate_field_means(fc: ee.FeatureCollection) -> List[float]:\n",
    "#     \"\"\"Calculate mean positive et_blue values per hectare for each field.\"\"\"\n",
    "#     means = []\n",
    "#     features = fc.getInfo()['features']\n",
    "    \n",
    "#     for feature in features:\n",
    "#         values, area = get_et_blue_properties(ee.Feature(feature))\n",
    "#         if values:\n",
    "#             # Normalize by area\n",
    "#             normalized_values = [v / area for v in values]\n",
    "#             means.append(np.mean(normalized_values))\n",
    "    \n",
    "#     return means\n",
    "\n",
    "# def plot_histogram(means: List[float], bins: int = 30) -> None:\n",
    "#     \"\"\"Create histogram of mean et_blue values.\"\"\"\n",
    "#     plt.figure(figsize=(10, 6))\n",
    "#     plt.hist(means, bins=bins, edgecolor='black')\n",
    "#     plt.xlabel('Mean Positive ET Blue (m³/ha)')\n",
    "#     plt.ylabel('Frequency')\n",
    "#     plt.title('Distribution of Mean Positive Dekadal ET Blue Values')\n",
    "#     plt.grid(True, alpha=0.3)\n",
    "#     sns.despine()\n",
    "#     plt.show()\n",
    "\n",
    "# means = calculate_field_means(filtered_fc)\n",
    "# plot_histogram(means)"
   ]
  },
  {
   "cell_type": "markdown",
   "metadata": {},
   "source": [
    "## 4. Final step: preparing the table for Keiser"
   ]
  },
  {
   "cell_type": "code",
   "execution_count": null,
   "metadata": {},
   "outputs": [],
   "source": [
    "# YEAR = 2018\n",
    "ET_PRODUCT = \"WaPOR_10m\"\n",
    "# MIN_IRRIGATION_THRESHOLD = 100  # m³/ha\n",
    "# ETC_THRESHOLD = 70  # %\n",
    "\n",
    "\n",
    "# PATH_TO_FEATURE_COLLECTION = f\"projects/thurgau-irrigation/assets/FribourgAndVaud/ET_blue_per_field/ET_blue_per_field_{YEAR}_dekadal_from_{ET_PRODUCT}_ETC_threshold_{ETC_THRESHOLD}_min_irr_{MIN_IRRIGATION_THRESHOLD}\"\n",
    "\n",
    "# fc = ee.FeatureCollection(PATH_TO_FEATURE_COLLECTION)"
   ]
  },
  {
   "cell_type": "code",
   "execution_count": null,
   "metadata": {},
   "outputs": [],
   "source": [
    "# fc.first().getInfo()"
   ]
  },
  {
   "cell_type": "code",
   "execution_count": null,
   "metadata": {},
   "outputs": [],
   "source": [
    "from typing import List, Dict\n",
    "\n",
    "\n",
    "def get_collection_path(year: int, min_irr: int, etc: float) -> str:\n",
    "    \"\"\"Generate path for feature collection based on parameters.\"\"\"\n",
    "    return f\"projects/thurgau-irrigation/assets/FribourgAndVaud/ET_blue_per_field/ET_blue_per_field_{year}_dekadal_from_{ET_PRODUCT}_ETC_threshold_{int(etc*100)}_min_irr_{min_irr}\"\n",
    "\n",
    "\n",
    "def calculate_yearly_sum(feature: ee.Feature, year: int) -> ee.Feature:\n",
    "    \"\"\"Calculate yearly sum of filtered ET blue values.\"\"\"\n",
    "    months = [\"04\", \"05\", \"06\", \"07\", \"08\", \"09\", \"10\"]\n",
    "    properties = [f\"filtered_et_blue_m3/ha_{year}_{month}\" for month in months]\n",
    "    yearly_sum = ee.Number(0)\n",
    "\n",
    "    for prop in properties:\n",
    "        yearly_sum = yearly_sum.add(ee.Number(feature.get(prop)))\n",
    "\n",
    "    return feature.set(\"yearly_sum\", yearly_sum)\n",
    "\n",
    "\n",
    "def process_collections(years: List[int]) -> pd.DataFrame:\n",
    "    \"\"\"Process collections for multiple years and compute irrigation confidence.\"\"\"\n",
    "    min_irr_thresholds = [100, 140]\n",
    "    etc_thresholds = [0.6, 0.7]\n",
    "    id_sums: Dict[str, Dict[int, int]] = {}\n",
    "\n",
    "    for year in years:\n",
    "        for min_irr in min_irr_thresholds:\n",
    "            for etc in etc_thresholds:\n",
    "                path = get_collection_path(year, min_irr, etc)\n",
    "                fc = ee.FeatureCollection(path)\n",
    "                fc_with_sums = fc.map(lambda f: calculate_yearly_sum(f, year))\n",
    "                results = fc_with_sums.select([\"ID\", \"yearly_sum\"]).getInfo()\n",
    "\n",
    "                for feature in results[\"features\"]:\n",
    "                    id_val = feature[\"properties\"][\"ID\"]\n",
    "                    yearly_sum = feature[\"properties\"][\"yearly_sum\"]\n",
    "\n",
    "                    if id_val not in id_sums:\n",
    "                        id_sums[id_val] = {y: 0 for y in years}\n",
    "\n",
    "                    if yearly_sum > 0:\n",
    "                        id_sums[id_val][year] += 1\n",
    "\n",
    "    df_data = []\n",
    "    for id_val, year_counts in id_sums.items():\n",
    "        row_data = {\"ID\": id_val}\n",
    "        # Extract cultivation year from ID (first two digits)\n",
    "        cultivation_year = 2000 + int(id_val.split(\"-\")[0])\n",
    "\n",
    "        for year in years:\n",
    "            if year == cultivation_year:\n",
    "                row_data[f\"confidence_{year} [%]\"] = (year_counts[year] / 4.0) * 100\n",
    "            else:\n",
    "                row_data[f\"confidence_{year} [%]\"] = \"KA\"\n",
    "\n",
    "        df_data.append(row_data)\n",
    "\n",
    "    return pd.DataFrame(df_data)"
   ]
  },
  {
   "cell_type": "code",
   "execution_count": null,
   "metadata": {},
   "outputs": [],
   "source": [
    "years = [2018, 2019, 2020, 2021]\n",
    "results = process_collections(years)"
   ]
  },
  {
   "cell_type": "code",
   "execution_count": null,
   "metadata": {},
   "outputs": [],
   "source": [
    "results.to_csv(f\"/Users/cooper/Desktop/irrigation-mapper/data/irrigation_confidence_{ET_PRODUCT}.csv\", index=False)"
   ]
  },
  {
   "cell_type": "code",
   "execution_count": null,
   "metadata": {},
   "outputs": [],
   "source": []
  }
 ],
 "metadata": {
  "kernelspec": {
   "display_name": "geemap_env",
   "language": "python",
   "name": "python3"
  },
  "language_info": {
   "codemirror_mode": {
    "name": "ipython",
    "version": 3
   },
   "file_extension": ".py",
   "mimetype": "text/x-python",
   "name": "python",
   "nbconvert_exporter": "python",
   "pygments_lexer": "ipython3",
   "version": "3.11.10"
  }
 },
 "nbformat": 4,
 "nbformat_minor": 2
}
