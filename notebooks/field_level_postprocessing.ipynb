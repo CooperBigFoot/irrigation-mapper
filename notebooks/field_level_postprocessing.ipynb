{
 "cells": [
  {
   "cell_type": "code",
   "execution_count": 1,
   "metadata": {},
   "outputs": [],
   "source": [
    "import sys\n",
    "from pathlib import Path\n",
    "sys.path.append(str(Path().absolute().parent))\n"
   ]
  },
  {
   "cell_type": "code",
   "execution_count": 2,
   "metadata": {},
   "outputs": [
    {
     "name": "stderr",
     "output_type": "stream",
     "text": [
      "*** Earth Engine *** Share your feedback by taking our Annual Developer Satisfaction Survey: https://google.qualtrics.com/jfe/form/SV_0JLhFqfSY1uiEaW?source=Init\n"
     ]
    }
   ],
   "source": [
    "import ee \n",
    "import geemap\n",
    "\n",
    "ee.Initialize(project=\"thurgau-irrigation\")"
   ]
  },
  {
   "cell_type": "code",
   "execution_count": 3,
   "metadata": {},
   "outputs": [
    {
     "data": {
      "text/html": [
       "\n",
       "            <style>\n",
       "                .geemap-dark {\n",
       "                    --jp-widgets-color: white;\n",
       "                    --jp-widgets-label-color: white;\n",
       "                    --jp-ui-font-color1: white;\n",
       "                    --jp-layout-color2: #454545;\n",
       "                    background-color: #383838;\n",
       "                }\n",
       "\n",
       "                .geemap-dark .jupyter-button {\n",
       "                    --jp-layout-color3: #383838;\n",
       "                }\n",
       "\n",
       "                .geemap-colab {\n",
       "                    background-color: var(--colab-primary-surface-color, white);\n",
       "                }\n",
       "\n",
       "                .geemap-colab .jupyter-button {\n",
       "                    --jp-layout-color3: var(--colab-primary-surface-color, white);\n",
       "                }\n",
       "            </style>\n",
       "            "
      ],
      "text/plain": [
       "<IPython.core.display.HTML object>"
      ]
     },
     "metadata": {},
     "output_type": "display_data"
    }
   ],
   "source": [
    "from typing import Tuple\n",
    "import matplotlib.pyplot as plt\n",
    "import seaborn as sns\n",
    "import numpy as np\n",
    "import pandas as pd\n",
    "\n",
    "from src.et_blue_per_field.et_blue_field_postprocessing import (\n",
    "    compute_field_et_stats,\n",
    "    compute_et_volume,\n",
    "    threshold_et_volume,\n",
    ")\n",
    "from src.et_blue_per_field.etc_look_up_processing import (\n",
    "    add_date_column,\n",
    "    compute_et_ratio_timeseries,\n",
    "    plot_multiple_et_ratio_timeseries,\n",
    "    create_et_mask,\n",
    ")\n",
    "\n",
    "from utils.ee_utils import (\n",
    "    back_to_float,\n",
    "    back_to_int,\n",
    "    export_image_to_asset,\n",
    "    print_value_ranges,\n",
    "    is_image_empty,\n",
    "    fill_gaps_with_zeros,\n",
    "    export_feature_collection,\n",
    ")\n",
    "\n",
    "from utils.date_utils import print_collection_dates, merge_same_date_images"
   ]
  },
  {
   "cell_type": "markdown",
   "metadata": {},
   "source": [
    "---"
   ]
  },
  {
   "cell_type": "markdown",
   "metadata": {},
   "source": [
    "## Constants"
   ]
  },
  {
   "cell_type": "code",
   "execution_count": 4,
   "metadata": {},
   "outputs": [
    {
     "data": {
      "text/html": [
       "\n",
       "            <style>\n",
       "                .geemap-dark {\n",
       "                    --jp-widgets-color: white;\n",
       "                    --jp-widgets-label-color: white;\n",
       "                    --jp-ui-font-color1: white;\n",
       "                    --jp-layout-color2: #454545;\n",
       "                    background-color: #383838;\n",
       "                }\n",
       "\n",
       "                .geemap-dark .jupyter-button {\n",
       "                    --jp-layout-color3: #383838;\n",
       "                }\n",
       "\n",
       "                .geemap-colab {\n",
       "                    background-color: var(--colab-primary-surface-color, white);\n",
       "                }\n",
       "\n",
       "                .geemap-colab .jupyter-button {\n",
       "                    --jp-layout-color3: var(--colab-primary-surface-color, white);\n",
       "                }\n",
       "            </style>\n",
       "            "
      ],
      "text/plain": [
       "<IPython.core.display.HTML object>"
      ]
     },
     "metadata": {},
     "output_type": "display_data"
    }
   ],
   "source": [
    "# YEAR = 2019\n",
    "\n",
    "# ETC_THRESHOLD = 0.6\n",
    "# MINIMUM_IRRIGATION_THRESHOLD = 0\n",
    "\n",
    "# ET_PRODUCT = \"Landsat_30m\"\n",
    "\n",
    "\n",
    "# PATH_TO_ET_BLUE_POSTPROCESSED = f\"projects/thurgau-irrigation/assets/FribourgAndVaud/ET_blue_postprocessed/ET_blue_postprocessed_{YEAR}_dekadal_from_WaPOR_10m\"\n",
    "# PATH_TO_FIELD_BOUNDARIES = (\n",
    "#     f\"projects/thurgau-irrigation/assets/FribourgAndVaud/blind_potato_fields\"\n",
    "# )\n",
    "# PATH_TO_ET_GREEN = f\"projects/thurgau-irrigation/assets/FribourgAndVaud/ET_green/ET_green_{YEAR}_dekadal_from_WaPOR_10m\"\n",
    "# PATH_TO_ETC_LOOK_UP = (\n",
    "#     f\"projects/thurgau-irrigation/assets/FribourgAndVaud/ETc_WAPOR/ETc_Pasture_Broye\"\n",
    "# )\n",
    "\n",
    "# TEMPORAL_RESOLUTION = \"dekadal\"\n",
    "# SCALING_FACTOR = 100\n",
    "\n",
    "# PATH_TO_POSTPROCESSED_FIELD_LEVEL_ET_BLUE = f\"projects/thurgau-irrigation/assets/FribourgAndVaud/ET_blue_per_field/ET_blue_per_field_{YEAR}_{TEMPORAL_RESOLUTION}_from_{ET_PRODUCT}_ETC_threshold_{int(ETC_THRESHOLD * 100)}\""
   ]
  },
  {
   "cell_type": "markdown",
   "metadata": {},
   "source": [
    "## 0. Load the assets"
   ]
  },
  {
   "cell_type": "code",
   "execution_count": 5,
   "metadata": {},
   "outputs": [
    {
     "data": {
      "text/html": [
       "\n",
       "            <style>\n",
       "                .geemap-dark {\n",
       "                    --jp-widgets-color: white;\n",
       "                    --jp-widgets-label-color: white;\n",
       "                    --jp-ui-font-color1: white;\n",
       "                    --jp-layout-color2: #454545;\n",
       "                    background-color: #383838;\n",
       "                }\n",
       "\n",
       "                .geemap-dark .jupyter-button {\n",
       "                    --jp-layout-color3: #383838;\n",
       "                }\n",
       "\n",
       "                .geemap-colab {\n",
       "                    background-color: var(--colab-primary-surface-color, white);\n",
       "                }\n",
       "\n",
       "                .geemap-colab .jupyter-button {\n",
       "                    --jp-layout-color3: var(--colab-primary-surface-color, white);\n",
       "                }\n",
       "            </style>\n",
       "            "
      ],
      "text/plain": [
       "<IPython.core.display.HTML object>"
      ]
     },
     "metadata": {},
     "output_type": "display_data"
    }
   ],
   "source": [
    "# crop_fields = ee.FeatureCollection(PATH_TO_FIELD_BOUNDARIES)"
   ]
  },
  {
   "cell_type": "code",
   "execution_count": 6,
   "metadata": {},
   "outputs": [
    {
     "data": {
      "text/html": [
       "\n",
       "            <style>\n",
       "                .geemap-dark {\n",
       "                    --jp-widgets-color: white;\n",
       "                    --jp-widgets-label-color: white;\n",
       "                    --jp-ui-font-color1: white;\n",
       "                    --jp-layout-color2: #454545;\n",
       "                    background-color: #383838;\n",
       "                }\n",
       "\n",
       "                .geemap-dark .jupyter-button {\n",
       "                    --jp-layout-color3: #383838;\n",
       "                }\n",
       "\n",
       "                .geemap-colab {\n",
       "                    background-color: var(--colab-primary-surface-color, white);\n",
       "                }\n",
       "\n",
       "                .geemap-colab .jupyter-button {\n",
       "                    --jp-layout-color3: var(--colab-primary-surface-color, white);\n",
       "                }\n",
       "            </style>\n",
       "            "
      ],
      "text/plain": [
       "<IPython.core.display.HTML object>"
      ]
     },
     "metadata": {},
     "output_type": "display_data"
    }
   ],
   "source": [
    "# et_green_collection = (\n",
    "#     ee.ImageCollection(PATH_TO_ET_GREEN)\n",
    "#     .filterDate(f\"{YEAR}-01-01\", f\"{YEAR}-12-31\")\n",
    "#     .map(lambda img: back_to_float(img, SCALING_FACTOR))\n",
    "# )\n",
    "\n",
    "# print_collection_dates(et_green_collection)"
   ]
  },
  {
   "cell_type": "code",
   "execution_count": 7,
   "metadata": {},
   "outputs": [
    {
     "data": {
      "text/html": [
       "\n",
       "            <style>\n",
       "                .geemap-dark {\n",
       "                    --jp-widgets-color: white;\n",
       "                    --jp-widgets-label-color: white;\n",
       "                    --jp-ui-font-color1: white;\n",
       "                    --jp-layout-color2: #454545;\n",
       "                    background-color: #383838;\n",
       "                }\n",
       "\n",
       "                .geemap-dark .jupyter-button {\n",
       "                    --jp-layout-color3: #383838;\n",
       "                }\n",
       "\n",
       "                .geemap-colab {\n",
       "                    background-color: var(--colab-primary-surface-color, white);\n",
       "                }\n",
       "\n",
       "                .geemap-colab .jupyter-button {\n",
       "                    --jp-layout-color3: var(--colab-primary-surface-color, white);\n",
       "                }\n",
       "            </style>\n",
       "            "
      ],
      "text/plain": [
       "<IPython.core.display.HTML object>"
      ]
     },
     "metadata": {},
     "output_type": "display_data"
    }
   ],
   "source": [
    "# ETc_look_up = ee.FeatureCollection(PATH_TO_ETC_LOOK_UP)\n",
    "\n",
    "# ETc_look_up_df = geemap.ee_to_df(ETc_look_up)\n",
    "\n",
    "# ETc_look_up_df = add_date_column(ETc_look_up_df)\n",
    "\n",
    "# ETc_look_up_df[\"ETc\"] = ETc_look_up_df[\"ETc\"] / 10\n",
    "\n",
    "# ETc_look_up_df = ETc_look_up_df.sort_values(by=\"Date\")\n",
    "\n",
    "# print(ETc_look_up_df.head(12))"
   ]
  },
  {
   "cell_type": "code",
   "execution_count": 8,
   "metadata": {},
   "outputs": [
    {
     "data": {
      "text/html": [
       "\n",
       "            <style>\n",
       "                .geemap-dark {\n",
       "                    --jp-widgets-color: white;\n",
       "                    --jp-widgets-label-color: white;\n",
       "                    --jp-ui-font-color1: white;\n",
       "                    --jp-layout-color2: #454545;\n",
       "                    background-color: #383838;\n",
       "                }\n",
       "\n",
       "                .geemap-dark .jupyter-button {\n",
       "                    --jp-layout-color3: #383838;\n",
       "                }\n",
       "\n",
       "                .geemap-colab {\n",
       "                    background-color: var(--colab-primary-surface-color, white);\n",
       "                }\n",
       "\n",
       "                .geemap-colab .jupyter-button {\n",
       "                    --jp-layout-color3: var(--colab-primary-surface-color, white);\n",
       "                }\n",
       "            </style>\n",
       "            "
      ],
      "text/plain": [
       "<IPython.core.display.HTML object>"
      ]
     },
     "metadata": {},
     "output_type": "display_data"
    }
   ],
   "source": [
    "# et_blue_postprocessed_collection = (\n",
    "#     ee.ImageCollection(PATH_TO_ET_BLUE_POSTPROCESSED)\n",
    "#     .filterDate(f\"{YEAR}-01-01\", f\"{YEAR}-12-31\")\n",
    "#     .map(lambda img: back_to_float(img, SCALING_FACTOR))\n",
    "# )\n",
    "\n",
    "# print_collection_dates(et_blue_postprocessed_collection)"
   ]
  },
  {
   "cell_type": "markdown",
   "metadata": {},
   "source": [
    "## 1. Mask ET blue pixels where ET green > X * ET<sub>c</sub>"
   ]
  },
  {
   "cell_type": "code",
   "execution_count": 9,
   "metadata": {},
   "outputs": [
    {
     "data": {
      "text/html": [
       "\n",
       "            <style>\n",
       "                .geemap-dark {\n",
       "                    --jp-widgets-color: white;\n",
       "                    --jp-widgets-label-color: white;\n",
       "                    --jp-ui-font-color1: white;\n",
       "                    --jp-layout-color2: #454545;\n",
       "                    background-color: #383838;\n",
       "                }\n",
       "\n",
       "                .geemap-dark .jupyter-button {\n",
       "                    --jp-layout-color3: #383838;\n",
       "                }\n",
       "\n",
       "                .geemap-colab {\n",
       "                    background-color: var(--colab-primary-surface-color, white);\n",
       "                }\n",
       "\n",
       "                .geemap-colab .jupyter-button {\n",
       "                    --jp-layout-color3: var(--colab-primary-surface-color, white);\n",
       "                }\n",
       "            </style>\n",
       "            "
      ],
      "text/plain": [
       "<IPython.core.display.HTML object>"
      ]
     },
     "metadata": {},
     "output_type": "display_data"
    }
   ],
   "source": [
    "# masked_collection = et_green_collection.map(lambda img: create_et_mask(img, ETc_look_up_df, \"ET_green\", ETC_THRESHOLD))"
   ]
  },
  {
   "cell_type": "code",
   "execution_count": 10,
   "metadata": {},
   "outputs": [
    {
     "data": {
      "text/html": [
       "\n",
       "            <style>\n",
       "                .geemap-dark {\n",
       "                    --jp-widgets-color: white;\n",
       "                    --jp-widgets-label-color: white;\n",
       "                    --jp-ui-font-color1: white;\n",
       "                    --jp-layout-color2: #454545;\n",
       "                    background-color: #383838;\n",
       "                }\n",
       "\n",
       "                .geemap-dark .jupyter-button {\n",
       "                    --jp-layout-color3: #383838;\n",
       "                }\n",
       "\n",
       "                .geemap-colab {\n",
       "                    background-color: var(--colab-primary-surface-color, white);\n",
       "                }\n",
       "\n",
       "                .geemap-colab .jupyter-button {\n",
       "                    --jp-layout-color3: var(--colab-primary-surface-color, white);\n",
       "                }\n",
       "            </style>\n",
       "            "
      ],
      "text/plain": [
       "<IPython.core.display.HTML object>"
      ]
     },
     "metadata": {},
     "output_type": "display_data"
    }
   ],
   "source": [
    "# def multiply_image_collections(\n",
    "#     col1: ee.ImageCollection, col2: ee.ImageCollection, band_name1: str, band_name2: str\n",
    "# ) -> ee.ImageCollection:\n",
    "#     \"\"\"\n",
    "#     Multiply images from two collections with matching dates for a specified band.\n",
    "\n",
    "#     Args:\n",
    "#         col1: First image collection\n",
    "#         col2: Second image collection\n",
    "#         band_name1: Band name from first collection to multiply\n",
    "#         band_name2: Band name from second collection to multiply\n",
    "\n",
    "#     Returns:\n",
    "#         Image collection containing the multiplied results\n",
    "#     \"\"\"\n",
    "#     # Sort both collections by date\n",
    "#     sorted_col1 = col1.sort(\"system:time_start\")\n",
    "#     sorted_col2 = col2.sort(\"system:time_start\")\n",
    "\n",
    "#     # Convert to lists for paired iteration\n",
    "#     col_list1 = sorted_col1.toList(sorted_col1.size())\n",
    "#     col_list2 = sorted_col2.toList(sorted_col2.size())\n",
    "\n",
    "#     def multiply_images(index):\n",
    "#         # Get corresponding images\n",
    "#         img1 = ee.Image(col_list1.get(index))\n",
    "#         img2 = ee.Image(col_list2.get(index))\n",
    "\n",
    "#         # Multiply the specified bands\n",
    "#         result = img1.select(band_name1).multiply(img2.select(band_name2))\n",
    "\n",
    "#         # Return result with the timestamp from first collection\n",
    "#         return result.copyProperties(img1, [\"system:time_start\"])\n",
    "\n",
    "#     # Create sequence for mapping\n",
    "#     sequence = ee.List.sequence(0, sorted_col1.size().subtract(1))\n",
    "\n",
    "#     # Map multiplication over the sequences\n",
    "#     return ee.ImageCollection(sequence.map(multiply_images))"
   ]
  },
  {
   "cell_type": "code",
   "execution_count": 11,
   "metadata": {},
   "outputs": [
    {
     "data": {
      "text/html": [
       "\n",
       "            <style>\n",
       "                .geemap-dark {\n",
       "                    --jp-widgets-color: white;\n",
       "                    --jp-widgets-label-color: white;\n",
       "                    --jp-ui-font-color1: white;\n",
       "                    --jp-layout-color2: #454545;\n",
       "                    background-color: #383838;\n",
       "                }\n",
       "\n",
       "                .geemap-dark .jupyter-button {\n",
       "                    --jp-layout-color3: #383838;\n",
       "                }\n",
       "\n",
       "                .geemap-colab {\n",
       "                    background-color: var(--colab-primary-surface-color, white);\n",
       "                }\n",
       "\n",
       "                .geemap-colab .jupyter-button {\n",
       "                    --jp-layout-color3: var(--colab-primary-surface-color, white);\n",
       "                }\n",
       "            </style>\n",
       "            "
      ],
      "text/plain": [
       "<IPython.core.display.HTML object>"
      ]
     },
     "metadata": {},
     "output_type": "display_data"
    }
   ],
   "source": [
    "# et_blue_masked = multiply_image_collections(et_blue_postprocessed_collection, masked_collection, \"ET_blue\", \"ET_green\")\n",
    "# et_blue_masked_list = et_blue_masked.toList(et_blue_masked.size())"
   ]
  },
  {
   "cell_type": "markdown",
   "metadata": {},
   "source": [
    "## 2. Compute ET blue statistics per field"
   ]
  },
  {
   "cell_type": "code",
   "execution_count": 12,
   "metadata": {},
   "outputs": [
    {
     "data": {
      "text/html": [
       "\n",
       "            <style>\n",
       "                .geemap-dark {\n",
       "                    --jp-widgets-color: white;\n",
       "                    --jp-widgets-label-color: white;\n",
       "                    --jp-ui-font-color1: white;\n",
       "                    --jp-layout-color2: #454545;\n",
       "                    background-color: #383838;\n",
       "                }\n",
       "\n",
       "                .geemap-dark .jupyter-button {\n",
       "                    --jp-layout-color3: #383838;\n",
       "                }\n",
       "\n",
       "                .geemap-colab {\n",
       "                    background-color: var(--colab-primary-surface-color, white);\n",
       "                }\n",
       "\n",
       "                .geemap-colab .jupyter-button {\n",
       "                    --jp-layout-color3: var(--colab-primary-surface-color, white);\n",
       "                }\n",
       "            </style>\n",
       "            "
      ],
      "text/plain": [
       "<IPython.core.display.HTML object>"
      ]
     },
     "metadata": {},
     "output_type": "display_data"
    }
   ],
   "source": [
    "# def count_empty_images_per_month(feature):\n",
    "#     properties = feature.propertyNames().filter(\n",
    "#         ee.Filter.stringContains(\"item\", \"median_et_blue\")\n",
    "#     )\n",
    "\n",
    "#     def count_empty_by_month(current_month, prev_feature):\n",
    "#         month_str = ee.Number(current_month).format(\"%02d\")\n",
    "#         month_props = properties.filter(ee.Filter.stringContains(\"item\", month_str))\n",
    "\n",
    "#         empty_count = month_props.map(\n",
    "#             lambda prop: ee.Number(\n",
    "#                 ee.Algorithms.If(ee.Number(feature.get(prop)).eq(-99), 1, 0)\n",
    "#             )\n",
    "#         ).reduce(ee.Reducer.sum())\n",
    "\n",
    "#         prop_name = ee.String(\"empty_images_month_\").cat(month_str)\n",
    "#         return ee.Feature(prev_feature).set(prop_name, empty_count)\n",
    "\n",
    "#     months = ee.List.sequence(4, 10)\n",
    "#     return months.iterate(count_empty_by_month, feature)\n"
   ]
  },
  {
   "cell_type": "code",
   "execution_count": 13,
   "metadata": {},
   "outputs": [
    {
     "data": {
      "text/html": [
       "\n",
       "            <style>\n",
       "                .geemap-dark {\n",
       "                    --jp-widgets-color: white;\n",
       "                    --jp-widgets-label-color: white;\n",
       "                    --jp-ui-font-color1: white;\n",
       "                    --jp-layout-color2: #454545;\n",
       "                    background-color: #383838;\n",
       "                }\n",
       "\n",
       "                .geemap-dark .jupyter-button {\n",
       "                    --jp-layout-color3: #383838;\n",
       "                }\n",
       "\n",
       "                .geemap-colab {\n",
       "                    background-color: var(--colab-primary-surface-color, white);\n",
       "                }\n",
       "\n",
       "                .geemap-colab .jupyter-button {\n",
       "                    --jp-layout-color3: var(--colab-primary-surface-color, white);\n",
       "                }\n",
       "            </style>\n",
       "            "
      ],
      "text/plain": [
       "<IPython.core.display.HTML object>"
      ]
     },
     "metadata": {},
     "output_type": "display_data"
    }
   ],
   "source": [
    "# dates = et_blue_masked.aggregate_array(\"system:time_start\")\n",
    "\n",
    "# dates = [ee.Date(date).format(\"YYYY-MM-dd\").getInfo() for date in dates.getInfo()]\n",
    "\n",
    "\n",
    "# crop_fields_iteration = crop_fields\n",
    "\n",
    "# crop_fields_iteration = crop_fields_iteration.map(\n",
    "#     lambda f: f.set(\n",
    "#         {\n",
    "#             \"etc_threshold\": ETC_THRESHOLD,\n",
    "#         }\n",
    "#     )\n",
    "# )\n",
    "\n",
    "# for i, date in enumerate(dates):\n",
    "\n",
    "#     image = ee.Image(et_blue_masked_list.get(i))\n",
    "\n",
    "#     fileds_with_stats = compute_field_et_stats(\n",
    "#         et_image=image,\n",
    "#         fields=crop_fields_iteration,\n",
    "#         et_band_name=\"ET_blue\",\n",
    "#         scale=10,\n",
    "#         date=date,\n",
    "#     )\n",
    "\n",
    "#     feature_with_m3 = compute_et_volume(fileds_with_stats, date=date)\n",
    "\n",
    "#     feature_with_m3 = threshold_et_volume(\n",
    "#         feature_with_m3, threshold=MINIMUM_IRRIGATION_THRESHOLD, date=date\n",
    "#     )\n",
    "\n",
    "#     crop_fields_iteration = feature_with_m3\n",
    "\n",
    "\n",
    "# updated_features = crop_fields_iteration.map(count_empty_images_per_month)\n",
    "\n",
    "# task_name = f\"field_et_blue_{ET_PRODUCT}_ETC_{ETC_THRESHOLD}_{YEAR}\"\n",
    "\n",
    "# export_feature_collection(\n",
    "#     collection=updated_features,\n",
    "#     task_name=task_name,\n",
    "#     asset_id=PATH_TO_POSTPROCESSED_FIELD_LEVEL_ET_BLUE,\n",
    "# )\n",
    "\n",
    "# updated_features.getInfo()"
   ]
  },
  {
   "cell_type": "markdown",
   "metadata": {},
   "source": [
    "---"
   ]
  },
  {
   "cell_type": "code",
   "execution_count": 14,
   "metadata": {},
   "outputs": [
    {
     "data": {
      "text/html": [
       "\n",
       "            <style>\n",
       "                .geemap-dark {\n",
       "                    --jp-widgets-color: white;\n",
       "                    --jp-widgets-label-color: white;\n",
       "                    --jp-ui-font-color1: white;\n",
       "                    --jp-layout-color2: #454545;\n",
       "                    background-color: #383838;\n",
       "                }\n",
       "\n",
       "                .geemap-dark .jupyter-button {\n",
       "                    --jp-layout-color3: #383838;\n",
       "                }\n",
       "\n",
       "                .geemap-colab {\n",
       "                    background-color: var(--colab-primary-surface-color, white);\n",
       "                }\n",
       "\n",
       "                .geemap-colab .jupyter-button {\n",
       "                    --jp-layout-color3: var(--colab-primary-surface-color, white);\n",
       "                }\n",
       "            </style>\n",
       "            "
      ],
      "text/plain": [
       "<IPython.core.display.HTML object>"
      ]
     },
     "metadata": {},
     "output_type": "display_data"
    }
   ],
   "source": [
    "# Map = geemap.Map()\n",
    "\n",
    "# et_blue_list = et_blue_masked.toList(et_blue_masked.size())\n",
    "# et_blue = ee.Image(et_blue_list.get(13))\n",
    "\n",
    "# vis_params = {\"bands\": [\"ET_blue\"], \"min\": 0, \"max\": 1, \"palette\": \"viridis\"}\n",
    "\n",
    "# Map.addLayer(et_blue, vis_params, \"ET_blue\")\n",
    "# Map.addLayer(crop_fields_iteration, {\"color\": \"red\"}, \"fields_with_stats\")\n",
    "\n",
    "# Map.centerObject(crop_fields, 12)\n",
    "\n",
    "\n",
    "# Map"
   ]
  },
  {
   "cell_type": "markdown",
   "metadata": {},
   "source": [
    "---"
   ]
  },
  {
   "cell_type": "code",
   "execution_count": 15,
   "metadata": {},
   "outputs": [
    {
     "data": {
      "text/html": [
       "\n",
       "            <style>\n",
       "                .geemap-dark {\n",
       "                    --jp-widgets-color: white;\n",
       "                    --jp-widgets-label-color: white;\n",
       "                    --jp-ui-font-color1: white;\n",
       "                    --jp-layout-color2: #454545;\n",
       "                    background-color: #383838;\n",
       "                }\n",
       "\n",
       "                .geemap-dark .jupyter-button {\n",
       "                    --jp-layout-color3: #383838;\n",
       "                }\n",
       "\n",
       "                .geemap-colab {\n",
       "                    background-color: var(--colab-primary-surface-color, white);\n",
       "                }\n",
       "\n",
       "                .geemap-colab .jupyter-button {\n",
       "                    --jp-layout-color3: var(--colab-primary-surface-color, white);\n",
       "                }\n",
       "            </style>\n",
       "            "
      ],
      "text/plain": [
       "<IPython.core.display.HTML object>"
      ]
     },
     "metadata": {},
     "output_type": "display_data"
    }
   ],
   "source": [
    "# etc_table = ee.FeatureCollection(\"projects/thurgau-irrigation/assets/FribourgAndVaud/ETc_WAPOR/ETc_Pasture_Broye\")\n",
    "\n",
    "# etc_df = geemap.ee_to_df(etc_table)\n",
    "\n",
    "# etc_df = add_date_column(etc_df)\n",
    "\n",
    "# etc_df[\"ETc\"] = etc_df[\"ETc\"]/10\n",
    "\n",
    "# print(etc_df.tail(12))\n"
   ]
  },
  {
   "cell_type": "code",
   "execution_count": 16,
   "metadata": {},
   "outputs": [
    {
     "data": {
      "text/html": [
       "\n",
       "            <style>\n",
       "                .geemap-dark {\n",
       "                    --jp-widgets-color: white;\n",
       "                    --jp-widgets-label-color: white;\n",
       "                    --jp-ui-font-color1: white;\n",
       "                    --jp-layout-color2: #454545;\n",
       "                    background-color: #383838;\n",
       "                }\n",
       "\n",
       "                .geemap-dark .jupyter-button {\n",
       "                    --jp-layout-color3: #383838;\n",
       "                }\n",
       "\n",
       "                .geemap-colab {\n",
       "                    background-color: var(--colab-primary-surface-color, white);\n",
       "                }\n",
       "\n",
       "                .geemap-colab .jupyter-button {\n",
       "                    --jp-layout-color3: var(--colab-primary-surface-color, white);\n",
       "                }\n",
       "            </style>\n",
       "            "
      ],
      "text/plain": [
       "<IPython.core.display.HTML object>"
      ]
     },
     "metadata": {},
     "output_type": "display_data"
    }
   ],
   "source": [
    "# et_green_collection1 = ee.ImageCollection(\n",
    "#     \"projects/thurgau-irrigation/assets/FribourgAndVaud/ET_green/ET_green_2020_dekadal_from_Landsat_30m\"\n",
    "# ).map(lambda img: back_to_float(img, SCALING_FACTOR))\n",
    "\n",
    "# et_green_collection2 = ee.ImageCollection(\n",
    "#     \"projects/thurgau-irrigation/assets/FribourgAndVaud/ET_green/ET_green_2020_dekadal_from_WaPOR_10m\"\n",
    "# ).map(lambda img: back_to_float(img, SCALING_FACTOR))"
   ]
  },
  {
   "cell_type": "code",
   "execution_count": 17,
   "metadata": {},
   "outputs": [
    {
     "data": {
      "text/html": [
       "\n",
       "            <style>\n",
       "                .geemap-dark {\n",
       "                    --jp-widgets-color: white;\n",
       "                    --jp-widgets-label-color: white;\n",
       "                    --jp-ui-font-color1: white;\n",
       "                    --jp-layout-color2: #454545;\n",
       "                    background-color: #383838;\n",
       "                }\n",
       "\n",
       "                .geemap-dark .jupyter-button {\n",
       "                    --jp-layout-color3: #383838;\n",
       "                }\n",
       "\n",
       "                .geemap-colab {\n",
       "                    background-color: var(--colab-primary-surface-color, white);\n",
       "                }\n",
       "\n",
       "                .geemap-colab .jupyter-button {\n",
       "                    --jp-layout-color3: var(--colab-primary-surface-color, white);\n",
       "                }\n",
       "            </style>\n",
       "            "
      ],
      "text/plain": [
       "<IPython.core.display.HTML object>"
      ]
     },
     "metadata": {},
     "output_type": "display_data"
    }
   ],
   "source": [
    "# ratio_df = compute_et_ratio_timeseries(\n",
    "#     et_collections=[et_green_collection1 ,et_green_collection2],\n",
    "#     etc_df=etc_df,\n",
    "#     et_band_name=\"ET_green\"\n",
    "# )\n",
    "\n",
    "# # Plot the results\n",
    "# plot_multiple_et_ratio_timeseries(ratio_df)\n",
    "\n",
    "# # You can also examine the raw data\n",
    "# print(ratio_df.head(36))"
   ]
  },
  {
   "cell_type": "markdown",
   "metadata": {},
   "source": [
    "## Sanity check"
   ]
  },
  {
   "cell_type": "code",
   "execution_count": 18,
   "metadata": {},
   "outputs": [
    {
     "data": {
      "text/html": [
       "\n",
       "            <style>\n",
       "                .geemap-dark {\n",
       "                    --jp-widgets-color: white;\n",
       "                    --jp-widgets-label-color: white;\n",
       "                    --jp-ui-font-color1: white;\n",
       "                    --jp-layout-color2: #454545;\n",
       "                    background-color: #383838;\n",
       "                }\n",
       "\n",
       "                .geemap-dark .jupyter-button {\n",
       "                    --jp-layout-color3: #383838;\n",
       "                }\n",
       "\n",
       "                .geemap-colab {\n",
       "                    background-color: var(--colab-primary-surface-color, white);\n",
       "                }\n",
       "\n",
       "                .geemap-colab .jupyter-button {\n",
       "                    --jp-layout-color3: var(--colab-primary-surface-color, white);\n",
       "                }\n",
       "            </style>\n",
       "            "
      ],
      "text/plain": [
       "<IPython.core.display.HTML object>"
      ]
     },
     "metadata": {},
     "output_type": "display_data"
    }
   ],
   "source": [
    "YEAR = 2021\n",
    "ET_PRODUCT = \"WaPOR_10m\"\n",
    "\n",
    "\n",
    "PATH_TO_FEATURE_COLLECTION = f\"projects/thurgau-irrigation/assets/FribourgAndVaud/ET_blue_per_field/ET_blue_per_field_{YEAR}_dekadal_from_{ET_PRODUCT}_ETC_threshold_70\"\n",
    "\n",
    "fc = ee.FeatureCollection(PATH_TO_FEATURE_COLLECTION)"
   ]
  },
  {
   "cell_type": "code",
   "execution_count": 19,
   "metadata": {},
   "outputs": [
    {
     "data": {
      "text/html": [
       "\n",
       "            <style>\n",
       "                .geemap-dark {\n",
       "                    --jp-widgets-color: white;\n",
       "                    --jp-widgets-label-color: white;\n",
       "                    --jp-ui-font-color1: white;\n",
       "                    --jp-layout-color2: #454545;\n",
       "                    background-color: #383838;\n",
       "                }\n",
       "\n",
       "                .geemap-dark .jupyter-button {\n",
       "                    --jp-layout-color3: #383838;\n",
       "                }\n",
       "\n",
       "                .geemap-colab {\n",
       "                    background-color: var(--colab-primary-surface-color, white);\n",
       "                }\n",
       "\n",
       "                .geemap-colab .jupyter-button {\n",
       "                    --jp-layout-color3: var(--colab-primary-surface-color, white);\n",
       "                }\n",
       "            </style>\n",
       "            "
      ],
      "text/plain": [
       "<IPython.core.display.HTML object>"
      ]
     },
     "metadata": {},
     "output_type": "display_data"
    }
   ],
   "source": [
    "def get_days_in_month(month: str) -> int:\n",
    "    \"\"\"Return number of days in given month for {YEAR}.\"\"\"\n",
    "    days_lookup = {\"04\": 30, \"05\": 31, \"06\": 30, \"07\": 31, \"08\": 31, \"09\": 30, \"10\": 31}\n",
    "    return days_lookup[month]\n",
    "\n",
    "\n",
    "def calculate_monthly_sums(feature: ee.Feature) -> ee.Feature:\n",
    "    months = [\"04\", \"05\", \"06\", \"07\", \"08\", \"09\", \"10\"]\n",
    "    area_ha = feature.geometry().area().divide(10000)\n",
    "\n",
    "    new_properties = {}\n",
    "    for month in months:\n",
    "        days_in_month = get_days_in_month(month)\n",
    "\n",
    "        # Get dekadal values\n",
    "        d01 = ee.Number.parse(feature.get(f\"et_blue_m3_{YEAR}-{month}-01\"))\n",
    "        d11 = ee.Number.parse(feature.get(f\"et_blue_m3_{YEAR}-{month}-11\"))\n",
    "        d21 = ee.Number.parse(feature.get(f\"et_blue_m3_{YEAR}-{month}-21\"))\n",
    "\n",
    "        # Calculate days for each dekad\n",
    "        if month in [\"04\", \"06\", \"09\"]:\n",
    "            days = [10, 10, 10]  # 30-day month\n",
    "        else:\n",
    "            days = [10, 10, 11]  # 31-day month\n",
    "\n",
    "        # Weight values by days\n",
    "        weighted_sum = (\n",
    "            d01.multiply(days[0]).add(d11.multiply(days[1])).add(d21.multiply(days[2]))\n",
    "        )\n",
    "\n",
    "        # Set properties\n",
    "        sum_property = f\"et_blue_m3_{YEAR}_{month}\"\n",
    "        new_properties[sum_property] = weighted_sum\n",
    "\n",
    "        per_ha_property = f\"et_blue_m3/ha_{YEAR}_{month}\"\n",
    "        new_properties[per_ha_property] = weighted_sum.divide(area_ha)\n",
    "\n",
    "    return feature.set(new_properties)\n",
    "\n",
    "\n",
    "def process_collection(fc: ee.FeatureCollection) -> ee.FeatureCollection:\n",
    "    return fc.map(calculate_monthly_sums)"
   ]
  },
  {
   "cell_type": "code",
   "execution_count": 20,
   "metadata": {},
   "outputs": [
    {
     "data": {
      "text/html": [
       "\n",
       "            <style>\n",
       "                .geemap-dark {\n",
       "                    --jp-widgets-color: white;\n",
       "                    --jp-widgets-label-color: white;\n",
       "                    --jp-ui-font-color1: white;\n",
       "                    --jp-layout-color2: #454545;\n",
       "                    background-color: #383838;\n",
       "                }\n",
       "\n",
       "                .geemap-dark .jupyter-button {\n",
       "                    --jp-layout-color3: #383838;\n",
       "                }\n",
       "\n",
       "                .geemap-colab {\n",
       "                    background-color: var(--colab-primary-surface-color, white);\n",
       "                }\n",
       "\n",
       "                .geemap-colab .jupyter-button {\n",
       "                    --jp-layout-color3: var(--colab-primary-surface-color, white);\n",
       "                }\n",
       "            </style>\n",
       "            "
      ],
      "text/plain": [
       "<IPython.core.display.HTML object>"
      ]
     },
     "metadata": {},
     "output_type": "display_data"
    },
    {
     "data": {
      "text/plain": [
       "{'type': 'Feature',\n",
       " 'geometry': {'type': 'Polygon',\n",
       "  'coordinates': [[[6.840180777689016, 46.69885879703907],\n",
       "    [6.840247639448058, 46.6987785210351],\n",
       "    [6.840238700848878, 46.69873840208001],\n",
       "    [6.840292219343092, 46.69863589523111],\n",
       "    [6.8403636051081405, 46.69840398871507],\n",
       "    [6.842303252946304, 46.69753000944118],\n",
       "    [6.842784863222069, 46.69790014547235],\n",
       "    [6.842147218449351, 46.69818099836846],\n",
       "    [6.841670062779664, 46.69839951383048],\n",
       "    [6.840354673223982, 46.698997080890166],\n",
       "    [6.840180777689016, 46.69885879703907]]]},\n",
       " 'id': '0000000000000000003a',\n",
       " 'properties': {'ID': '20-1-510461',\n",
       "  'Jahr': 20,\n",
       "  'Kultur': 'Kartoffeln',\n",
       "  'empty_images_month_04': 0,\n",
       "  'empty_images_month_05': 0,\n",
       "  'empty_images_month_06': 0,\n",
       "  'empty_images_month_07': 0,\n",
       "  'empty_images_month_08': 0,\n",
       "  'empty_images_month_09': 0,\n",
       "  'empty_images_month_10': 0,\n",
       "  'et_blue_m3/ha_2021_04': 126.9999980926514,\n",
       "  'et_blue_m3/ha_2021_05': 87.99999952316286,\n",
       "  'et_blue_m3/ha_2021_06': 75,\n",
       "  'et_blue_m3/ha_2021_07': 64.40000146627428,\n",
       "  'et_blue_m3/ha_2021_08': 0,\n",
       "  'et_blue_m3/ha_2021_09': 0,\n",
       "  'et_blue_m3/ha_2021_10': 77.00000256299974,\n",
       "  'et_blue_m3_2021-04-01': 0,\n",
       "  'et_blue_m3_2021-04-11': 8.418328484793511,\n",
       "  'et_blue_m3_2021-04-21': 5.836707535367667,\n",
       "  'et_blue_m3_2021-05-01': 9.877505368635427,\n",
       "  'et_blue_m3_2021-05-11': 0,\n",
       "  'et_blue_m3_2021-05-21': 0,\n",
       "  'et_blue_m3_2021-06-01': 0,\n",
       "  'et_blue_m3_2021-06-11': 0,\n",
       "  'et_blue_m3_2021-06-21': 8.41832848479351,\n",
       "  'et_blue_m3_2021-07-01': 2.020398916633879,\n",
       "  'et_blue_m3_2021-07-11': 1.0101994583169394,\n",
       "  'et_blue_m3_2021-07-21': 3.816308953248109,\n",
       "  'et_blue_m3_2021-08-01': 0,\n",
       "  'et_blue_m3_2021-08-11': 0,\n",
       "  'et_blue_m3_2021-08-21': 0,\n",
       "  'et_blue_m3_2021-09-01': 0,\n",
       "  'et_blue_m3_2021-09-11': 0,\n",
       "  'et_blue_m3_2021-09-21': 0,\n",
       "  'et_blue_m3_2021-10-01': 6.061196749901637,\n",
       "  'et_blue_m3_2021-10-11': 2.5816207821686814,\n",
       "  'et_blue_m3_2021-10-21': 0,\n",
       "  'et_blue_m3_2021_04': 142.5503602016118,\n",
       "  'et_blue_m3_2021_05': 98.77505368635427,\n",
       "  'et_blue_m3_2021_06': 84.18328484793508,\n",
       "  'et_blue_m3_2021_07': 72.28538223523739,\n",
       "  'et_blue_m3_2021_08': 0,\n",
       "  'et_blue_m3_2021_09': 0,\n",
       "  'et_blue_m3_2021_10': 86.42817532070318,\n",
       "  'etc_threshold': 0.7,\n",
       "  'median_et_blue_2021-04-01': 0,\n",
       "  'median_et_blue_2021-04-11': 0.7500000000000001,\n",
       "  'median_et_blue_2021-04-21': 0.5199999809265136,\n",
       "  'median_et_blue_2021-05-01': 0.8799999952316285,\n",
       "  'median_et_blue_2021-05-11': 0,\n",
       "  'median_et_blue_2021-05-21': 0,\n",
       "  'median_et_blue_2021-06-01': 0,\n",
       "  'median_et_blue_2021-06-11': 0,\n",
       "  'median_et_blue_2021-06-21': 0.7499999999999999,\n",
       "  'median_et_blue_2021-07-01': 0.1800000071525574,\n",
       "  'median_et_blue_2021-07-11': 0.09000000357627869,\n",
       "  'median_et_blue_2021-07-21': 0.3400000035762787,\n",
       "  'median_et_blue_2021-08-01': 0,\n",
       "  'median_et_blue_2021-08-11': 0,\n",
       "  'median_et_blue_2021-08-21': 0,\n",
       "  'median_et_blue_2021-09-01': 0,\n",
       "  'median_et_blue_2021-09-11': 0,\n",
       "  'median_et_blue_2021-09-21': 0,\n",
       "  'median_et_blue_2021-10-01': 0.5400000214576721,\n",
       "  'median_et_blue_2021-10-11': 0.23000000417232516,\n",
       "  'median_et_blue_2021-10-21': 0,\n",
       "  'xkoord': 2554344.538,\n",
       "  'ykoord': 1172049.121,\n",
       "  'zero_fraction_2021-04-01': 0.7658959537572254,\n",
       "  'zero_fraction_2021-04-11': 0,\n",
       "  'zero_fraction_2021-04-21': 0,\n",
       "  'zero_fraction_2021-05-01': 0,\n",
       "  'zero_fraction_2021-05-11': 0.8732154049724911,\n",
       "  'zero_fraction_2021-05-21': 1,\n",
       "  'zero_fraction_2021-06-01': 1,\n",
       "  'zero_fraction_2021-06-11': 1,\n",
       "  'zero_fraction_2021-06-21': 0,\n",
       "  'zero_fraction_2021-07-01': 0.0008008914269795948,\n",
       "  'zero_fraction_2021-07-11': 0.06887666272024516,\n",
       "  'zero_fraction_2021-07-21': 0.2514102653388119,\n",
       "  'zero_fraction_2021-08-01': 1,\n",
       "  'zero_fraction_2021-08-11': 1,\n",
       "  'zero_fraction_2021-08-21': 0.964621491747336,\n",
       "  'zero_fraction_2021-09-01': 0.993906260881677,\n",
       "  'zero_fraction_2021-09-11': 0.9155930078696288,\n",
       "  'zero_fraction_2021-09-21': 0.9724214778187894,\n",
       "  'zero_fraction_2021-10-01': 0,\n",
       "  'zero_fraction_2021-10-11': 0.17992200013928547,\n",
       "  'zero_fraction_2021-10-21': 1}}"
      ]
     },
     "execution_count": 20,
     "metadata": {},
     "output_type": "execute_result"
    }
   ],
   "source": [
    "processed_fc = process_collection(fc)\n",
    "\n",
    "processed_fc.first().getInfo()"
   ]
  },
  {
   "cell_type": "code",
   "execution_count": 21,
   "metadata": {},
   "outputs": [
    {
     "data": {
      "text/html": [
       "\n",
       "            <style>\n",
       "                .geemap-dark {\n",
       "                    --jp-widgets-color: white;\n",
       "                    --jp-widgets-label-color: white;\n",
       "                    --jp-ui-font-color1: white;\n",
       "                    --jp-layout-color2: #454545;\n",
       "                    background-color: #383838;\n",
       "                }\n",
       "\n",
       "                .geemap-dark .jupyter-button {\n",
       "                    --jp-layout-color3: #383838;\n",
       "                }\n",
       "\n",
       "                .geemap-colab {\n",
       "                    background-color: var(--colab-primary-surface-color, white);\n",
       "                }\n",
       "\n",
       "                .geemap-colab .jupyter-button {\n",
       "                    --jp-layout-color3: var(--colab-primary-surface-color, white);\n",
       "                }\n",
       "            </style>\n",
       "            "
      ],
      "text/plain": [
       "<IPython.core.display.HTML object>"
      ]
     },
     "metadata": {},
     "output_type": "display_data"
    },
    {
     "name": "stdout",
     "output_type": "stream",
     "text": [
      "Exported projects/thurgau-irrigation/assets/FribourgAndVaud/ET_blue_per_field/ET_blue_per_field_2021_dekadal_from_WaPOR_10m_ETC_threshold_70_min_irr_100 for WaPOR_10m\n",
      "Exported projects/thurgau-irrigation/assets/FribourgAndVaud/ET_blue_per_field/ET_blue_per_field_2021_dekadal_from_WaPOR_10m_ETC_threshold_70_min_irr_140 for WaPOR_10m\n"
     ]
    },
    {
     "data": {
      "text/plain": [
       "{'type': 'Feature',\n",
       " 'geometry': {'type': 'Polygon',\n",
       "  'coordinates': [[[6.840180777689016, 46.69885879703907],\n",
       "    [6.840247639448058, 46.6987785210351],\n",
       "    [6.840238700848878, 46.69873840208001],\n",
       "    [6.840292219343092, 46.69863589523111],\n",
       "    [6.8403636051081405, 46.69840398871507],\n",
       "    [6.842303252946304, 46.69753000944118],\n",
       "    [6.842784863222069, 46.69790014547235],\n",
       "    [6.842147218449351, 46.69818099836846],\n",
       "    [6.841670062779664, 46.69839951383048],\n",
       "    [6.840354673223982, 46.698997080890166],\n",
       "    [6.840180777689016, 46.69885879703907]]]},\n",
       " 'id': '0000000000000000003a',\n",
       " 'properties': {'ID': '20-1-510461',\n",
       "  'Jahr': 20,\n",
       "  'Kultur': 'Kartoffeln',\n",
       "  'empty_images_month_04': 0,\n",
       "  'empty_images_month_05': 0,\n",
       "  'empty_images_month_06': 0,\n",
       "  'empty_images_month_07': 0,\n",
       "  'empty_images_month_08': 0,\n",
       "  'empty_images_month_09': 0,\n",
       "  'empty_images_month_10': 0,\n",
       "  'et_blue_m3/ha_2021_04': 126.9999980926514,\n",
       "  'et_blue_m3/ha_2021_05': 87.99999952316286,\n",
       "  'et_blue_m3/ha_2021_06': 75,\n",
       "  'et_blue_m3/ha_2021_07': 64.40000146627428,\n",
       "  'et_blue_m3/ha_2021_08': 0,\n",
       "  'et_blue_m3/ha_2021_09': 0,\n",
       "  'et_blue_m3/ha_2021_10': 77.00000256299974,\n",
       "  'et_blue_m3_2021-04-01': 0,\n",
       "  'et_blue_m3_2021-04-11': 8.418328484793511,\n",
       "  'et_blue_m3_2021-04-21': 5.836707535367667,\n",
       "  'et_blue_m3_2021-05-01': 9.877505368635427,\n",
       "  'et_blue_m3_2021-05-11': 0,\n",
       "  'et_blue_m3_2021-05-21': 0,\n",
       "  'et_blue_m3_2021-06-01': 0,\n",
       "  'et_blue_m3_2021-06-11': 0,\n",
       "  'et_blue_m3_2021-06-21': 8.41832848479351,\n",
       "  'et_blue_m3_2021-07-01': 2.020398916633879,\n",
       "  'et_blue_m3_2021-07-11': 1.0101994583169394,\n",
       "  'et_blue_m3_2021-07-21': 3.816308953248109,\n",
       "  'et_blue_m3_2021-08-01': 0,\n",
       "  'et_blue_m3_2021-08-11': 0,\n",
       "  'et_blue_m3_2021-08-21': 0,\n",
       "  'et_blue_m3_2021-09-01': 0,\n",
       "  'et_blue_m3_2021-09-11': 0,\n",
       "  'et_blue_m3_2021-09-21': 0,\n",
       "  'et_blue_m3_2021-10-01': 6.061196749901637,\n",
       "  'et_blue_m3_2021-10-11': 2.5816207821686814,\n",
       "  'et_blue_m3_2021-10-21': 0,\n",
       "  'et_blue_m3_2021_04': 142.5503602016118,\n",
       "  'et_blue_m3_2021_05': 98.77505368635427,\n",
       "  'et_blue_m3_2021_06': 84.18328484793508,\n",
       "  'et_blue_m3_2021_07': 72.28538223523739,\n",
       "  'et_blue_m3_2021_08': 0,\n",
       "  'et_blue_m3_2021_09': 0,\n",
       "  'et_blue_m3_2021_10': 86.42817532070318,\n",
       "  'etc_threshold': 0.7,\n",
       "  'filtered_et_blue_m3/ha_2021_04': 0,\n",
       "  'filtered_et_blue_m3/ha_2021_05': 0,\n",
       "  'filtered_et_blue_m3/ha_2021_06': 0,\n",
       "  'filtered_et_blue_m3/ha_2021_07': 0,\n",
       "  'filtered_et_blue_m3/ha_2021_08': 0,\n",
       "  'filtered_et_blue_m3/ha_2021_09': 0,\n",
       "  'filtered_et_blue_m3/ha_2021_10': 0,\n",
       "  'median_et_blue_2021-04-01': 0,\n",
       "  'median_et_blue_2021-04-11': 0.7500000000000001,\n",
       "  'median_et_blue_2021-04-21': 0.5199999809265136,\n",
       "  'median_et_blue_2021-05-01': 0.8799999952316285,\n",
       "  'median_et_blue_2021-05-11': 0,\n",
       "  'median_et_blue_2021-05-21': 0,\n",
       "  'median_et_blue_2021-06-01': 0,\n",
       "  'median_et_blue_2021-06-11': 0,\n",
       "  'median_et_blue_2021-06-21': 0.7499999999999999,\n",
       "  'median_et_blue_2021-07-01': 0.1800000071525574,\n",
       "  'median_et_blue_2021-07-11': 0.09000000357627869,\n",
       "  'median_et_blue_2021-07-21': 0.3400000035762787,\n",
       "  'median_et_blue_2021-08-01': 0,\n",
       "  'median_et_blue_2021-08-11': 0,\n",
       "  'median_et_blue_2021-08-21': 0,\n",
       "  'median_et_blue_2021-09-01': 0,\n",
       "  'median_et_blue_2021-09-11': 0,\n",
       "  'median_et_blue_2021-09-21': 0,\n",
       "  'median_et_blue_2021-10-01': 0.5400000214576721,\n",
       "  'median_et_blue_2021-10-11': 0.23000000417232516,\n",
       "  'median_et_blue_2021-10-21': 0,\n",
       "  'minimum_irrigation_threshold': 140,\n",
       "  'xkoord': 2554344.538,\n",
       "  'ykoord': 1172049.121,\n",
       "  'zero_fraction_2021-04-01': 0.7658959537572254,\n",
       "  'zero_fraction_2021-04-11': 0,\n",
       "  'zero_fraction_2021-04-21': 0,\n",
       "  'zero_fraction_2021-05-01': 0,\n",
       "  'zero_fraction_2021-05-11': 0.8732154049724911,\n",
       "  'zero_fraction_2021-05-21': 1,\n",
       "  'zero_fraction_2021-06-01': 1,\n",
       "  'zero_fraction_2021-06-11': 1,\n",
       "  'zero_fraction_2021-06-21': 0,\n",
       "  'zero_fraction_2021-07-01': 0.0008008914269795948,\n",
       "  'zero_fraction_2021-07-11': 0.06887666272024516,\n",
       "  'zero_fraction_2021-07-21': 0.2514102653388119,\n",
       "  'zero_fraction_2021-08-01': 1,\n",
       "  'zero_fraction_2021-08-11': 1,\n",
       "  'zero_fraction_2021-08-21': 0.964621491747336,\n",
       "  'zero_fraction_2021-09-01': 0.993906260881677,\n",
       "  'zero_fraction_2021-09-11': 0.9155930078696288,\n",
       "  'zero_fraction_2021-09-21': 0.9724214778187894,\n",
       "  'zero_fraction_2021-10-01': 0,\n",
       "  'zero_fraction_2021-10-11': 0.17992200013928547,\n",
       "  'zero_fraction_2021-10-21': 1}}"
      ]
     },
     "execution_count": 21,
     "metadata": {},
     "output_type": "execute_result"
    }
   ],
   "source": [
    "def filter_et_values(feature: ee.Feature, threshold: float) -> ee.Feature:\n",
    "    months = [\"04\", \"05\", \"06\", \"07\", \"08\", \"09\", \"10\"]\n",
    "    new_properties = {}\n",
    "\n",
    "    threshold = ee.Number(threshold)\n",
    "\n",
    "    feature = feature.set({\"minimum_irrigation_threshold\": threshold})\n",
    "\n",
    "    for month in months:\n",
    "        # Get number of empty images for the month\n",
    "        empty_images = ee.Number(feature.get(f\"empty_images_month_{month}\"))\n",
    "\n",
    "        # Calculate adjusted threshold\n",
    "        adjusted_threshold = threshold.multiply(\n",
    "            ee.Number(3).subtract(empty_images)\n",
    "        ).divide(3)\n",
    "\n",
    "        # Get and filter ET value\n",
    "        property_name = f\"et_blue_m3/ha_{YEAR}_{month}\"\n",
    "        value = ee.Number(feature.get(property_name))\n",
    "        filtered_value = ee.Algorithms.If(value.lt(adjusted_threshold), 0, value)\n",
    "        new_properties[f\"filtered_{property_name}\"] = filtered_value\n",
    "\n",
    "    return feature.set(new_properties)\n",
    "\n",
    "\n",
    "filtered_fc = processed_fc.map(lambda f: filter_et_values(f, 0))\n",
    "for threshold in [100, 140]:\n",
    "    filtered_fc = processed_fc.map(lambda f: filter_et_values(f, threshold))\n",
    "\n",
    "    task_name = f\"min_irr_{int(threshold)}_{YEAR}\"\n",
    "\n",
    "    export_name = PATH_TO_FEATURE_COLLECTION + f\"_min_irr_{int(threshold)}\"\n",
    "\n",
    "    export_feature_collection(\n",
    "        collection=filtered_fc,\n",
    "        task_name=task_name,\n",
    "        asset_id=export_name,\n",
    "    )\n",
    "\n",
    "    print(f\"Exported {export_name} for {ET_PRODUCT}\")\n",
    "\n",
    "\n",
    "filtered_fc.first().getInfo()"
   ]
  },
  {
   "cell_type": "code",
   "execution_count": 22,
   "metadata": {},
   "outputs": [
    {
     "data": {
      "text/html": [
       "\n",
       "            <style>\n",
       "                .geemap-dark {\n",
       "                    --jp-widgets-color: white;\n",
       "                    --jp-widgets-label-color: white;\n",
       "                    --jp-ui-font-color1: white;\n",
       "                    --jp-layout-color2: #454545;\n",
       "                    background-color: #383838;\n",
       "                }\n",
       "\n",
       "                .geemap-dark .jupyter-button {\n",
       "                    --jp-layout-color3: #383838;\n",
       "                }\n",
       "\n",
       "                .geemap-colab {\n",
       "                    background-color: var(--colab-primary-surface-color, white);\n",
       "                }\n",
       "\n",
       "                .geemap-colab .jupyter-button {\n",
       "                    --jp-layout-color3: var(--colab-primary-surface-color, white);\n",
       "                }\n",
       "            </style>\n",
       "            "
      ],
      "text/plain": [
       "<IPython.core.display.HTML object>"
      ]
     },
     "metadata": {},
     "output_type": "display_data"
    }
   ],
   "source": [
    "# Map = geemap.Map(height=\"800px\")\n",
    "\n",
    "\n",
    "# irrigation_09 = processed_fc.reduceToImage(\n",
    "#     properties=[\"et_blue_m3/ha_2018_08\"], reducer=ee.Reducer.first()\n",
    "# )\n",
    "\n",
    "# Map.addLayer(\n",
    "#     irrigation_09, {\"min\": 0, \"max\": 200, \"palette\": \"viridis\"}, \"irrigation_08\"\n",
    "# )\n",
    "\n",
    "# Map.add_colorbar({\"min\": 0, \"max\": 200, \"palette\": \"viridis\"})\n",
    "\n",
    "# Map.addLayer(processed_fc, {}, \"ET_blue_per_field\")\n",
    "# Map.centerObject(processed_fc, 12)\n",
    "\n",
    "# Map"
   ]
  },
  {
   "cell_type": "code",
   "execution_count": 23,
   "metadata": {},
   "outputs": [
    {
     "data": {
      "text/html": [
       "\n",
       "            <style>\n",
       "                .geemap-dark {\n",
       "                    --jp-widgets-color: white;\n",
       "                    --jp-widgets-label-color: white;\n",
       "                    --jp-ui-font-color1: white;\n",
       "                    --jp-layout-color2: #454545;\n",
       "                    background-color: #383838;\n",
       "                }\n",
       "\n",
       "                .geemap-dark .jupyter-button {\n",
       "                    --jp-layout-color3: #383838;\n",
       "                }\n",
       "\n",
       "                .geemap-colab {\n",
       "                    background-color: var(--colab-primary-surface-color, white);\n",
       "                }\n",
       "\n",
       "                .geemap-colab .jupyter-button {\n",
       "                    --jp-layout-color3: var(--colab-primary-surface-color, white);\n",
       "                }\n",
       "            </style>\n",
       "            "
      ],
      "text/plain": [
       "<IPython.core.display.HTML object>"
      ]
     },
     "metadata": {},
     "output_type": "display_data"
    }
   ],
   "source": [
    "# import matplotlib.pyplot as plt\n",
    "# import numpy as np\n",
    "# from typing import List, Tuple\n",
    "# import re\n",
    "\n",
    "# def get_et_blue_properties(feature: ee.Feature) -> Tuple[List[float], float]:\n",
    "#     \"\"\"Extract positive dekadal et_blue values and area from feature.\"\"\"\n",
    "#     properties = feature.toDictionary().getInfo()\n",
    "#     geometry = feature.geometry().area().getInfo()\n",
    "#     area_ha = geometry / 10000  # Convert square meters to hectares\n",
    "    \n",
    "#     dekadal_pattern = re.compile(r'et_blue_m3_\\d{4}-\\d{2}-(01|11|21)$')\n",
    "#     et_blue_values = [\n",
    "#         float(value) for key, value in properties.items()\n",
    "#         if dekadal_pattern.match(key) and \n",
    "#         isinstance(value, (int, float)) and \n",
    "#         value > 0\n",
    "#     ]\n",
    "#     return et_blue_values, area_ha\n",
    "\n",
    "# def calculate_field_means(fc: ee.FeatureCollection) -> List[float]:\n",
    "#     \"\"\"Calculate mean positive et_blue values per hectare for each field.\"\"\"\n",
    "#     means = []\n",
    "#     features = fc.getInfo()['features']\n",
    "    \n",
    "#     for feature in features:\n",
    "#         values, area = get_et_blue_properties(ee.Feature(feature))\n",
    "#         if values:\n",
    "#             # Normalize by area\n",
    "#             normalized_values = [v / area for v in values]\n",
    "#             means.append(np.mean(normalized_values))\n",
    "    \n",
    "#     return means\n",
    "\n",
    "# def plot_histogram(means: List[float], bins: int = 30) -> None:\n",
    "#     \"\"\"Create histogram of mean et_blue values.\"\"\"\n",
    "#     plt.figure(figsize=(10, 6))\n",
    "#     plt.hist(means, bins=bins, edgecolor='black')\n",
    "#     plt.xlabel('Mean Positive ET Blue (m³/ha)')\n",
    "#     plt.ylabel('Frequency')\n",
    "#     plt.title('Distribution of Mean Positive Dekadal ET Blue Values')\n",
    "#     plt.grid(True, alpha=0.3)\n",
    "#     sns.despine()\n",
    "#     plt.show()\n",
    "\n",
    "# means = calculate_field_means(filtered_fc)\n",
    "# plot_histogram(means)"
   ]
  },
  {
   "cell_type": "markdown",
   "metadata": {},
   "source": [
    "## Final step: preparing the table for Keiser"
   ]
  },
  {
   "cell_type": "code",
   "execution_count": 29,
   "metadata": {},
   "outputs": [
    {
     "data": {
      "text/html": [
       "\n",
       "            <style>\n",
       "                .geemap-dark {\n",
       "                    --jp-widgets-color: white;\n",
       "                    --jp-widgets-label-color: white;\n",
       "                    --jp-ui-font-color1: white;\n",
       "                    --jp-layout-color2: #454545;\n",
       "                    background-color: #383838;\n",
       "                }\n",
       "\n",
       "                .geemap-dark .jupyter-button {\n",
       "                    --jp-layout-color3: #383838;\n",
       "                }\n",
       "\n",
       "                .geemap-colab {\n",
       "                    background-color: var(--colab-primary-surface-color, white);\n",
       "                }\n",
       "\n",
       "                .geemap-colab .jupyter-button {\n",
       "                    --jp-layout-color3: var(--colab-primary-surface-color, white);\n",
       "                }\n",
       "            </style>\n",
       "            "
      ],
      "text/plain": [
       "<IPython.core.display.HTML object>"
      ]
     },
     "metadata": {},
     "output_type": "display_data"
    }
   ],
   "source": [
    "YEAR = 2018\n",
    "ET_PRODUCT = \"WaPOR_10m\"\n",
    "MIN_IRRIGATION_THRESHOLD = 100  # m³/ha\n",
    "ETC_THRESHOLD = 70  # %\n",
    "\n",
    "\n",
    "PATH_TO_FEATURE_COLLECTION = f\"projects/thurgau-irrigation/assets/FribourgAndVaud/ET_blue_per_field/ET_blue_per_field_{YEAR}_dekadal_from_{ET_PRODUCT}_ETC_threshold_{ETC_THRESHOLD}_min_irr_{MIN_IRRIGATION_THRESHOLD}\"\n",
    "\n",
    "fc = ee.FeatureCollection(PATH_TO_FEATURE_COLLECTION)"
   ]
  },
  {
   "cell_type": "code",
   "execution_count": 30,
   "metadata": {},
   "outputs": [
    {
     "data": {
      "text/html": [
       "\n",
       "            <style>\n",
       "                .geemap-dark {\n",
       "                    --jp-widgets-color: white;\n",
       "                    --jp-widgets-label-color: white;\n",
       "                    --jp-ui-font-color1: white;\n",
       "                    --jp-layout-color2: #454545;\n",
       "                    background-color: #383838;\n",
       "                }\n",
       "\n",
       "                .geemap-dark .jupyter-button {\n",
       "                    --jp-layout-color3: #383838;\n",
       "                }\n",
       "\n",
       "                .geemap-colab {\n",
       "                    background-color: var(--colab-primary-surface-color, white);\n",
       "                }\n",
       "\n",
       "                .geemap-colab .jupyter-button {\n",
       "                    --jp-layout-color3: var(--colab-primary-surface-color, white);\n",
       "                }\n",
       "            </style>\n",
       "            "
      ],
      "text/plain": [
       "<IPython.core.display.HTML object>"
      ]
     },
     "metadata": {},
     "output_type": "display_data"
    },
    {
     "data": {
      "text/plain": [
       "{'type': 'Feature',\n",
       " 'geometry': {'type': 'Polygon',\n",
       "  'coordinates': [[[6.898340787574285, 46.82566675554755],\n",
       "    [6.898380968295865, 46.82564443232396],\n",
       "    [6.8985682164940565, 46.8256488679297],\n",
       "    [6.898871397517888, 46.82567117592232],\n",
       "    [6.900851242980219, 46.828560704623655],\n",
       "    [6.900837916119662, 46.828565147649975],\n",
       "    [6.900360784718916, 46.82873013401383],\n",
       "    [6.900307299635416, 46.82870782203597],\n",
       "    [6.899303962420583, 46.82718283774913],\n",
       "    [6.898345301063176, 46.825706872132194],\n",
       "    [6.898340787574285, 46.82566675554755]]]},\n",
       " 'id': '00000000000000000000',\n",
       " 'properties': {'ID': '18-1-510429',\n",
       "  'Jahr': 18,\n",
       "  'Kultur': 'Kartoffeln',\n",
       "  'empty_images_month_04': 0,\n",
       "  'empty_images_month_05': 0,\n",
       "  'empty_images_month_06': 0,\n",
       "  'empty_images_month_07': 0,\n",
       "  'empty_images_month_08': 0,\n",
       "  'empty_images_month_09': 0,\n",
       "  'empty_images_month_10': 0,\n",
       "  'et_blue_m3/ha_2018_04': 18.00000071525574,\n",
       "  'et_blue_m3/ha_2018_05': 0,\n",
       "  'et_blue_m3/ha_2018_06': 43.00000071525574,\n",
       "  'et_blue_m3/ha_2018_07': 50.500000417232506,\n",
       "  'et_blue_m3/ha_2018_08': 70.30000120401382,\n",
       "  'et_blue_m3/ha_2018_09': 2.999999932944775,\n",
       "  'et_blue_m3/ha_2018_10': 0,\n",
       "  'et_blue_m3_2018-04-01': 2.7308500773526734,\n",
       "  'et_blue_m3_2018-04-11': 0,\n",
       "  'et_blue_m3_2018-04-21': 0,\n",
       "  'et_blue_m3_2018-05-01': 0,\n",
       "  'et_blue_m3_2018-05-11': 0,\n",
       "  'et_blue_m3_2018-05-21': 0,\n",
       "  'et_blue_m3_2018-06-01': 6.523697256294958,\n",
       "  'et_blue_m3_2018-06-11': 0,\n",
       "  'et_blue_m3_2018-06-21': 0,\n",
       "  'et_blue_m3_2018-07-01': 0,\n",
       "  'et_blue_m3_2018-07-11': 3.489419467926868,\n",
       "  'et_blue_m3_2018-07-21': 3.7928471789422846,\n",
       "  'et_blue_m3_2018-08-01': 3.489419467926868,\n",
       "  'et_blue_m3_2018-08-11': 0,\n",
       "  'et_blue_m3_2018-08-21': 6.523697256294958,\n",
       "  'et_blue_m3_2018-09-01': 0,\n",
       "  'et_blue_m3_2018-09-11': 0,\n",
       "  'et_blue_m3_2018-09-21': 0.45514165129986534,\n",
       "  'et_blue_m3_2018-10-01': 0,\n",
       "  'et_blue_m3_2018-10-11': 0,\n",
       "  'et_blue_m3_2018-10-21': 0,\n",
       "  'et_blue_m3_2018_04': 27.308500773526735,\n",
       "  'et_blue_m3_2018_05': 0,\n",
       "  'et_blue_m3_2018_06': 65.23697256294957,\n",
       "  'et_blue_m3_2018_07': 76.6155136476338,\n",
       "  'et_blue_m3_2018_08': 106.65486449851322,\n",
       "  'et_blue_m3_2018_09': 4.551416512998653,\n",
       "  'et_blue_m3_2018_10': 0,\n",
       "  'etc_threshold': 0.7,\n",
       "  'filtered_et_blue_m3/ha_2018_04': 0,\n",
       "  'filtered_et_blue_m3/ha_2018_05': 0,\n",
       "  'filtered_et_blue_m3/ha_2018_06': 0,\n",
       "  'filtered_et_blue_m3/ha_2018_07': 0,\n",
       "  'filtered_et_blue_m3/ha_2018_08': 0,\n",
       "  'filtered_et_blue_m3/ha_2018_09': 0,\n",
       "  'filtered_et_blue_m3/ha_2018_10': 0,\n",
       "  'median_et_blue_2018-04-01': 0.1800000071525574,\n",
       "  'median_et_blue_2018-04-11': 0,\n",
       "  'median_et_blue_2018-04-21': 0,\n",
       "  'median_et_blue_2018-05-01': 0,\n",
       "  'median_et_blue_2018-05-11': 0,\n",
       "  'median_et_blue_2018-05-21': 0,\n",
       "  'median_et_blue_2018-06-01': 0.4300000071525574,\n",
       "  'median_et_blue_2018-06-11': 0,\n",
       "  'median_et_blue_2018-06-21': 0,\n",
       "  'median_et_blue_2018-07-01': 0,\n",
       "  'median_et_blue_2018-07-11': 0.2300000041723251,\n",
       "  'median_et_blue_2018-07-21': 0.25,\n",
       "  'median_et_blue_2018-08-01': 0.2300000041723251,\n",
       "  'median_et_blue_2018-08-11': 0,\n",
       "  'median_et_blue_2018-08-21': 0.4300000071525574,\n",
       "  'median_et_blue_2018-09-01': 0,\n",
       "  'median_et_blue_2018-09-11': 0,\n",
       "  'median_et_blue_2018-09-21': 0.02999999932944775,\n",
       "  'median_et_blue_2018-10-01': 0,\n",
       "  'median_et_blue_2018-10-11': 0,\n",
       "  'median_et_blue_2018-10-21': 0,\n",
       "  'minimum_irrigation_threshold': 100,\n",
       "  'xkoord': 2558887.733,\n",
       "  'ykoord': 1186364.763,\n",
       "  'zero_fraction_2018-04-01': 0,\n",
       "  'zero_fraction_2018-04-11': 1,\n",
       "  'zero_fraction_2018-04-21': 1,\n",
       "  'zero_fraction_2018-05-01': 1,\n",
       "  'zero_fraction_2018-05-11': 1,\n",
       "  'zero_fraction_2018-05-21': 1,\n",
       "  'zero_fraction_2018-06-01': 0,\n",
       "  'zero_fraction_2018-06-11': 0.7540983606557373,\n",
       "  'zero_fraction_2018-06-21': 1,\n",
       "  'zero_fraction_2018-07-01': 1,\n",
       "  'zero_fraction_2018-07-11': 0.28627855944236474,\n",
       "  'zero_fraction_2018-07-21': 0.045359493997676505,\n",
       "  'zero_fraction_2018-08-01': 0.056460565380147126,\n",
       "  'zero_fraction_2018-08-11': 0.8327352523557504,\n",
       "  'zero_fraction_2018-08-21': 0.20263327739770223,\n",
       "  'zero_fraction_2018-09-01': 0.6216083645282044,\n",
       "  'zero_fraction_2018-09-11': 1,\n",
       "  'zero_fraction_2018-09-21': 0.48023751129469455,\n",
       "  'zero_fraction_2018-10-01': 1,\n",
       "  'zero_fraction_2018-10-11': 0.9841487027236347,\n",
       "  'zero_fraction_2018-10-21': 1}}"
      ]
     },
     "execution_count": 30,
     "metadata": {},
     "output_type": "execute_result"
    }
   ],
   "source": [
    "fc.first().getInfo()"
   ]
  },
  {
   "cell_type": "code",
   "execution_count": 31,
   "metadata": {},
   "outputs": [
    {
     "data": {
      "text/html": [
       "\n",
       "            <style>\n",
       "                .geemap-dark {\n",
       "                    --jp-widgets-color: white;\n",
       "                    --jp-widgets-label-color: white;\n",
       "                    --jp-ui-font-color1: white;\n",
       "                    --jp-layout-color2: #454545;\n",
       "                    background-color: #383838;\n",
       "                }\n",
       "\n",
       "                .geemap-dark .jupyter-button {\n",
       "                    --jp-layout-color3: #383838;\n",
       "                }\n",
       "\n",
       "                .geemap-colab {\n",
       "                    background-color: var(--colab-primary-surface-color, white);\n",
       "                }\n",
       "\n",
       "                .geemap-colab .jupyter-button {\n",
       "                    --jp-layout-color3: var(--colab-primary-surface-color, white);\n",
       "                }\n",
       "            </style>\n",
       "            "
      ],
      "text/plain": [
       "<IPython.core.display.HTML object>"
      ]
     },
     "metadata": {},
     "output_type": "display_data"
    }
   ],
   "source": [
    "from typing import List, Dict\n",
    "\n",
    "\n",
    "def get_collection_path(year: int, min_irr: int, etc: float) -> str:\n",
    "    \"\"\"Generate path for feature collection based on parameters.\"\"\"\n",
    "    return f\"projects/thurgau-irrigation/assets/FribourgAndVaud/ET_blue_per_field/ET_blue_per_field_{year}_dekadal_from_{ET_PRODUCT}_ETC_threshold_{int(etc*100)}_min_irr_{min_irr}\"\n",
    "\n",
    "\n",
    "def calculate_yearly_sum(feature: ee.Feature, year: int) -> ee.Feature:\n",
    "    \"\"\"Calculate yearly sum of filtered ET blue values.\"\"\"\n",
    "    months = [\"04\", \"05\", \"06\", \"07\", \"08\", \"09\", \"10\"]\n",
    "    properties = [f\"filtered_et_blue_m3/ha_{year}_{month}\" for month in months]\n",
    "    yearly_sum = ee.Number(0)\n",
    "\n",
    "    for prop in properties:\n",
    "        yearly_sum = yearly_sum.add(ee.Number(feature.get(prop)))\n",
    "\n",
    "    return feature.set(\"yearly_sum\", yearly_sum)\n",
    "\n",
    "\n",
    "def process_collections(years: List[int]) -> pd.DataFrame:\n",
    "    \"\"\"Process collections for multiple years and compute irrigation confidence.\"\"\"\n",
    "    min_irr_thresholds = [100, 140]\n",
    "    etc_thresholds = [0.6, 0.7]\n",
    "\n",
    "    # Dictionary to store yearly sums by ID and year\n",
    "    id_sums: Dict[str, Dict[int, int]] = {}\n",
    "\n",
    "    for year in years:\n",
    "        for min_irr in min_irr_thresholds:\n",
    "            for etc in etc_thresholds:\n",
    "                # Load collection\n",
    "                path = get_collection_path(year, min_irr, etc)\n",
    "                fc = ee.FeatureCollection(path)\n",
    "\n",
    "                # Calculate yearly sums\n",
    "                fc_with_sums = fc.map(lambda f: calculate_yearly_sum(f, year))\n",
    "\n",
    "                # Get results\n",
    "                results = fc_with_sums.select([\"ID\", \"yearly_sum\"]).getInfo()\n",
    "\n",
    "                # Process results\n",
    "                for feature in results[\"features\"]:\n",
    "                    id_val = feature[\"properties\"][\"ID\"]\n",
    "                    yearly_sum = feature[\"properties\"][\"yearly_sum\"]\n",
    "\n",
    "                    if id_val not in id_sums:\n",
    "                        id_sums[id_val] = {y: 0 for y in years}\n",
    "\n",
    "                    if yearly_sum > 0:\n",
    "                        id_sums[id_val][year] += 1\n",
    "\n",
    "    # Create DataFrame\n",
    "    df_data = []\n",
    "    for id_val, year_counts in id_sums.items():\n",
    "        row_data = {\"ID\": id_val}\n",
    "        for year in years:\n",
    "            row_data[f\"confidence_{year} [%]\"] = (year_counts[year] / 4.0) * 100\n",
    "        df_data.append(row_data)\n",
    "\n",
    "    return pd.DataFrame(df_data)"
   ]
  },
  {
   "cell_type": "code",
   "execution_count": 32,
   "metadata": {},
   "outputs": [
    {
     "data": {
      "text/html": [
       "\n",
       "            <style>\n",
       "                .geemap-dark {\n",
       "                    --jp-widgets-color: white;\n",
       "                    --jp-widgets-label-color: white;\n",
       "                    --jp-ui-font-color1: white;\n",
       "                    --jp-layout-color2: #454545;\n",
       "                    background-color: #383838;\n",
       "                }\n",
       "\n",
       "                .geemap-dark .jupyter-button {\n",
       "                    --jp-layout-color3: #383838;\n",
       "                }\n",
       "\n",
       "                .geemap-colab {\n",
       "                    background-color: var(--colab-primary-surface-color, white);\n",
       "                }\n",
       "\n",
       "                .geemap-colab .jupyter-button {\n",
       "                    --jp-layout-color3: var(--colab-primary-surface-color, white);\n",
       "                }\n",
       "            </style>\n",
       "            "
      ],
      "text/plain": [
       "<IPython.core.display.HTML object>"
      ]
     },
     "metadata": {},
     "output_type": "display_data"
    }
   ],
   "source": [
    "years = [2018, 2019, 2020, 2021]\n",
    "results = process_collections(years)"
   ]
  },
  {
   "cell_type": "code",
   "execution_count": 34,
   "metadata": {},
   "outputs": [
    {
     "data": {
      "text/html": [
       "\n",
       "            <style>\n",
       "                .geemap-dark {\n",
       "                    --jp-widgets-color: white;\n",
       "                    --jp-widgets-label-color: white;\n",
       "                    --jp-ui-font-color1: white;\n",
       "                    --jp-layout-color2: #454545;\n",
       "                    background-color: #383838;\n",
       "                }\n",
       "\n",
       "                .geemap-dark .jupyter-button {\n",
       "                    --jp-layout-color3: #383838;\n",
       "                }\n",
       "\n",
       "                .geemap-colab {\n",
       "                    background-color: var(--colab-primary-surface-color, white);\n",
       "                }\n",
       "\n",
       "                .geemap-colab .jupyter-button {\n",
       "                    --jp-layout-color3: var(--colab-primary-surface-color, white);\n",
       "                }\n",
       "            </style>\n",
       "            "
      ],
      "text/plain": [
       "<IPython.core.display.HTML object>"
      ]
     },
     "metadata": {},
     "output_type": "display_data"
    }
   ],
   "source": [
    "results.to_csv(f\"/Users/cooper/Desktop/irrigation-mapper/data/irrigation_confidence_{ET_PRODUCT}.csv\", index=False)"
   ]
  },
  {
   "cell_type": "code",
   "execution_count": null,
   "metadata": {},
   "outputs": [],
   "source": []
  }
 ],
 "metadata": {
  "kernelspec": {
   "display_name": "geemap_env",
   "language": "python",
   "name": "python3"
  },
  "language_info": {
   "codemirror_mode": {
    "name": "ipython",
    "version": 3
   },
   "file_extension": ".py",
   "mimetype": "text/x-python",
   "name": "python",
   "nbconvert_exporter": "python",
   "pygments_lexer": "ipython3",
   "version": "3.11.10"
  }
 },
 "nbformat": 4,
 "nbformat_minor": 2
}
