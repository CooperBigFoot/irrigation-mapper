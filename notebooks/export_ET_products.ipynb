{
 "cells": [
  {
   "cell_type": "code",
   "execution_count": null,
   "metadata": {},
   "outputs": [],
   "source": [
    "import sys\n",
    "from pathlib import Path\n",
    "sys.path.append(str(Path().absolute().parent))\n",
    "import time"
   ]
  },
  {
   "cell_type": "code",
   "execution_count": null,
   "metadata": {},
   "outputs": [],
   "source": [
    "import ee \n",
    "import geemap\n",
    "\n",
    "ee.Initialize(project=\"thurgau-irrigation\")"
   ]
  },
  {
   "cell_type": "code",
   "execution_count": null,
   "metadata": {},
   "outputs": [],
   "source": [
    "from src.data_processing.downscaling import resample_image, Downscaler\n",
    "from src.data_processing.sentinel_preprocessing import load_sentinel2_data\n",
    "\n",
    "from utils.date_utils import (\n",
    "    set_to_first_of_month,\n",
    "    print_collection_dates,\n",
    "    create_centered_date_ranges,\n",
    ")\n",
    "from utils.ee_utils import harmonized_ts, export_image_to_asset, back_to_int\n",
    "from utils.harmonic_regressor import HarmonicRegressor\n",
    "from utils.wapor_et_processing import load_wapor_et_data\n",
    "\n",
    "from typing import List, Callable, Tuple"
   ]
  },
  {
   "cell_type": "markdown",
   "metadata": {},
   "source": [
    "# 0: Define the region of interest"
   ]
  },
  {
   "cell_type": "code",
   "execution_count": null,
   "metadata": {},
   "outputs": [],
   "source": [
    "PATH_TO_AOI = \"projects/thurgau-irrigation/assets/FribourgAndVaud/broye_bounding_box\"\n",
    "\n",
    "aoi_feature_collection = ee.FeatureCollection(PATH_TO_AOI)\n",
    "aoi_geometry = aoi_feature_collection.geometry().simplify(500)\n",
    "\n",
    "aoi = aoi_geometry.buffer(1000)"
   ]
  },
  {
   "cell_type": "markdown",
   "metadata": {},
   "source": [
    "# 1: Exporting dekdal WaPOR ET data for Thurgau:"
   ]
  },
  {
   "cell_type": "code",
   "execution_count": null,
   "metadata": {},
   "outputs": [],
   "source": [
    "first_year = 2018\n",
    "last_year = 2023\n",
    "wapor_et_data = load_wapor_et_data(\n",
    "    first_year, last_year, frequency=\"dekadal\"\n",
    ").filterBounds(aoi)\n",
    "\n"
   ]
  },
  {
   "cell_type": "code",
   "execution_count": null,
   "metadata": {},
   "outputs": [],
   "source": [
    "SCALE = wapor_et_data.first().projection().nominalScale().getInfo()\n",
    "\n",
    "print(f\"The scale of the data is {SCALE}\")\n",
    "\n",
    "for year in range(first_year, last_year):\n",
    "    et_wapor_year = wapor_et_data.filterDate(f\"{year}-01-01\", f\"{year}-12-31\")\n",
    "\n",
    "    et_wapor_year_list = et_wapor_year.toList(et_wapor_year.size())\n",
    "\n",
    "    for i in range(36):\n",
    "        dekadal = i % 3 + 1\n",
    "        month = i // 3 + 1\n",
    "\n",
    "        image_to_export = ee.Image(et_wapor_year_list.get(i))\n",
    "\n",
    "        task_name = f\"Thurgau_ET_WAPOR_300m_{year}_{month}_D{dekadal}\"\n",
    "        asset_id = f\"projects/thurgau-irrigation/assets/FribourgAndVaud/ET_products/WaPOR_300m/{task_name}\"\n",
    "\n",
    "        export_image_to_asset(\n",
    "            image=image_to_export,\n",
    "            asset_id=asset_id,\n",
    "            task_name=task_name,\n",
    "            year=year,\n",
    "            scale=SCALE,\n",
    "            aoi=aoi,\n",
    "        )\n",
    "\n",
    "        print(f\"Exported image {task_name} to asset {asset_id}\")\n",
    "\n",
    "    print(f\"Done exporting year {year}, sleeping for 15 seconds\")\n",
    "    time.sleep(15)\n",
    "\n",
    "print(\"Done exporting all images, mate!\")"
   ]
  },
  {
   "cell_type": "markdown",
   "metadata": {},
   "source": [
    "# 2: Exporting monthly landsat at 100m resolution"
   ]
  },
  {
   "cell_type": "code",
   "execution_count": null,
   "metadata": {},
   "outputs": [],
   "source": [
    "# TODO: Once Silvan is done exporting to that collection"
   ]
  },
  {
   "cell_type": "markdown",
   "metadata": {},
   "source": [
    "# Sanity check"
   ]
  },
  {
   "cell_type": "code",
   "execution_count": null,
   "metadata": {},
   "outputs": [],
   "source": [
    "Map = geemap.Map()\n",
    "\n",
    "image_collection = ee.ImageCollection(\"projects/thurgau-irrigation/assets/ET_products/Thurgau/WaPOR_300m\")\n",
    "image = ee.Image(image_collection.toList(image_collection.size()).get(20))\n",
    "\n",
    "Map.addLayer(image, {\"min\": 0, \"max\": 5, \"palette\": [\"blue\", \"yellow\", \"red\"]}, \"ET\")\n",
    "\n",
    "Map.centerObject(aoi, 10)\n",
    "\n",
    "Map\n",
    "\n"
   ]
  },
  {
   "cell_type": "code",
   "execution_count": null,
   "metadata": {},
   "outputs": [],
   "source": [
    "print_collection_dates(image_collection)"
   ]
  },
  {
   "cell_type": "code",
   "execution_count": null,
   "metadata": {},
   "outputs": [],
   "source": []
  }
 ],
 "metadata": {
  "kernelspec": {
   "display_name": "geemap_env",
   "language": "python",
   "name": "python3"
  },
  "language_info": {
   "codemirror_mode": {
    "name": "ipython",
    "version": 3
   },
   "file_extension": ".py",
   "mimetype": "text/x-python",
   "name": "python",
   "nbconvert_exporter": "python",
   "pygments_lexer": "ipython3",
   "version": "3.11.10"
  }
 },
 "nbformat": 4,
 "nbformat_minor": 2
}
