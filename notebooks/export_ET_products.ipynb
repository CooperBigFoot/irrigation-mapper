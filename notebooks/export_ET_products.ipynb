{
 "cells": [
  {
   "cell_type": "code",
   "execution_count": null,
   "metadata": {},
   "outputs": [],
   "source": [
    "import sys\n",
    "from pathlib import Path\n",
    "sys.path.append(str(Path().absolute().parent))\n",
    "import time"
   ]
  },
  {
   "cell_type": "code",
   "execution_count": null,
   "metadata": {},
   "outputs": [],
   "source": [
    "import ee \n",
    "import geemap\n",
    "\n",
    "ee.Initialize(project=\"thurgau-irrigation\")"
   ]
  },
  {
   "cell_type": "code",
   "execution_count": null,
   "metadata": {},
   "outputs": [],
   "source": [
    "from src.data_processing.downscaling import resample_image, Downscaler\n",
    "from src.data_processing.sentinel_preprocessing import load_sentinel2_data\n",
    "\n",
    "from utils.date_utils import (\n",
    "    set_to_first_of_month,\n",
    "    print_collection_dates,\n",
    "    create_centered_date_ranges,\n",
    ")\n",
    "from utils.ee_utils import harmonized_ts, export_image_to_asset, back_to_int\n",
    "from utils.harmonic_regressor import HarmonicRegressor\n",
    "from utils.wapor_et_processing import load_wapor_et_data\n",
    "\n",
    "from typing import List, Callable, Tuple"
   ]
  },
  {
   "cell_type": "markdown",
   "metadata": {},
   "source": [
    "# 0: Define the region of interest"
   ]
  },
  {
   "cell_type": "code",
   "execution_count": null,
   "metadata": {},
   "outputs": [],
   "source": [
    "PATH_TO_AOI = \"projects/thurgau-irrigation/assets/Thurgau/thrugau_borders_2024\"\n",
    "\n",
    "aoi_feature_collection = ee.FeatureCollection(PATH_TO_AOI)\n",
    "aoi_geometry = aoi_feature_collection.geometry().simplify(500)\n",
    "\n",
    "aoi = aoi_geometry.buffer(100)"
   ]
  },
  {
   "cell_type": "markdown",
   "metadata": {},
   "source": [
    "# 1: Exporting dekdal WaPOR ET data for Thurgau:"
   ]
  },
  {
   "cell_type": "code",
   "execution_count": null,
   "metadata": {},
   "outputs": [],
   "source": [
    "# first_year = 2023\n",
    "# last_year = 2023\n",
    "# wapor_et_data = load_wapor_et_data(\n",
    "#     first_year, last_year, frequency=\"dekadal\"\n",
    "# ).filterBounds(aoi)\n",
    "\n"
   ]
  },
  {
   "cell_type": "code",
   "execution_count": null,
   "metadata": {},
   "outputs": [],
   "source": [
    "# SCALE = wapor_et_data.first().projection().nominalScale().getInfo()\n",
    "\n",
    "# print(f\"The scale of the data is {SCALE}\")\n",
    "\n",
    "# for year in range(2023, 2024):\n",
    "#     et_wapor_year = wapor_et_data.filterDate(f\"{year}-01-01\", f\"{year}-12-31\")\n",
    "\n",
    "#     et_wapor_year_list = et_wapor_year.toList(et_wapor_year.size())\n",
    "\n",
    "#     for i in range(36):\n",
    "#         dekadal = i % 3 + 1\n",
    "#         month = i // 3 + 1\n",
    "\n",
    "#         image_to_export = ee.Image(et_wapor_year_list.get(i))\n",
    "\n",
    "#         task_name = f\"Thurgau_ET_WAPOR_300m_{year}_{month}_{dekadal}\"\n",
    "#         asset_id = f\"projects/thurgau-irrigation/assets/ET_products/Thurgau/WaPOR_300m/{task_name}\"\n",
    "\n",
    "#         export_image_to_asset(\n",
    "#             image=image_to_export,\n",
    "#             asset_id=asset_id,\n",
    "#             task_name=task_name,\n",
    "#             year=year,\n",
    "#             scale=SCALE,\n",
    "#             aoi=aoi,\n",
    "#         )\n",
    "\n",
    "#         print(f\"Exported image {task_name} to asset {asset_id}\")\n",
    "\n",
    "#     print(f\"Done exporting year {year}, sleeping for 15 seconds\")\n",
    "#     time.sleep(15)\n",
    "\n",
    "# print(\"Done exporting all images, mate!\")"
   ]
  },
  {
   "cell_type": "markdown",
   "metadata": {},
   "source": [
    "# 2: Exporting monthly landsat at 100m resolution"
   ]
  },
  {
   "cell_type": "code",
   "execution_count": 9,
   "metadata": {},
   "outputs": [
    {
     "data": {
      "text/html": [
       "\n",
       "            <style>\n",
       "                .geemap-dark {\n",
       "                    --jp-widgets-color: white;\n",
       "                    --jp-widgets-label-color: white;\n",
       "                    --jp-ui-font-color1: white;\n",
       "                    --jp-layout-color2: #454545;\n",
       "                    background-color: #383838;\n",
       "                }\n",
       "\n",
       "                .geemap-dark .jupyter-button {\n",
       "                    --jp-layout-color3: #383838;\n",
       "                }\n",
       "\n",
       "                .geemap-colab {\n",
       "                    background-color: var(--colab-primary-surface-color, white);\n",
       "                }\n",
       "\n",
       "                .geemap-colab .jupyter-button {\n",
       "                    --jp-layout-color3: var(--colab-primary-surface-color, white);\n",
       "                }\n",
       "            </style>\n",
       "            "
      ],
      "text/plain": [
       "<IPython.core.display.HTML object>"
      ]
     },
     "metadata": {},
     "output_type": "display_data"
    }
   ],
   "source": [
    "# TODO: Once Silvan is done exporting to that collection"
   ]
  },
  {
   "cell_type": "markdown",
   "metadata": {},
   "source": [
    "# Sanity check"
   ]
  },
  {
   "cell_type": "code",
   "execution_count": 7,
   "metadata": {},
   "outputs": [
    {
     "data": {
      "text/html": [
       "\n",
       "            <style>\n",
       "                .geemap-dark {\n",
       "                    --jp-widgets-color: white;\n",
       "                    --jp-widgets-label-color: white;\n",
       "                    --jp-ui-font-color1: white;\n",
       "                    --jp-layout-color2: #454545;\n",
       "                    background-color: #383838;\n",
       "                }\n",
       "\n",
       "                .geemap-dark .jupyter-button {\n",
       "                    --jp-layout-color3: #383838;\n",
       "                }\n",
       "\n",
       "                .geemap-colab {\n",
       "                    background-color: var(--colab-primary-surface-color, white);\n",
       "                }\n",
       "\n",
       "                .geemap-colab .jupyter-button {\n",
       "                    --jp-layout-color3: var(--colab-primary-surface-color, white);\n",
       "                }\n",
       "            </style>\n",
       "            "
      ],
      "text/plain": [
       "<IPython.core.display.HTML object>"
      ]
     },
     "metadata": {},
     "output_type": "display_data"
    },
    {
     "data": {
      "application/vnd.jupyter.widget-view+json": {
       "model_id": "00dde976457c4d9caab277e2917fdd67",
       "version_major": 2,
       "version_minor": 0
      },
      "text/plain": [
       "Map(center=[47.56858787382066, 9.092720596553875], controls=(WidgetControl(options=['position', 'transparent_b…"
      ]
     },
     "execution_count": 7,
     "metadata": {},
     "output_type": "execute_result"
    }
   ],
   "source": [
    "Map = geemap.Map()\n",
    "\n",
    "image_collection = ee.ImageCollection(\"projects/thurgau-irrigation/assets/ET_products/Thurgau/WaPOR_300m\")\n",
    "image = ee.Image(image_collection.toList(image_collection.size()).get(20))\n",
    "\n",
    "Map.addLayer(image, {\"min\": 0, \"max\": 5, \"palette\": [\"blue\", \"yellow\", \"red\"]}, \"ET\")\n",
    "\n",
    "Map.centerObject(aoi, 10)\n",
    "\n",
    "Map\n",
    "\n"
   ]
  },
  {
   "cell_type": "code",
   "execution_count": 8,
   "metadata": {},
   "outputs": [
    {
     "data": {
      "text/html": [
       "\n",
       "            <style>\n",
       "                .geemap-dark {\n",
       "                    --jp-widgets-color: white;\n",
       "                    --jp-widgets-label-color: white;\n",
       "                    --jp-ui-font-color1: white;\n",
       "                    --jp-layout-color2: #454545;\n",
       "                    background-color: #383838;\n",
       "                }\n",
       "\n",
       "                .geemap-dark .jupyter-button {\n",
       "                    --jp-layout-color3: #383838;\n",
       "                }\n",
       "\n",
       "                .geemap-colab {\n",
       "                    background-color: var(--colab-primary-surface-color, white);\n",
       "                }\n",
       "\n",
       "                .geemap-colab .jupyter-button {\n",
       "                    --jp-layout-color3: var(--colab-primary-surface-color, white);\n",
       "                }\n",
       "            </style>\n",
       "            "
      ],
      "text/plain": [
       "<IPython.core.display.HTML object>"
      ]
     },
     "metadata": {},
     "output_type": "display_data"
    },
    {
     "name": "stdout",
     "output_type": "stream",
     "text": [
      "Dates of images in the collection:\n",
      "2018-10-01\n",
      "2018-10-11\n",
      "2018-10-21\n",
      "2018-11-01\n",
      "2018-11-11\n",
      "2018-11-21\n",
      "2018-12-01\n",
      "2018-12-11\n",
      "2018-12-21\n",
      "2018-01-01\n",
      "2018-01-11\n",
      "2018-01-21\n",
      "2018-02-01\n",
      "2018-02-11\n",
      "2018-02-21\n",
      "2018-03-01\n",
      "2018-03-11\n",
      "2018-03-21\n",
      "2018-04-01\n",
      "2018-04-11\n",
      "2018-04-21\n",
      "2018-05-01\n",
      "2018-05-11\n",
      "2018-05-21\n",
      "2018-06-01\n",
      "2018-06-11\n",
      "2018-06-21\n",
      "2018-07-01\n",
      "2018-07-11\n",
      "2018-07-21\n",
      "2018-08-01\n",
      "2018-08-11\n",
      "2018-08-21\n",
      "2018-09-01\n",
      "2018-09-11\n",
      "2018-09-21\n",
      "2019-10-01\n",
      "2019-10-11\n",
      "2019-10-21\n",
      "2019-11-01\n",
      "2019-11-11\n",
      "2019-11-21\n",
      "2019-12-01\n",
      "2019-12-11\n",
      "2019-12-21\n",
      "2019-01-01\n",
      "2019-01-11\n",
      "2019-01-21\n",
      "2019-02-01\n",
      "2019-02-11\n",
      "2019-02-21\n",
      "2019-03-01\n",
      "2019-03-11\n",
      "2019-03-21\n",
      "2019-04-01\n",
      "2019-04-11\n",
      "2019-04-21\n",
      "2019-05-01\n",
      "2019-05-11\n",
      "2019-05-21\n",
      "2019-06-01\n",
      "2019-06-11\n",
      "2019-06-21\n",
      "2019-07-01\n",
      "2019-07-11\n",
      "2019-07-21\n",
      "2019-08-01\n",
      "2019-08-11\n",
      "2019-08-21\n",
      "2019-09-01\n",
      "2019-09-11\n",
      "2019-09-21\n",
      "2020-10-01\n",
      "2020-10-11\n",
      "2020-10-21\n",
      "2020-11-01\n",
      "2020-11-11\n",
      "2020-11-21\n",
      "2020-12-01\n",
      "2020-12-11\n",
      "2020-12-21\n",
      "2020-01-01\n",
      "2020-01-11\n",
      "2020-01-21\n",
      "2020-02-01\n",
      "2020-02-11\n",
      "2020-02-21\n",
      "2020-03-01\n",
      "2020-03-11\n",
      "2020-03-21\n",
      "2020-04-01\n",
      "2020-04-11\n",
      "2020-04-21\n",
      "2020-05-01\n",
      "2020-05-11\n",
      "2020-05-21\n",
      "2020-06-01\n",
      "2020-06-11\n",
      "2020-06-21\n",
      "2020-07-01\n",
      "2020-07-11\n",
      "2020-07-21\n",
      "2020-08-01\n",
      "2020-08-11\n",
      "2020-08-21\n",
      "2020-09-01\n",
      "2020-09-11\n",
      "2020-09-21\n",
      "2021-10-01\n",
      "2021-10-11\n",
      "2021-10-21\n",
      "2021-11-01\n",
      "2021-11-11\n",
      "2021-11-21\n",
      "2021-12-01\n",
      "2021-12-11\n",
      "2021-12-21\n",
      "2021-01-01\n",
      "2021-01-11\n",
      "2021-01-21\n",
      "2021-02-01\n",
      "2021-02-11\n",
      "2021-02-21\n",
      "2021-03-01\n",
      "2021-03-11\n",
      "2021-03-21\n",
      "2021-04-01\n",
      "2021-04-11\n",
      "2021-04-21\n",
      "2021-05-01\n",
      "2021-05-11\n",
      "2021-05-21\n",
      "2021-06-01\n",
      "2021-06-11\n",
      "2021-06-21\n",
      "2021-07-01\n",
      "2021-07-11\n",
      "2021-07-21\n",
      "2021-08-01\n",
      "2021-08-11\n",
      "2021-08-21\n",
      "2021-09-01\n",
      "2021-09-11\n",
      "2021-09-21\n",
      "2022-10-01\n",
      "2022-10-11\n",
      "2022-10-21\n",
      "2022-11-01\n",
      "2022-11-11\n",
      "2022-11-21\n",
      "2022-12-01\n",
      "2022-12-11\n",
      "2022-12-21\n",
      "2022-01-01\n",
      "2022-01-11\n",
      "2022-01-21\n",
      "2022-02-01\n",
      "2022-02-11\n",
      "2022-02-21\n",
      "2022-03-01\n",
      "2022-03-11\n",
      "2022-03-21\n",
      "2022-04-01\n",
      "2022-04-11\n",
      "2022-04-21\n",
      "2022-05-01\n",
      "2022-05-11\n",
      "2022-05-21\n",
      "2022-06-01\n",
      "2022-06-11\n",
      "2022-06-21\n",
      "2022-07-01\n",
      "2022-07-11\n",
      "2022-07-21\n",
      "2022-08-01\n",
      "2022-08-11\n",
      "2022-08-21\n",
      "2022-09-01\n",
      "2022-09-11\n",
      "2022-09-21\n",
      "2023-01-01\n",
      "2023-01-11\n",
      "2023-01-21\n"
     ]
    }
   ],
   "source": [
    "print_collection_dates(image_collection)"
   ]
  },
  {
   "cell_type": "code",
   "execution_count": null,
   "metadata": {},
   "outputs": [],
   "source": []
  }
 ],
 "metadata": {
  "kernelspec": {
   "display_name": "geemap_env",
   "language": "python",
   "name": "python3"
  },
  "language_info": {
   "codemirror_mode": {
    "name": "ipython",
    "version": 3
   },
   "file_extension": ".py",
   "mimetype": "text/x-python",
   "name": "python",
   "nbconvert_exporter": "python",
   "pygments_lexer": "ipython3",
   "version": "3.11.10"
  }
 },
 "nbformat": 4,
 "nbformat_minor": 2
}
