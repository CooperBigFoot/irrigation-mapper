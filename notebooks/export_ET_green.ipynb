{
 "cells": [
  {
   "cell_type": "code",
   "execution_count": 1,
   "metadata": {},
   "outputs": [],
   "source": [
    "import sys\n",
    "from pathlib import Path\n",
    "sys.path.append(str(Path().absolute().parent))"
   ]
  },
  {
   "cell_type": "code",
   "execution_count": 2,
   "metadata": {},
   "outputs": [
    {
     "name": "stderr",
     "output_type": "stream",
     "text": [
      "*** Earth Engine *** Share your feedback by taking our Annual Developer Satisfaction Survey: https://google.qualtrics.com/jfe/form/SV_0JLhFqfSY1uiEaW?source=Init\n"
     ]
    }
   ],
   "source": [
    "import ee \n",
    "import geemap\n",
    "\n",
    "ee.Initialize(project=\"thurgau-irrigation\")"
   ]
  },
  {
   "cell_type": "code",
   "execution_count": 3,
   "metadata": {},
   "outputs": [
    {
     "data": {
      "text/html": [
       "\n",
       "            <style>\n",
       "                .geemap-dark {\n",
       "                    --jp-widgets-color: white;\n",
       "                    --jp-widgets-label-color: white;\n",
       "                    --jp-ui-font-color1: white;\n",
       "                    --jp-layout-color2: #454545;\n",
       "                    background-color: #383838;\n",
       "                }\n",
       "\n",
       "                .geemap-dark .jupyter-button {\n",
       "                    --jp-layout-color3: #383838;\n",
       "                }\n",
       "\n",
       "                .geemap-colab {\n",
       "                    background-color: var(--colab-primary-surface-color, white);\n",
       "                }\n",
       "\n",
       "                .geemap-colab .jupyter-button {\n",
       "                    --jp-layout-color3: var(--colab-primary-surface-color, white);\n",
       "                }\n",
       "            </style>\n",
       "            "
      ],
      "text/plain": [
       "<IPython.core.display.HTML object>"
      ]
     },
     "metadata": {},
     "output_type": "display_data"
    }
   ],
   "source": [
    "from src.et_green.compute_et_green import compute_et_green, calculate_band_std_dev\n",
    "from src.et_green.filter_nutzungsflaechen import (\n",
    "    get_crops_to_exclude,\n",
    "    get_rainfed_reference_crops,\n",
    "    create_crop_filters,\n",
    "    filter_crops,\n",
    "    add_double_cropping_info,\n",
    "    get_unique_nutzung,\n",
    ")\n",
    "from src.et_green.exporting_utils import process_et_green, prepare_rainfed_fields\n",
    "\n",
    "from utils.ee_utils import (\n",
    "    back_to_float,\n",
    "    back_to_int,\n",
    "    export_image_to_asset,\n",
    "    print_value_ranges,\n",
    "    is_image_empty,\n",
    "    fill_gaps_with_zeros\n",
    ")\n",
    "\n",
    "from utils.date_utils import print_collection_dates, merge_same_date_images"
   ]
  },
  {
   "cell_type": "markdown",
   "metadata": {},
   "source": [
    "---"
   ]
  },
  {
   "cell_type": "markdown",
   "metadata": {},
   "source": [
    "## Constants"
   ]
  },
  {
   "cell_type": "code",
   "execution_count": 4,
   "metadata": {},
   "outputs": [
    {
     "data": {
      "text/html": [
       "\n",
       "            <style>\n",
       "                .geemap-dark {\n",
       "                    --jp-widgets-color: white;\n",
       "                    --jp-widgets-label-color: white;\n",
       "                    --jp-ui-font-color1: white;\n",
       "                    --jp-layout-color2: #454545;\n",
       "                    background-color: #383838;\n",
       "                }\n",
       "\n",
       "                .geemap-dark .jupyter-button {\n",
       "                    --jp-layout-color3: #383838;\n",
       "                }\n",
       "\n",
       "                .geemap-colab {\n",
       "                    background-color: var(--colab-primary-surface-color, white);\n",
       "                }\n",
       "\n",
       "                .geemap-colab .jupyter-button {\n",
       "                    --jp-layout-color3: var(--colab-primary-surface-color, white);\n",
       "                }\n",
       "            </style>\n",
       "            "
      ],
      "text/plain": [
       "<IPython.core.display.HTML object>"
      ]
     },
     "metadata": {},
     "output_type": "display_data"
    }
   ],
   "source": [
    "YEAR = 2018\n",
    "\n",
    "PATH_TO_AOI = \"projects/thurgau-irrigation/assets/FribourgAndVaud/broye_bounding_box\"\n",
    "\n",
    "# PATH_TO_ET_PRODUCT = f\"projects/thurgau-irrigation/assets/FribourgAndVaud/ET_products/WaPOR_10m_2021\"\n",
    "PATH_TO_ET_PRODUCT = f\"projects/thurgau-irrigation/assets/FribourgAndVaud/ET_products/decadal_Landsat_10m\"\n",
    "\n",
    "\n",
    "PATH_TO_DOUBLE_CROPPING_COLLECTION = f\"projects/thurgau-irrigation/assets/FribourgAndVaud/DoubleCropping/crop_vegetation_period_broye_{YEAR}\"\n",
    "PATH_TO_JURISDICTION = (\n",
    "    f\"projects/thurgau-irrigation/assets/FribourgAndVaud/elevation_bands_broye\"\n",
    ")\n",
    "PATH_TO_LANDUSE = f\"projects/thurgau-irrigation/assets/FribourgAndVaud/nutzungsflaechen\"\n",
    "LANDUSE_PROPERTY_NAME = \"nutzung\"\n",
    "\n",
    "ET_BAND_NAME = \"ET\"\n",
    "SCALING_FACTOR = 100  # scaling factor for the ET band to convert it back to float\n",
    "DYNAMIC = True\n",
    "SCALING_FACTOR_PROPERTY_NAME = \"days\" if DYNAMIC else None\n",
    "ET_BAND_RESOLUTION = 30  # in meters\n",
    "NUMBER_OF_IMAGES = 21\n",
    "TEMPORAL_RESOLUTION = \"dekadal\"\n",
    "\n",
    "MINIMUM_FIELD_SIZE = 10000  # in square meters\n",
    "\n",
    "ET_GREEN_ASSET_PATH = f\"projects/thurgau-irrigation/assets/FribourgAndVaud/ET_green/ET_green_{YEAR}_{TEMPORAL_RESOLUTION}_from_Landsat_30m\""
   ]
  },
  {
   "cell_type": "markdown",
   "metadata": {},
   "source": [
    "## 1. Load Assets"
   ]
  },
  {
   "cell_type": "code",
   "execution_count": 5,
   "metadata": {},
   "outputs": [
    {
     "data": {
      "text/html": [
       "\n",
       "            <style>\n",
       "                .geemap-dark {\n",
       "                    --jp-widgets-color: white;\n",
       "                    --jp-widgets-label-color: white;\n",
       "                    --jp-ui-font-color1: white;\n",
       "                    --jp-layout-color2: #454545;\n",
       "                    background-color: #383838;\n",
       "                }\n",
       "\n",
       "                .geemap-dark .jupyter-button {\n",
       "                    --jp-layout-color3: #383838;\n",
       "                }\n",
       "\n",
       "                .geemap-colab {\n",
       "                    background-color: var(--colab-primary-surface-color, white);\n",
       "                }\n",
       "\n",
       "                .geemap-colab .jupyter-button {\n",
       "                    --jp-layout-color3: var(--colab-primary-surface-color, white);\n",
       "                }\n",
       "            </style>\n",
       "            "
      ],
      "text/plain": [
       "<IPython.core.display.HTML object>"
      ]
     },
     "metadata": {},
     "output_type": "display_data"
    }
   ],
   "source": [
    "aoi = ee.FeatureCollection(PATH_TO_AOI).geometry().simplify(500).buffer(100)"
   ]
  },
  {
   "cell_type": "code",
   "execution_count": 6,
   "metadata": {},
   "outputs": [
    {
     "data": {
      "text/html": [
       "\n",
       "            <style>\n",
       "                .geemap-dark {\n",
       "                    --jp-widgets-color: white;\n",
       "                    --jp-widgets-label-color: white;\n",
       "                    --jp-ui-font-color1: white;\n",
       "                    --jp-layout-color2: #454545;\n",
       "                    background-color: #383838;\n",
       "                }\n",
       "\n",
       "                .geemap-dark .jupyter-button {\n",
       "                    --jp-layout-color3: #383838;\n",
       "                }\n",
       "\n",
       "                .geemap-colab {\n",
       "                    background-color: var(--colab-primary-surface-color, white);\n",
       "                }\n",
       "\n",
       "                .geemap-colab .jupyter-button {\n",
       "                    --jp-layout-color3: var(--colab-primary-surface-color, white);\n",
       "                }\n",
       "            </style>\n",
       "            "
      ],
      "text/plain": [
       "<IPython.core.display.HTML object>"
      ]
     },
     "metadata": {},
     "output_type": "display_data"
    }
   ],
   "source": [
    "double_cropping_image = ee.Image(PATH_TO_DOUBLE_CROPPING_COLLECTION)"
   ]
  },
  {
   "cell_type": "code",
   "execution_count": 7,
   "metadata": {},
   "outputs": [
    {
     "data": {
      "text/html": [
       "\n",
       "            <style>\n",
       "                .geemap-dark {\n",
       "                    --jp-widgets-color: white;\n",
       "                    --jp-widgets-label-color: white;\n",
       "                    --jp-ui-font-color1: white;\n",
       "                    --jp-layout-color2: #454545;\n",
       "                    background-color: #383838;\n",
       "                }\n",
       "\n",
       "                .geemap-dark .jupyter-button {\n",
       "                    --jp-layout-color3: #383838;\n",
       "                }\n",
       "\n",
       "                .geemap-colab {\n",
       "                    background-color: var(--colab-primary-surface-color, white);\n",
       "                }\n",
       "\n",
       "                .geemap-colab .jupyter-button {\n",
       "                    --jp-layout-color3: var(--colab-primary-surface-color, white);\n",
       "                }\n",
       "            </style>\n",
       "            "
      ],
      "text/plain": [
       "<IPython.core.display.HTML object>"
      ]
     },
     "metadata": {},
     "output_type": "display_data"
    },
    {
     "name": "stdout",
     "output_type": "stream",
     "text": [
      "Dates of images in the collection:\n",
      "2018-04-01\n",
      "2018-04-11\n",
      "2018-04-21\n",
      "2018-05-01\n",
      "2018-05-11\n",
      "2018-05-21\n",
      "2018-06-01\n",
      "2018-06-11\n",
      "2018-06-21\n",
      "2018-07-01\n",
      "2018-07-11\n",
      "2018-07-21\n",
      "2018-08-01\n",
      "2018-08-11\n",
      "2018-08-21\n",
      "2018-09-01\n",
      "2018-09-11\n",
      "2018-09-21\n",
      "2018-10-01\n",
      "2018-10-11\n",
      "2018-10-21\n",
      "Sizing of the ET collection: 21\n"
     ]
    }
   ],
   "source": [
    "et_collection = (\n",
    "    ee.ImageCollection(PATH_TO_ET_PRODUCT)\n",
    "    .filterDate(f\"{YEAR}-01-01\", f\"{YEAR}-12-31\")\n",
    "    .map(\n",
    "        lambda img: back_to_float(\n",
    "            img, SCALING_FACTOR, DYNAMIC, SCALING_FACTOR_PROPERTY_NAME\n",
    "        )\n",
    "    )\n",
    ").sort(\"system:time_start\")\n",
    "\n",
    "et_collection_list = et_collection.toList(et_collection.size())\n",
    "\n",
    "\n",
    "# Sanity checks:\n",
    "print_collection_dates(et_collection)\n",
    "print(f\"Sizing of the ET collection: {et_collection.size().getInfo()}\")"
   ]
  },
  {
   "cell_type": "code",
   "execution_count": 8,
   "metadata": {},
   "outputs": [
    {
     "data": {
      "text/html": [
       "\n",
       "            <style>\n",
       "                .geemap-dark {\n",
       "                    --jp-widgets-color: white;\n",
       "                    --jp-widgets-label-color: white;\n",
       "                    --jp-ui-font-color1: white;\n",
       "                    --jp-layout-color2: #454545;\n",
       "                    background-color: #383838;\n",
       "                }\n",
       "\n",
       "                .geemap-dark .jupyter-button {\n",
       "                    --jp-layout-color3: #383838;\n",
       "                }\n",
       "\n",
       "                .geemap-colab {\n",
       "                    background-color: var(--colab-primary-surface-color, white);\n",
       "                }\n",
       "\n",
       "                .geemap-colab .jupyter-button {\n",
       "                    --jp-layout-color3: var(--colab-primary-surface-color, white);\n",
       "                }\n",
       "            </style>\n",
       "            "
      ],
      "text/plain": [
       "<IPython.core.display.HTML object>"
      ]
     },
     "metadata": {},
     "output_type": "display_data"
    },
    {
     "data": {
      "application/vnd.jupyter.widget-view+json": {
       "model_id": "d340d815a4b545b88c4e304e39db3c11",
       "version_major": 2,
       "version_minor": 0
      },
      "text/plain": [
       "Map(center=[46.78675332740657, 6.874554339425382], controls=(WidgetControl(options=['position', 'transparent_b…"
      ]
     },
     "execution_count": 8,
     "metadata": {},
     "output_type": "execute_result"
    }
   ],
   "source": [
    "image = ee.Image(et_collection_list.get(12))\n",
    "\n",
    "Map = geemap.Map()\n",
    "\n",
    "vis_params = {\n",
    "    \"bands\": [ET_BAND_NAME],\n",
    "    \"min\": 0,\n",
    "    \"max\": 3,\n",
    "    \"palette\": \"viridis\",\n",
    "}\n",
    "\n",
    "Map.addLayer(image, vis_params)\n",
    "Map.addLayer(aoi, {\"color\": \"red\"}, \"AOI\")\n",
    "Map.centerObject(aoi, 13)\n",
    "Map"
   ]
  },
  {
   "cell_type": "code",
   "execution_count": 9,
   "metadata": {},
   "outputs": [
    {
     "data": {
      "text/html": [
       "\n",
       "            <style>\n",
       "                .geemap-dark {\n",
       "                    --jp-widgets-color: white;\n",
       "                    --jp-widgets-label-color: white;\n",
       "                    --jp-ui-font-color1: white;\n",
       "                    --jp-layout-color2: #454545;\n",
       "                    background-color: #383838;\n",
       "                }\n",
       "\n",
       "                .geemap-dark .jupyter-button {\n",
       "                    --jp-layout-color3: #383838;\n",
       "                }\n",
       "\n",
       "                .geemap-colab {\n",
       "                    background-color: var(--colab-primary-surface-color, white);\n",
       "                }\n",
       "\n",
       "                .geemap-colab .jupyter-button {\n",
       "                    --jp-layout-color3: var(--colab-primary-surface-color, white);\n",
       "                }\n",
       "            </style>\n",
       "            "
      ],
      "text/plain": [
       "<IPython.core.display.HTML object>"
      ]
     },
     "metadata": {},
     "output_type": "display_data"
    }
   ],
   "source": [
    "jurisdictions = ee.FeatureCollection(PATH_TO_JURISDICTION)"
   ]
  },
  {
   "cell_type": "code",
   "execution_count": 10,
   "metadata": {},
   "outputs": [
    {
     "data": {
      "text/html": [
       "\n",
       "            <style>\n",
       "                .geemap-dark {\n",
       "                    --jp-widgets-color: white;\n",
       "                    --jp-widgets-label-color: white;\n",
       "                    --jp-ui-font-color1: white;\n",
       "                    --jp-layout-color2: #454545;\n",
       "                    background-color: #383838;\n",
       "                }\n",
       "\n",
       "                .geemap-dark .jupyter-button {\n",
       "                    --jp-layout-color3: #383838;\n",
       "                }\n",
       "\n",
       "                .geemap-colab {\n",
       "                    background-color: var(--colab-primary-surface-color, white);\n",
       "                }\n",
       "\n",
       "                .geemap-colab .jupyter-button {\n",
       "                    --jp-layout-color3: var(--colab-primary-surface-color, white);\n",
       "                }\n",
       "            </style>\n",
       "            "
      ],
      "text/plain": [
       "<IPython.core.display.HTML object>"
      ]
     },
     "metadata": {},
     "output_type": "display_data"
    },
    {
     "name": "stdout",
     "output_type": "stream",
     "text": [
      "Collection has 'nutzung' property\n"
     ]
    }
   ],
   "source": [
    "landuse_collection = ee.FeatureCollection(PATH_TO_LANDUSE)\n",
    "\n",
    "# Check if the collection has \"nutzung\" property, otherwise rename it\n",
    "# properties = landuse_collection.first().propertyNames().getInfo()\n",
    "\n",
    "# print(f\"Properties of the landuse collection: {properties}\")\n",
    "\n",
    "landuse_collection = (\n",
    "    landuse_collection.map(lambda f: f.set(\"nutzung\", f.get(LANDUSE_PROPERTY_NAME)))\n",
    "    if LANDUSE_PROPERTY_NAME != \"nutzung\"\n",
    "    else landuse_collection\n",
    ")\n",
    "\n",
    "print(\n",
    "    f\"Renamed {LANDUSE_PROPERTY_NAME} to 'nutzung'\"\n",
    "    if LANDUSE_PROPERTY_NAME != \"nutzung\"\n",
    "    else \"Collection has 'nutzung' property\"\n",
    ")"
   ]
  },
  {
   "cell_type": "markdown",
   "metadata": {},
   "source": [
    "## 2. Compute ET_green"
   ]
  },
  {
   "cell_type": "code",
   "execution_count": 13,
   "metadata": {},
   "outputs": [
    {
     "data": {
      "text/html": [
       "\n",
       "            <style>\n",
       "                .geemap-dark {\n",
       "                    --jp-widgets-color: white;\n",
       "                    --jp-widgets-label-color: white;\n",
       "                    --jp-ui-font-color1: white;\n",
       "                    --jp-layout-color2: #454545;\n",
       "                    background-color: #383838;\n",
       "                }\n",
       "\n",
       "                .geemap-dark .jupyter-button {\n",
       "                    --jp-layout-color3: #383838;\n",
       "                }\n",
       "\n",
       "                .geemap-colab {\n",
       "                    background-color: var(--colab-primary-surface-color, white);\n",
       "                }\n",
       "\n",
       "                .geemap-colab .jupyter-button {\n",
       "                    --jp-layout-color3: var(--colab-primary-surface-color, white);\n",
       "                }\n",
       "            </style>\n",
       "            "
      ],
      "text/plain": [
       "<IPython.core.display.HTML object>"
      ]
     },
     "metadata": {},
     "output_type": "display_data"
    },
    {
     "name": "stdout",
     "output_type": "stream",
     "text": [
      "Exporting ET_green_dekadal_2018_04_D1 for 2018 to projects/thurgau-irrigation/assets/FribourgAndVaud/ET_green/ET_green_2018_dekadal_from_Landsat_30m/ET_green_dekadal_2018_04_D1\n",
      "Exporting ET_green_dekadal_2018_04_D2 for 2018 to projects/thurgau-irrigation/assets/FribourgAndVaud/ET_green/ET_green_2018_dekadal_from_Landsat_30m/ET_green_dekadal_2018_04_D2\n",
      "Exporting ET_green_dekadal_2018_04_D3 for 2018 to projects/thurgau-irrigation/assets/FribourgAndVaud/ET_green/ET_green_2018_dekadal_from_Landsat_30m/ET_green_dekadal_2018_04_D3\n",
      "Exporting ET_green_dekadal_2018_05_D1 for 2018 to projects/thurgau-irrigation/assets/FribourgAndVaud/ET_green/ET_green_2018_dekadal_from_Landsat_30m/ET_green_dekadal_2018_05_D1\n",
      "Exporting ET_green_dekadal_2018_05_D2 for 2018 to projects/thurgau-irrigation/assets/FribourgAndVaud/ET_green/ET_green_2018_dekadal_from_Landsat_30m/ET_green_dekadal_2018_05_D2\n",
      "Exporting ET_green_dekadal_2018_05_D3 for 2018 to projects/thurgau-irrigation/assets/FribourgAndVaud/ET_green/ET_green_2018_dekadal_from_Landsat_30m/ET_green_dekadal_2018_05_D3\n",
      "Exporting ET_green_dekadal_2018_06_D1 for 2018 to projects/thurgau-irrigation/assets/FribourgAndVaud/ET_green/ET_green_2018_dekadal_from_Landsat_30m/ET_green_dekadal_2018_06_D1\n",
      "Exporting ET_green_dekadal_2018_06_D2 for 2018 to projects/thurgau-irrigation/assets/FribourgAndVaud/ET_green/ET_green_2018_dekadal_from_Landsat_30m/ET_green_dekadal_2018_06_D2\n",
      "Exporting ET_green_dekadal_2018_06_D3 for 2018 to projects/thurgau-irrigation/assets/FribourgAndVaud/ET_green/ET_green_2018_dekadal_from_Landsat_30m/ET_green_dekadal_2018_06_D3\n",
      "Exporting ET_green_dekadal_2018_07_D1 for 2018 to projects/thurgau-irrigation/assets/FribourgAndVaud/ET_green/ET_green_2018_dekadal_from_Landsat_30m/ET_green_dekadal_2018_07_D1\n",
      "Exporting ET_green_dekadal_2018_07_D2 for 2018 to projects/thurgau-irrigation/assets/FribourgAndVaud/ET_green/ET_green_2018_dekadal_from_Landsat_30m/ET_green_dekadal_2018_07_D2\n",
      "Exporting ET_green_dekadal_2018_07_D3 for 2018 to projects/thurgau-irrigation/assets/FribourgAndVaud/ET_green/ET_green_2018_dekadal_from_Landsat_30m/ET_green_dekadal_2018_07_D3\n",
      "Exporting ET_green_dekadal_2018_08_D1 for 2018 to projects/thurgau-irrigation/assets/FribourgAndVaud/ET_green/ET_green_2018_dekadal_from_Landsat_30m/ET_green_dekadal_2018_08_D1\n",
      "Exporting ET_green_dekadal_2018_08_D2 for 2018 to projects/thurgau-irrigation/assets/FribourgAndVaud/ET_green/ET_green_2018_dekadal_from_Landsat_30m/ET_green_dekadal_2018_08_D2\n",
      "Exporting ET_green_dekadal_2018_08_D3 for 2018 to projects/thurgau-irrigation/assets/FribourgAndVaud/ET_green/ET_green_2018_dekadal_from_Landsat_30m/ET_green_dekadal_2018_08_D3\n",
      "Exporting ET_green_dekadal_2018_09_D1 for 2018 to projects/thurgau-irrigation/assets/FribourgAndVaud/ET_green/ET_green_2018_dekadal_from_Landsat_30m/ET_green_dekadal_2018_09_D1\n",
      "Exporting ET_green_dekadal_2018_09_D2 for 2018 to projects/thurgau-irrigation/assets/FribourgAndVaud/ET_green/ET_green_2018_dekadal_from_Landsat_30m/ET_green_dekadal_2018_09_D2\n",
      "Exporting ET_green_dekadal_2018_09_D3 for 2018 to projects/thurgau-irrigation/assets/FribourgAndVaud/ET_green/ET_green_2018_dekadal_from_Landsat_30m/ET_green_dekadal_2018_09_D3\n",
      "Exporting ET_green_dekadal_2018_10_D1 for 2018 to projects/thurgau-irrigation/assets/FribourgAndVaud/ET_green/ET_green_2018_dekadal_from_Landsat_30m/ET_green_dekadal_2018_10_D1\n",
      "Exporting ET_green_dekadal_2018_10_D2 for 2018 to projects/thurgau-irrigation/assets/FribourgAndVaud/ET_green/ET_green_2018_dekadal_from_Landsat_30m/ET_green_dekadal_2018_10_D2\n",
      "Exporting ET_green_dekadal_2018_10_D3 for 2018 to projects/thurgau-irrigation/assets/FribourgAndVaud/ET_green/ET_green_2018_dekadal_from_Landsat_30m/ET_green_dekadal_2018_10_D3\n",
      "Generated 21 export tasks for year 2018\n"
     ]
    }
   ],
   "source": [
    "process_et_green(\n",
    "    et_collection_list=et_collection_list,\n",
    "    landuse_collection=landuse_collection,\n",
    "    jurisdictions=jurisdictions,\n",
    "    double_cropping_image=double_cropping_image,\n",
    "    year=YEAR,\n",
    "    aoi=aoi,\n",
    "    asset_path=ET_GREEN_ASSET_PATH,\n",
    "    et_band_name=ET_BAND_NAME,\n",
    "    time_step_type=TEMPORAL_RESOLUTION,\n",
    "    resolution=ET_BAND_RESOLUTION,\n",
    "    minimum_field_size=MINIMUM_FIELD_SIZE,\n",
    ")"
   ]
  },
  {
   "cell_type": "code",
   "execution_count": 11,
   "metadata": {},
   "outputs": [
    {
     "data": {
      "text/html": [
       "\n",
       "            <style>\n",
       "                .geemap-dark {\n",
       "                    --jp-widgets-color: white;\n",
       "                    --jp-widgets-label-color: white;\n",
       "                    --jp-ui-font-color1: white;\n",
       "                    --jp-layout-color2: #454545;\n",
       "                    background-color: #383838;\n",
       "                }\n",
       "\n",
       "                .geemap-dark .jupyter-button {\n",
       "                    --jp-layout-color3: #383838;\n",
       "                }\n",
       "\n",
       "                .geemap-colab {\n",
       "                    background-color: var(--colab-primary-surface-color, white);\n",
       "                }\n",
       "\n",
       "                .geemap-colab .jupyter-button {\n",
       "                    --jp-layout-color3: var(--colab-primary-surface-color, white);\n",
       "                }\n",
       "            </style>\n",
       "            "
      ],
      "text/plain": [
       "<IPython.core.display.HTML object>"
      ]
     },
     "metadata": {},
     "output_type": "display_data"
    }
   ],
   "source": [
    "et_green_list = []\n",
    "\n",
    "\n",
    "not_irrigated_crops = get_crops_to_exclude()\n",
    "rainfed_crops = get_rainfed_reference_crops()\n",
    "\n",
    "# Prepare rainfed fields\n",
    "rainfed_fields = prepare_rainfed_fields(\n",
    "    landuse_collection, double_cropping_image, not_irrigated_crops, rainfed_crops, MINIMUM_FIELD_SIZE\n",
    ")\n",
    "\n",
    "for img in range(NUMBER_OF_IMAGES):\n",
    "    et_img = ee.Image(et_collection_list.get(img)).select(ET_BAND_NAME)\n",
    "\n",
    "    et_green_img = compute_et_green(\n",
    "        et_img, rainfed_fields, jurisdictions, et_band_name=ET_BAND_NAME\n",
    "    )\n",
    "    et_green_list.append(et_green_img)"
   ]
  },
  {
   "cell_type": "code",
   "execution_count": 12,
   "metadata": {},
   "outputs": [
    {
     "data": {
      "text/html": [
       "\n",
       "            <style>\n",
       "                .geemap-dark {\n",
       "                    --jp-widgets-color: white;\n",
       "                    --jp-widgets-label-color: white;\n",
       "                    --jp-ui-font-color1: white;\n",
       "                    --jp-layout-color2: #454545;\n",
       "                    background-color: #383838;\n",
       "                }\n",
       "\n",
       "                .geemap-dark .jupyter-button {\n",
       "                    --jp-layout-color3: #383838;\n",
       "                }\n",
       "\n",
       "                .geemap-colab {\n",
       "                    background-color: var(--colab-primary-surface-color, white);\n",
       "                }\n",
       "\n",
       "                .geemap-colab .jupyter-button {\n",
       "                    --jp-layout-color3: var(--colab-primary-surface-color, white);\n",
       "                }\n",
       "            </style>\n",
       "            "
      ],
      "text/plain": [
       "<IPython.core.display.HTML object>"
      ]
     },
     "metadata": {},
     "output_type": "display_data"
    },
    {
     "data": {
      "application/vnd.jupyter.widget-view+json": {
       "model_id": "5382832bd9144b7caa579cf7cc79a58e",
       "version_major": 2,
       "version_minor": 0
      },
      "text/plain": [
       "Map(center=[46.78675332740657, 6.874554339425382], controls=(WidgetControl(options=['position', 'transparent_b…"
      ]
     },
     "execution_count": 12,
     "metadata": {},
     "output_type": "execute_result"
    }
   ],
   "source": [
    "Map = geemap.Map()\n",
    "\n",
    "image = ee.Image(et_green_list[10])\n",
    "image_ET = ee.Image(et_collection_list.get(10))\n",
    "\n",
    "vis_params = {\n",
    "    \"bands\": [\"ET_green\"],\n",
    "    \"min\": 0,\n",
    "    \"max\": 3,\n",
    "    \"palette\": \"viridis\",\n",
    "}\n",
    "\n",
    "vis_params_ET = {\n",
    "    \"bands\": [ET_BAND_NAME],\n",
    "    \"min\": 0,\n",
    "    \"max\": 3,\n",
    "    \"palette\": \"viridis\",\n",
    "}\n",
    "\n",
    "\n",
    "\n",
    "Map.center_object(aoi, 12)\n",
    "Map.addLayer(image, vis_params, \"ET green 10m\")\n",
    "Map.add_colorbar(vis_params, label=\"ET green [mm/month]\", layer_name=\"ET green 10m\")\n",
    "Map.addLayer(image_ET, vis_params_ET, \"ET 10m\")\n",
    "Map.addLayer(rainfed_fields, {\"color\": \"red\"}, \"Rainfed fields\")\n",
    "\n",
    "\n",
    "\n",
    "\n",
    "Map"
   ]
  },
  {
   "cell_type": "markdown",
   "metadata": {},
   "source": [
    "### Comparing WaPOR to Landsat"
   ]
  },
  {
   "cell_type": "code",
   "execution_count": null,
   "metadata": {},
   "outputs": [],
   "source": [
    "wapor_collection = ee.ImageCollection(\n",
    "    \"projects/thurgau-irrigation/assets/FribourgAndVaud/ET_green/ET_green_2021_dekadal_from_WaPOR_10m\"\n",
    ").map(lambda img: back_to_float(img, 100))\n",
    "\n",
    "landsat_collection = ee.ImageCollection(\n",
    "    \"projects/thurgau-irrigation/assets/FribourgAndVaud/ET_green/ET_green_2021_dekadal_from_Landsat_30m\"\n",
    ").map(lambda img: back_to_float(img, 100))"
   ]
  },
  {
   "cell_type": "markdown",
   "metadata": {},
   "source": []
  },
  {
   "cell_type": "code",
   "execution_count": null,
   "metadata": {},
   "outputs": [],
   "source": [
    "print_collection_dates(wapor_collection)\n",
    "print_collection_dates(landsat_collection)"
   ]
  },
  {
   "cell_type": "code",
   "execution_count": null,
   "metadata": {},
   "outputs": [],
   "source": [
    "wapor_list = wapor_collection.toList(wapor_collection.size())\n",
    "landsat_list = landsat_collection.toList(landsat_collection.size())"
   ]
  },
  {
   "cell_type": "code",
   "execution_count": null,
   "metadata": {},
   "outputs": [],
   "source": [
    "wapor_august = ee.Image(wapor_list.get(2))\n",
    "landsat_august = ee.Image(landsat_list.get(2))\n",
    "\n",
    "Map = geemap.Map()\n",
    "\n",
    "vis_params = {\n",
    "    \"bands\": [\"ET_green\"],\n",
    "    \"min\": 0,\n",
    "    \"max\": 7,\n",
    "    \"palette\": [\"blue\", \"green\", \"yellow\", \"orange\", \"red\"],\n",
    "}\n",
    "\n",
    "Map.center_object(aoi, 12)\n",
    "Map.addLayer(wapor_august, vis_params, \"ET WaPOR\")\n",
    "Map.addLayer(landsat_august, vis_params, \"ET Landsat\")\n",
    "Map.add_colorbar(vis_params, label=\"ET green [mm/month]\")\n",
    "\n",
    "# Print the date of the images\n",
    "print(f\"WaPOR image date: {ee.Image(wapor_august).date().format('YYYY-MM-dd').getInfo()}\")\n",
    "\n",
    "Map"
   ]
  },
  {
   "cell_type": "code",
   "execution_count": null,
   "metadata": {},
   "outputs": [],
   "source": []
  }
 ],
 "metadata": {
  "kernelspec": {
   "display_name": "geemap_env",
   "language": "python",
   "name": "python3"
  },
  "language_info": {
   "codemirror_mode": {
    "name": "ipython",
    "version": 3
   },
   "file_extension": ".py",
   "mimetype": "text/x-python",
   "name": "python",
   "nbconvert_exporter": "python",
   "pygments_lexer": "ipython3",
   "version": "3.11.10"
  }
 },
 "nbformat": 4,
 "nbformat_minor": 2
}
