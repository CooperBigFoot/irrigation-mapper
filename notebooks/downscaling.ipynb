{
 "cells": [
  {
   "cell_type": "code",
   "execution_count": 1,
   "metadata": {},
   "outputs": [],
   "source": [
    "import sys\n",
    "from pathlib import Path\n",
    "sys.path.append(str(Path().absolute().parent))"
   ]
  },
  {
   "cell_type": "code",
   "execution_count": 2,
   "metadata": {},
   "outputs": [
    {
     "name": "stderr",
     "output_type": "stream",
     "text": [
      "*** Earth Engine *** Share your feedback by taking our Annual Developer Satisfaction Survey: https://google.qualtrics.com/jfe/form/SV_0JLhFqfSY1uiEaW?source=Init\n"
     ]
    }
   ],
   "source": [
    "import ee \n",
    "import geemap\n",
    "\n",
    "ee.Initialize(project=\"thurgau-irrigation\")"
   ]
  },
  {
   "cell_type": "code",
   "execution_count": 3,
   "metadata": {},
   "outputs": [
    {
     "data": {
      "text/html": [
       "\n",
       "            <style>\n",
       "                .geemap-dark {\n",
       "                    --jp-widgets-color: white;\n",
       "                    --jp-widgets-label-color: white;\n",
       "                    --jp-ui-font-color1: white;\n",
       "                    --jp-layout-color2: #454545;\n",
       "                    background-color: #383838;\n",
       "                }\n",
       "\n",
       "                .geemap-dark .jupyter-button {\n",
       "                    --jp-layout-color3: #383838;\n",
       "                }\n",
       "\n",
       "                .geemap-colab {\n",
       "                    background-color: var(--colab-primary-surface-color, white);\n",
       "                }\n",
       "\n",
       "                .geemap-colab .jupyter-button {\n",
       "                    --jp-layout-color3: var(--colab-primary-surface-color, white);\n",
       "                }\n",
       "            </style>\n",
       "            "
      ],
      "text/plain": [
       "<IPython.core.display.HTML object>"
      ]
     },
     "metadata": {},
     "output_type": "display_data"
    }
   ],
   "source": [
    "from src.data_processing.downscaling import resample_image, Downscaler\n",
    "from src.data_processing.sentinel_preprocessing import load_sentinel2_data\n",
    "\n",
    "from src.et_green.exporting_utils import get_time_step_pattern, generate_export_task\n",
    "\n",
    "from utils.date_utils import (\n",
    "    set_to_first_of_month,\n",
    "    print_collection_dates,\n",
    "    create_centered_date_ranges,\n",
    "    create_forward_date_ranges,\n",
    "    get_days_in_month,\n",
    "    merge_same_date_images,\n",
    ")\n",
    "from utils.ee_utils import (\n",
    "    harmonized_ts,\n",
    "    export_image_to_asset,\n",
    "    back_to_int,\n",
    "    back_to_float,\n",
    "    fill_gaps_with_zeros,\n",
    ")\n",
    "from utils.harmonic_regressor import HarmonicRegressor\n",
    "\n",
    "from typing import List, Callable, Tuple"
   ]
  },
  {
   "cell_type": "markdown",
   "metadata": {},
   "source": [
    "---"
   ]
  },
  {
   "cell_type": "markdown",
   "metadata": {},
   "source": [
    "## Constants"
   ]
  },
  {
   "cell_type": "code",
   "execution_count": 4,
   "metadata": {},
   "outputs": [
    {
     "data": {
      "text/html": [
       "\n",
       "            <style>\n",
       "                .geemap-dark {\n",
       "                    --jp-widgets-color: white;\n",
       "                    --jp-widgets-label-color: white;\n",
       "                    --jp-ui-font-color1: white;\n",
       "                    --jp-layout-color2: #454545;\n",
       "                    background-color: #383838;\n",
       "                }\n",
       "\n",
       "                .geemap-dark .jupyter-button {\n",
       "                    --jp-layout-color3: #383838;\n",
       "                }\n",
       "\n",
       "                .geemap-colab {\n",
       "                    background-color: var(--colab-primary-surface-color, white);\n",
       "                }\n",
       "\n",
       "                .geemap-colab .jupyter-button {\n",
       "                    --jp-layout-color3: var(--colab-primary-surface-color, white);\n",
       "                }\n",
       "            </style>\n",
       "            "
      ],
      "text/plain": [
       "<IPython.core.display.HTML object>"
      ]
     },
     "metadata": {},
     "output_type": "display_data"
    }
   ],
   "source": [
    "YEAR = 2018\n",
    "\n",
    "PATH_TO_AOI = \"projects/thurgau-irrigation/assets/FribourgAndVaud/broye_bounding_box\"\n",
    "PATH_TO_ET_PRODUCT = \"projects/thurgau-irrigation/assets/ET_Landsat_monthly_canton_v2\"\n",
    "\n",
    "USE_SR = False if YEAR < 2019 else True\n",
    "WINDOW_DAYS = 30\n",
    "BAND_TO_RESAMPLE = \"ET\"\n",
    "BANDS_TO_HARMONIZE = [\"B3\", \"B4\", \"B8\", \"B11\", \"B12\"]\n",
    "AGGREGATION_OPTIONS = {\n",
    "    \"agg_type\": \"mosaic\",\n",
    "    \"mosaic_type\": \"least_cloudy\",\n",
    "}\n",
    "INDEXES_FOR_HARMONIZATION = [\"NDVI\", \"NDWI\", \"NDBI\"]\n",
    "INDEPENDENT_BANDS = [\"gap_filled_NDVI\", \"gap_filled_NDBI\", \"gap_filled_NDWI\"]\n",
    "DEPENDENT_BAND = [\"ET\"]\n",
    "NUMBER_OF_IMAGES = 7\n",
    "TEMPORAL_RESOLUTION = \"monthly\"\n",
    "\n",
    "SCALING_FACTOR = 100\n",
    "DYNAMIC = False\n",
    "SCALING_FACTOR_PROPERTY_NAME = \"days\" if DYNAMIC else None\n",
    "\n",
    "DOWNSCALED_ASSET_PATH = f\"projects/thurgau-irrigation/assets/FribourgAndVaud/ET_products/monthly_Landsat_10m_{YEAR}\""
   ]
  },
  {
   "cell_type": "markdown",
   "metadata": {},
   "source": [
    "## Utils"
   ]
  },
  {
   "cell_type": "code",
   "execution_count": 5,
   "metadata": {},
   "outputs": [
    {
     "data": {
      "text/html": [
       "\n",
       "            <style>\n",
       "                .geemap-dark {\n",
       "                    --jp-widgets-color: white;\n",
       "                    --jp-widgets-label-color: white;\n",
       "                    --jp-ui-font-color1: white;\n",
       "                    --jp-layout-color2: #454545;\n",
       "                    background-color: #383838;\n",
       "                }\n",
       "\n",
       "                .geemap-dark .jupyter-button {\n",
       "                    --jp-layout-color3: #383838;\n",
       "                }\n",
       "\n",
       "                .geemap-colab {\n",
       "                    background-color: var(--colab-primary-surface-color, white);\n",
       "                }\n",
       "\n",
       "                .geemap-colab .jupyter-button {\n",
       "                    --jp-layout-color3: var(--colab-primary-surface-color, white);\n",
       "                }\n",
       "            </style>\n",
       "            "
      ],
      "text/plain": [
       "<IPython.core.display.HTML object>"
      ]
     },
     "metadata": {},
     "output_type": "display_data"
    }
   ],
   "source": [
    "def set_days_property(image: ee.Image) -> ee.Image:\n",
    "    \"\"\"\n",
    "    Sets the 'days' property to the number of days in the month of the image.\n",
    "\n",
    "    Args:\n",
    "        ee.Image: Image to set property on\n",
    "\n",
    "    Returns:\n",
    "        ee.Image: Image with 'days' property set\n",
    "    \"\"\"\n",
    "    date = ee.Date(image.date())\n",
    "    days = ee.Number(get_days_in_month(date))\n",
    "    return image.set(\"days\", days)"
   ]
  },
  {
   "cell_type": "markdown",
   "metadata": {},
   "source": [
    "## 1. Load ET product"
   ]
  },
  {
   "cell_type": "code",
   "execution_count": 6,
   "metadata": {},
   "outputs": [
    {
     "data": {
      "text/html": [
       "\n",
       "            <style>\n",
       "                .geemap-dark {\n",
       "                    --jp-widgets-color: white;\n",
       "                    --jp-widgets-label-color: white;\n",
       "                    --jp-ui-font-color1: white;\n",
       "                    --jp-layout-color2: #454545;\n",
       "                    background-color: #383838;\n",
       "                }\n",
       "\n",
       "                .geemap-dark .jupyter-button {\n",
       "                    --jp-layout-color3: #383838;\n",
       "                }\n",
       "\n",
       "                .geemap-colab {\n",
       "                    background-color: var(--colab-primary-surface-color, white);\n",
       "                }\n",
       "\n",
       "                .geemap-colab .jupyter-button {\n",
       "                    --jp-layout-color3: var(--colab-primary-surface-color, white);\n",
       "                }\n",
       "            </style>\n",
       "            "
      ],
      "text/plain": [
       "<IPython.core.display.HTML object>"
      ]
     },
     "metadata": {},
     "output_type": "display_data"
    }
   ],
   "source": [
    "aoi_feature_collection = ee.FeatureCollection(PATH_TO_AOI)\n",
    "aoi_geometry = aoi_feature_collection.geometry().simplify(500)\n",
    "\n",
    "aoi = aoi_geometry.buffer(600)"
   ]
  },
  {
   "cell_type": "code",
   "execution_count": 7,
   "metadata": {},
   "outputs": [
    {
     "data": {
      "text/html": [
       "\n",
       "            <style>\n",
       "                .geemap-dark {\n",
       "                    --jp-widgets-color: white;\n",
       "                    --jp-widgets-label-color: white;\n",
       "                    --jp-ui-font-color1: white;\n",
       "                    --jp-layout-color2: #454545;\n",
       "                    background-color: #383838;\n",
       "                }\n",
       "\n",
       "                .geemap-dark .jupyter-button {\n",
       "                    --jp-layout-color3: #383838;\n",
       "                }\n",
       "\n",
       "                .geemap-colab {\n",
       "                    background-color: var(--colab-primary-surface-color, white);\n",
       "                }\n",
       "\n",
       "                .geemap-colab .jupyter-button {\n",
       "                    --jp-layout-color3: var(--colab-primary-surface-color, white);\n",
       "                }\n",
       "            </style>\n",
       "            "
      ],
      "text/plain": [
       "<IPython.core.display.HTML object>"
      ]
     },
     "metadata": {},
     "output_type": "display_data"
    },
    {
     "name": "stdout",
     "output_type": "stream",
     "text": [
      "Dates of images in the collection:\n",
      "2018-04-01\n",
      "2018-05-01\n",
      "2018-06-01\n",
      "2018-07-01\n",
      "2018-08-01\n",
      "2018-09-01\n",
      "2018-10-01\n"
     ]
    }
   ],
   "source": [
    "et_coarse_collection = (\n",
    "    ee.ImageCollection(PATH_TO_ET_PRODUCT)\n",
    "    # .filter(ee.Filter.inList(\"Region\", [\"Fribourg\", \"Vaud\"]))\n",
    "    .filterBounds(aoi)\n",
    "    .filterDate(f\"{YEAR}-04-01\", f\"{YEAR}-10-31\")\n",
    "    .sort(\"system:time_start\")\n",
    "    .map(lambda img: set_days_property(img))\n",
    "    .map(\n",
    "        lambda img: back_to_float(\n",
    "            img, SCALING_FACTOR, DYNAMIC, SCALING_FACTOR_PROPERTY_NAME\n",
    "        )\n",
    "    )\n",
    ")\n",
    "\n",
    "et_coarse_collection = (\n",
    "    merge_same_date_images(et_coarse_collection)\n",
    "    .map(lambda img: resample_image(img, 100, [\"ET\"]))\n",
    "    .map(lambda img: fill_gaps_with_zeros(img))\n",
    ")\n",
    "\n",
    "et_coarse_collection = et_coarse_collection\n",
    "\n",
    "et_coarse_list = et_coarse_collection.toList(et_coarse_collection.size())\n",
    "\n",
    "print_collection_dates(et_coarse_collection)"
   ]
  },
  {
   "cell_type": "code",
   "execution_count": 8,
   "metadata": {},
   "outputs": [
    {
     "data": {
      "text/html": [
       "\n",
       "            <style>\n",
       "                .geemap-dark {\n",
       "                    --jp-widgets-color: white;\n",
       "                    --jp-widgets-label-color: white;\n",
       "                    --jp-ui-font-color1: white;\n",
       "                    --jp-layout-color2: #454545;\n",
       "                    background-color: #383838;\n",
       "                }\n",
       "\n",
       "                .geemap-dark .jupyter-button {\n",
       "                    --jp-layout-color3: #383838;\n",
       "                }\n",
       "\n",
       "                .geemap-colab {\n",
       "                    background-color: var(--colab-primary-surface-color, white);\n",
       "                }\n",
       "\n",
       "                .geemap-colab .jupyter-button {\n",
       "                    --jp-layout-color3: var(--colab-primary-surface-color, white);\n",
       "                }\n",
       "            </style>\n",
       "            "
      ],
      "text/plain": [
       "<IPython.core.display.HTML object>"
      ]
     },
     "metadata": {},
     "output_type": "display_data"
    },
    {
     "data": {
      "application/vnd.jupyter.widget-view+json": {
       "model_id": "d4e8a376c7f54f288d399858da4d97fa",
       "version_major": 2,
       "version_minor": 0
      },
      "text/plain": [
       "Map(center=[46.786627433094885, 6.874230754333321], controls=(WidgetControl(options=['position', 'transparent_…"
      ]
     },
     "execution_count": 8,
     "metadata": {},
     "output_type": "execute_result"
    }
   ],
   "source": [
    "image_1 = ee.Image(et_coarse_list.get(4))\n",
    "\n",
    "Map = geemap.Map()\n",
    "\n",
    "vis_params = {\n",
    "    \"bands\": [\"ET\"],\n",
    "    \"min\": 0,\n",
    "    \"max\": 2,\n",
    "    \"palette\": [\"blue\", \"green\", \"yellow\", \"red\"],\n",
    "}\n",
    "\n",
    "Map.addLayer(image_1, vis_params, \"ET\")\n",
    "\n",
    "Map.centerObject(aoi, 10)\n",
    "\n",
    "Map\n",
    "\n"
   ]
  },
  {
   "cell_type": "markdown",
   "metadata": {},
   "source": [
    "## 2. Load Sentinel-2 data"
   ]
  },
  {
   "cell_type": "code",
   "execution_count": 9,
   "metadata": {},
   "outputs": [
    {
     "data": {
      "text/html": [
       "\n",
       "            <style>\n",
       "                .geemap-dark {\n",
       "                    --jp-widgets-color: white;\n",
       "                    --jp-widgets-label-color: white;\n",
       "                    --jp-ui-font-color1: white;\n",
       "                    --jp-layout-color2: #454545;\n",
       "                    background-color: #383838;\n",
       "                }\n",
       "\n",
       "                .geemap-dark .jupyter-button {\n",
       "                    --jp-layout-color3: #383838;\n",
       "                }\n",
       "\n",
       "                .geemap-colab {\n",
       "                    background-color: var(--colab-primary-surface-color, white);\n",
       "                }\n",
       "\n",
       "                .geemap-colab .jupyter-button {\n",
       "                    --jp-layout-color3: var(--colab-primary-surface-color, white);\n",
       "                }\n",
       "            </style>\n",
       "            "
      ],
      "text/plain": [
       "<IPython.core.display.HTML object>"
      ]
     },
     "metadata": {},
     "output_type": "display_data"
    },
    {
     "data": {
      "text/plain": [
       "['B1',\n",
       " 'B2',\n",
       " 'B3',\n",
       " 'B4',\n",
       " 'B5',\n",
       " 'B6',\n",
       " 'B7',\n",
       " 'B8',\n",
       " 'B8A',\n",
       " 'B9',\n",
       " 'B10',\n",
       " 'B11',\n",
       " 'B12',\n",
       " 'QA10',\n",
       " 'QA20',\n",
       " 'QA60',\n",
       " 'MSK_CLASSI_OPAQUE',\n",
       " 'MSK_CLASSI_CIRRUS',\n",
       " 'MSK_CLASSI_SNOW_ICE',\n",
       " 'probability',\n",
       " 'clouds',\n",
       " 'dark_pixels',\n",
       " 'cloud_transform',\n",
       " 'shadows',\n",
       " 't',\n",
       " 'constant']"
      ]
     },
     "execution_count": 9,
     "metadata": {},
     "output_type": "execute_result"
    }
   ],
   "source": [
    "s2_collection = load_sentinel2_data((YEAR, YEAR), aoi=aoi, use_SR=USE_SR)\n",
    "\n",
    "time_intervals = create_forward_date_ranges(et_coarse_list, window_days=WINDOW_DAYS)\n",
    "\n",
    "s2_harmonized = harmonized_ts(\n",
    "    masked_collection=s2_collection,\n",
    "    band_list=BANDS_TO_HARMONIZE,\n",
    "    time_intervals=time_intervals,\n",
    "    options=AGGREGATION_OPTIONS,\n",
    ")\n",
    "\n",
    "# print_collection_dates(s2_harmonized)\n",
    "s2_collection.first().bandNames().getInfo()"
   ]
  },
  {
   "cell_type": "markdown",
   "metadata": {},
   "source": [
    "### 2.1 Prepare the Sentinel-2 data for harmonization"
   ]
  },
  {
   "cell_type": "code",
   "execution_count": 10,
   "metadata": {},
   "outputs": [
    {
     "data": {
      "text/html": [
       "\n",
       "            <style>\n",
       "                .geemap-dark {\n",
       "                    --jp-widgets-color: white;\n",
       "                    --jp-widgets-label-color: white;\n",
       "                    --jp-ui-font-color1: white;\n",
       "                    --jp-layout-color2: #454545;\n",
       "                    background-color: #383838;\n",
       "                }\n",
       "\n",
       "                .geemap-dark .jupyter-button {\n",
       "                    --jp-layout-color3: #383838;\n",
       "                }\n",
       "\n",
       "                .geemap-colab {\n",
       "                    background-color: var(--colab-primary-surface-color, white);\n",
       "                }\n",
       "\n",
       "                .geemap-colab .jupyter-button {\n",
       "                    --jp-layout-color3: var(--colab-primary-surface-color, white);\n",
       "                }\n",
       "            </style>\n",
       "            "
      ],
      "text/plain": [
       "<IPython.core.display.HTML object>"
      ]
     },
     "metadata": {},
     "output_type": "display_data"
    },
    {
     "data": {
      "text/plain": [
       "['B3', 'B4', 'B8', 'B11', 'B12', 't', 'constant']"
      ]
     },
     "execution_count": 10,
     "metadata": {},
     "output_type": "execute_result"
    }
   ],
   "source": [
    "def add_temporal_bands(collection: ee.ImageCollection) -> ee.ImageCollection:\n",
    "    \"\"\"Add temporal bands to each image in the collection.\"\"\"\n",
    "    def _add_bands(image: ee.Image) -> ee.Image:\n",
    "        date = ee.Date(image.get('system:time_start'))\n",
    "        years = date.difference(ee.Date('1970-01-01'), 'year')\n",
    "        \n",
    "        projection = image.select([0]).projection()\n",
    "        time_band = ee.Image(years).float().rename('t')\n",
    "        constant_band = ee.Image.constant(1).rename('constant')\n",
    "        \n",
    "        return image.addBands([\n",
    "            time_band.setDefaultProjection(projection),\n",
    "            constant_band.setDefaultProjection(projection)\n",
    "        ])\n",
    "    \n",
    "    return collection.map(_add_bands)\n",
    "\n",
    "s2_harmonized = add_temporal_bands(s2_harmonized)\n",
    "s2_harmonized.first().bandNames().getInfo()"
   ]
  },
  {
   "cell_type": "code",
   "execution_count": 11,
   "metadata": {},
   "outputs": [
    {
     "data": {
      "text/html": [
       "\n",
       "            <style>\n",
       "                .geemap-dark {\n",
       "                    --jp-widgets-color: white;\n",
       "                    --jp-widgets-label-color: white;\n",
       "                    --jp-ui-font-color1: white;\n",
       "                    --jp-layout-color2: #454545;\n",
       "                    background-color: #383838;\n",
       "                }\n",
       "\n",
       "                .geemap-dark .jupyter-button {\n",
       "                    --jp-layout-color3: #383838;\n",
       "                }\n",
       "\n",
       "                .geemap-colab {\n",
       "                    background-color: var(--colab-primary-surface-color, white);\n",
       "                }\n",
       "\n",
       "                .geemap-colab .jupyter-button {\n",
       "                    --jp-layout-color3: var(--colab-primary-surface-color, white);\n",
       "                }\n",
       "            </style>\n",
       "            "
      ],
      "text/plain": [
       "<IPython.core.display.HTML object>"
      ]
     },
     "metadata": {},
     "output_type": "display_data"
    }
   ],
   "source": [
    "def compute_vegetation_indexes(image: ee.Image) -> ee.Image:\n",
    "    \"\"\"\n",
    "    Compute vegetation indexes for a given image\n",
    "\n",
    "    Args:\n",
    "        image (ee.Image): The image to compute the vegetation indexes for\n",
    "\n",
    "    Returns:\n",
    "        ee.Image: The input image with the vegetation indexes\n",
    "\n",
    "    \"\"\"\n",
    "    ndvi = image.normalizedDifference([\"B8\", \"B4\"]).rename(\"NDVI\")\n",
    "    ndwi = image.normalizedDifference([\"B3\", \"B8\"]).rename(\"NDWI\")\n",
    "    ndbi = image.normalizedDifference([\"B11\", \"B8\"]).rename(\"NDBI\")\n",
    "    return image.addBands(ndvi).addBands(ndwi).addBands(ndbi)\n",
    "\n",
    "s2_harmonized_w_vegetation_indexes = s2_harmonized.map(compute_vegetation_indexes)"
   ]
  },
  {
   "cell_type": "code",
   "execution_count": 12,
   "metadata": {},
   "outputs": [
    {
     "data": {
      "text/html": [
       "\n",
       "            <style>\n",
       "                .geemap-dark {\n",
       "                    --jp-widgets-color: white;\n",
       "                    --jp-widgets-label-color: white;\n",
       "                    --jp-ui-font-color1: white;\n",
       "                    --jp-layout-color2: #454545;\n",
       "                    background-color: #383838;\n",
       "                }\n",
       "\n",
       "                .geemap-dark .jupyter-button {\n",
       "                    --jp-layout-color3: #383838;\n",
       "                }\n",
       "\n",
       "                .geemap-colab {\n",
       "                    background-color: var(--colab-primary-surface-color, white);\n",
       "                }\n",
       "\n",
       "                .geemap-colab .jupyter-button {\n",
       "                    --jp-layout-color3: var(--colab-primary-surface-color, white);\n",
       "                }\n",
       "            </style>\n",
       "            "
      ],
      "text/plain": [
       "<IPython.core.display.HTML object>"
      ]
     },
     "metadata": {},
     "output_type": "display_data"
    }
   ],
   "source": [
    "# s2_harmonized_w_vegetation_indexes.first().bandNames().getInfo()    "
   ]
  },
  {
   "cell_type": "markdown",
   "metadata": {},
   "source": [
    "### 2.2 Fit an Harmonic Regressor to the Sentinel-2 data"
   ]
  },
  {
   "cell_type": "code",
   "execution_count": 13,
   "metadata": {},
   "outputs": [
    {
     "data": {
      "text/html": [
       "\n",
       "            <style>\n",
       "                .geemap-dark {\n",
       "                    --jp-widgets-color: white;\n",
       "                    --jp-widgets-label-color: white;\n",
       "                    --jp-ui-font-color1: white;\n",
       "                    --jp-layout-color2: #454545;\n",
       "                    background-color: #383838;\n",
       "                }\n",
       "\n",
       "                .geemap-dark .jupyter-button {\n",
       "                    --jp-layout-color3: #383838;\n",
       "                }\n",
       "\n",
       "                .geemap-colab {\n",
       "                    background-color: var(--colab-primary-surface-color, white);\n",
       "                }\n",
       "\n",
       "                .geemap-colab .jupyter-button {\n",
       "                    --jp-layout-color3: var(--colab-primary-surface-color, white);\n",
       "                }\n",
       "            </style>\n",
       "            "
      ],
      "text/plain": [
       "<IPython.core.display.HTML object>"
      ]
     },
     "metadata": {},
     "output_type": "display_data"
    }
   ],
   "source": [
    "s2_harmonized_gaps_filled = s2_harmonized_w_vegetation_indexes\n",
    "\n",
    "for index in INDEXES_FOR_HARMONIZATION:\n",
    "    regressor = HarmonicRegressor(\n",
    "        omega=1, max_harmonic_order=2, band_to_harmonize=index\n",
    "    )\n",
    "\n",
    "    regressor.fit(s2_harmonized_w_vegetation_indexes)\n",
    "    fitted_collection = regressor.predict(s2_harmonized_w_vegetation_indexes)\n",
    "\n",
    "    fitted_collection = fitted_collection.map(\n",
    "        lambda img: img.select([\"fitted\"]).rename(f\"fitted_{index}\")\n",
    "    )\n",
    "\n",
    "    s2_harmonized_gaps_filled = s2_harmonized_gaps_filled.map(\n",
    "        lambda img: img.addBands(\n",
    "            fitted_collection.filterDate(img.date()).first().select([f\"fitted_{index}\"])\n",
    "        )\n",
    "    )"
   ]
  },
  {
   "cell_type": "code",
   "execution_count": 14,
   "metadata": {},
   "outputs": [
    {
     "data": {
      "text/html": [
       "\n",
       "            <style>\n",
       "                .geemap-dark {\n",
       "                    --jp-widgets-color: white;\n",
       "                    --jp-widgets-label-color: white;\n",
       "                    --jp-ui-font-color1: white;\n",
       "                    --jp-layout-color2: #454545;\n",
       "                    background-color: #383838;\n",
       "                }\n",
       "\n",
       "                .geemap-dark .jupyter-button {\n",
       "                    --jp-layout-color3: #383838;\n",
       "                }\n",
       "\n",
       "                .geemap-colab {\n",
       "                    background-color: var(--colab-primary-surface-color, white);\n",
       "                }\n",
       "\n",
       "                .geemap-colab .jupyter-button {\n",
       "                    --jp-layout-color3: var(--colab-primary-surface-color, white);\n",
       "                }\n",
       "            </style>\n",
       "            "
      ],
      "text/plain": [
       "<IPython.core.display.HTML object>"
      ]
     },
     "metadata": {},
     "output_type": "display_data"
    }
   ],
   "source": [
    "# s2_harmonized_gaps_filled.first().bandNames().getInfo()"
   ]
  },
  {
   "cell_type": "markdown",
   "metadata": {},
   "source": [
    "### 2.3 Use the fitted harmonic bands to fill the gaps in the original bands"
   ]
  },
  {
   "cell_type": "code",
   "execution_count": 15,
   "metadata": {},
   "outputs": [
    {
     "data": {
      "text/html": [
       "\n",
       "            <style>\n",
       "                .geemap-dark {\n",
       "                    --jp-widgets-color: white;\n",
       "                    --jp-widgets-label-color: white;\n",
       "                    --jp-ui-font-color1: white;\n",
       "                    --jp-layout-color2: #454545;\n",
       "                    background-color: #383838;\n",
       "                }\n",
       "\n",
       "                .geemap-dark .jupyter-button {\n",
       "                    --jp-layout-color3: #383838;\n",
       "                }\n",
       "\n",
       "                .geemap-colab {\n",
       "                    background-color: var(--colab-primary-surface-color, white);\n",
       "                }\n",
       "\n",
       "                .geemap-colab .jupyter-button {\n",
       "                    --jp-layout-color3: var(--colab-primary-surface-color, white);\n",
       "                }\n",
       "            </style>\n",
       "            "
      ],
      "text/plain": [
       "<IPython.core.display.HTML object>"
      ]
     },
     "metadata": {},
     "output_type": "display_data"
    }
   ],
   "source": [
    "def fill_gaps(\n",
    "    img: ee.Image, source_band: str, fill_band: str, output_name: str\n",
    ") -> ee.Image:\n",
    "    \"\"\"Fill gaps in a band with values from another band.\n",
    "\n",
    "    Args:\n",
    "        img (ee.Image): Input image containing both bands\n",
    "        source_band (str): Name of band containing gaps to fill\n",
    "        fill_band (str): Name of band to use for filling gaps\n",
    "        output_name (str): Name for the output gap-filled band\n",
    "\n",
    "    Returns:\n",
    "        ee.Image: Image with gap-filled band\n",
    "    \"\"\"\n",
    "    scale = img.projection().nominalScale()\n",
    "    projection = img.projection()\n",
    "    # Create mask where the source band is invalid (gaps)\n",
    "    gap_mask = img.select(source_band).mask().Not()\n",
    "\n",
    "    # Get the source band and fill band\n",
    "    source = img.select(source_band)\n",
    "    fill = img.select(fill_band)\n",
    "\n",
    "    # Fill gaps: use source band where available, fill band where there are gaps\n",
    "    filled = source.unmask().where(gap_mask, fill).rename(output_name)\n",
    "    filled = filled.setDefaultProjection(projection).set(\"scale\", scale)\n",
    "\n",
    "    return filled\n",
    "\n",
    "\n",
    "def apply_gap_filling(img: ee.Image, indexes: List[str]) -> ee.Image:\n",
    "    \"\"\"Apply gap filling to multiple bands.\n",
    "\n",
    "    Args:\n",
    "        img (ee.Image): Input image\n",
    "        indexes (list[str]): List of index names to process (e.g., ['NDVI', 'NDWI', 'NDBI'])\n",
    "\n",
    "    Returns:\n",
    "        ee.Image: Original image with added gap-filled bands\n",
    "    \"\"\"\n",
    "    # Start with the original image\n",
    "    result = img\n",
    "\n",
    "    # Add each gap-filled band one at a time\n",
    "    for index in indexes:\n",
    "        filled_band = fill_gaps(\n",
    "            img=img,\n",
    "            source_band=index,\n",
    "            fill_band=f\"fitted_{index}\",\n",
    "            output_name=f\"gap_filled_{index}\",\n",
    "        )\n",
    "        result = result.addBands(filled_band)\n",
    "\n",
    "    return result\n",
    "\n",
    "\n",
    "# Apply gap filling to the collection\n",
    "def process_collection(\n",
    "    collection: ee.ImageCollection, indexes: List[str]\n",
    ") -> ee.ImageCollection:\n",
    "    \"\"\"Process entire collection by applying gap filling to each image.\n",
    "\n",
    "    Args:\n",
    "        collection (ee.ImageCollection): Input collection\n",
    "        indexes (List[str]): List of index names to process\n",
    "\n",
    "    Returns:\n",
    "        ee.ImageCollection: Processed collection with gap-filled bands\n",
    "    \"\"\"\n",
    "    return collection.map(lambda img: apply_gap_filling(img, indexes))\n",
    "\n",
    "\n",
    "s2_harmonized_gaps_filled = process_collection(s2_harmonized_gaps_filled, INDEXES_FOR_HARMONIZATION)\n",
    "\n",
    "# s2_harmonized_gaps_filled.first().bandNames().getInfo()"
   ]
  },
  {
   "cell_type": "markdown",
   "metadata": {},
   "source": [
    "## 3. Downscale the ET product to 10m resolution"
   ]
  },
  {
   "cell_type": "code",
   "execution_count": 16,
   "metadata": {},
   "outputs": [
    {
     "data": {
      "text/html": [
       "\n",
       "            <style>\n",
       "                .geemap-dark {\n",
       "                    --jp-widgets-color: white;\n",
       "                    --jp-widgets-label-color: white;\n",
       "                    --jp-ui-font-color1: white;\n",
       "                    --jp-layout-color2: #454545;\n",
       "                    background-color: #383838;\n",
       "                }\n",
       "\n",
       "                .geemap-dark .jupyter-button {\n",
       "                    --jp-layout-color3: #383838;\n",
       "                }\n",
       "\n",
       "                .geemap-colab {\n",
       "                    background-color: var(--colab-primary-surface-color, white);\n",
       "                }\n",
       "\n",
       "                .geemap-colab .jupyter-button {\n",
       "                    --jp-layout-color3: var(--colab-primary-surface-color, white);\n",
       "                }\n",
       "            </style>\n",
       "            "
      ],
      "text/plain": [
       "<IPython.core.display.HTML object>"
      ]
     },
     "metadata": {},
     "output_type": "display_data"
    }
   ],
   "source": [
    "def prepare_image_lists(\n",
    "    s2_indices: ee.ImageCollection,\n",
    "    independent_vars: ee.ImageCollection,\n",
    "    dependent_vars: ee.ImageCollection,\n",
    ") -> Tuple[ee.List, ee.List, ee.List]:\n",
    "    \"\"\"\n",
    "    Convert image collections to lists and verify sizes match.\n",
    "\n",
    "    Args:\n",
    "        s2_indices: Sentinel-2 indices collection\n",
    "        independent_vars: Independent variables collection\n",
    "        dependent_vars: Dependent variables collection\n",
    "\n",
    "    Returns:\n",
    "        Tuple containing the three image lists\n",
    "\n",
    "    Raises:\n",
    "        ValueError: If collection sizes don't match\n",
    "    \"\"\"\n",
    "    s2_list = s2_indices.toList(s2_indices.size())\n",
    "    ind_list = independent_vars.toList(independent_vars.size())\n",
    "    dep_list = dependent_vars.toList(dependent_vars.size())\n",
    "\n",
    "    return s2_list, ind_list, dep_list\n",
    "\n",
    "\n",
    "def perform_downscaling(\n",
    "    downscaler: Downscaler,\n",
    "    s2_index: ee.Image,\n",
    "    ind_vars: ee.Image,\n",
    "    dep_vars: ee.Image,\n",
    "    aoi: ee.Geometry,\n",
    "    scale_coarse: float,\n",
    ") -> ee.Image:\n",
    "    \"\"\"\n",
    "    Perform downscaling operation on a single timestep.\n",
    "\n",
    "    Args:\n",
    "        downscaler: Downscaler object\n",
    "        s2_index: Sentinel-2 indices image\n",
    "        ind_vars: Independent variables image\n",
    "        dep_vars: Dependent variables image\n",
    "        aoi: Area of interest\n",
    "        scale_coarse: Coarse resolution scale\n",
    "\n",
    "    Returns:\n",
    "        Downscaled image\n",
    "    \"\"\"\n",
    "    return downscaler.downscale(\n",
    "        coarse_independent_vars=ind_vars,\n",
    "        coarse_dependent_var=dep_vars,\n",
    "        fine_independent_vars=s2_index,\n",
    "        geometry=aoi,\n",
    "        resolution=scale_coarse,\n",
    "    )\n",
    "\n",
    "\n",
    "def process_and_export_downscaled_ET(\n",
    "    downscaler: Downscaler,\n",
    "    s2_indices: ee.ImageCollection,\n",
    "    independent_vars: ee.ImageCollection,\n",
    "    dependent_vars: ee.ImageCollection,\n",
    "    aoi: ee.Geometry,\n",
    "    year: int,\n",
    "    scale_coarse: float,\n",
    "    asset_path: str,\n",
    "    scale_fine: float = 10,\n",
    "    time_step_type: str = \"dekadal\",\n",
    "    number_of_images: int = 36,\n",
    ") -> List[ee.batch.Task]:\n",
    "    \"\"\"\n",
    "    Process and export downscaled WaPOR ET images to Earth Engine assets.\n",
    "\n",
    "    Args:\n",
    "        downscaler: The Downscaler object used to downscale the images\n",
    "        s2_indices: The Sentinel-2 indices image collection\n",
    "        independent_vars: The resampled independent variables image collection\n",
    "        dependent_vars: The dependent variables image collection\n",
    "        aoi: The area of interest geometry\n",
    "        year: The year for which the images are processed\n",
    "        scale_coarse: The scale of the images before downscaling\n",
    "        asset_path: Base path for asset export\n",
    "        scale_fine: The scale of the images after downscaling\n",
    "        time_step_type: Type of time step (\"dekadal\" or \"monthly\")\n",
    "\n",
    "    Returns:\n",
    "        List of export tasks for the downscaled images\n",
    "\n",
    "    Raises:\n",
    "        ValueError: If time_step_type is invalid or collections have different sizes\n",
    "    \"\"\"\n",
    "    # Convert collections to lists and validate\n",
    "    s2_list, ind_list, dep_list = prepare_image_lists(\n",
    "        s2_indices, independent_vars, dependent_vars\n",
    "    )\n",
    "\n",
    "    tasks = []\n",
    "\n",
    "    for i in range(number_of_images):\n",
    "        # Get images for current timestep\n",
    "        s2_index = ee.Image(s2_list.get(i))\n",
    "        ind_vars = ee.Image(ind_list.get(i))\n",
    "        dep_vars = ee.Image(dep_list.get(i))\n",
    "\n",
    "        # Get date from the S2 image\n",
    "        date = ee.Date(s2_index.get(\"system:time_start\"))\n",
    "        time_step_pattern = get_time_step_pattern(date, time_step_type)\n",
    "\n",
    "        # Perform downscaling\n",
    "        et_image_downscaled = perform_downscaling(\n",
    "            downscaler=downscaler,\n",
    "            s2_index=s2_index,\n",
    "            ind_vars=ind_vars,\n",
    "            dep_vars=dep_vars,\n",
    "            aoi=aoi,\n",
    "            scale_coarse=scale_coarse,\n",
    "        )\n",
    "\n",
    "        # Post-process the downscaled image\n",
    "        et_image_downscaled = back_to_int(et_image_downscaled, 100)\n",
    "\n",
    "        # Generate task name and export\n",
    "        task_name = (\n",
    "            f\"Downscaled_ET_gap_filled_{time_step_type}_{year}_{time_step_pattern}\"\n",
    "        )\n",
    "        task = generate_export_task(\n",
    "            et_image_downscaled,\n",
    "            asset_path,\n",
    "            task_name,\n",
    "            year,\n",
    "            aoi,\n",
    "            resolution=scale_fine,\n",
    "        )\n",
    "        tasks.append(task)\n",
    "\n",
    "    print(f\"Generated {len(tasks)} export tasks for year {year}\")\n",
    "    return tasks"
   ]
  },
  {
   "cell_type": "code",
   "execution_count": 17,
   "metadata": {},
   "outputs": [
    {
     "data": {
      "text/html": [
       "\n",
       "            <style>\n",
       "                .geemap-dark {\n",
       "                    --jp-widgets-color: white;\n",
       "                    --jp-widgets-label-color: white;\n",
       "                    --jp-ui-font-color1: white;\n",
       "                    --jp-layout-color2: #454545;\n",
       "                    background-color: #383838;\n",
       "                }\n",
       "\n",
       "                .geemap-dark .jupyter-button {\n",
       "                    --jp-layout-color3: #383838;\n",
       "                }\n",
       "\n",
       "                .geemap-colab {\n",
       "                    background-color: var(--colab-primary-surface-color, white);\n",
       "                }\n",
       "\n",
       "                .geemap-colab .jupyter-button {\n",
       "                    --jp-layout-color3: var(--colab-primary-surface-color, white);\n",
       "                }\n",
       "            </style>\n",
       "            "
      ],
      "text/plain": [
       "<IPython.core.display.HTML object>"
      ]
     },
     "metadata": {},
     "output_type": "display_data"
    }
   ],
   "source": [
    "scale = et_coarse_collection.first().projection().nominalScale().getInfo()\n",
    "\n",
    "# Prepare collections\n",
    "s2_indices = s2_harmonized_gaps_filled.select(INDEPENDENT_BANDS)\n",
    "independent_vars = s2_indices.map(\n",
    "    lambda img: resample_image(img, scale, INDEPENDENT_BANDS)\n",
    ")\n",
    "dependent_vars = et_coarse_collection.select(DEPENDENT_BAND)\n",
    "\n",
    "# Initialize the Downscaler\n",
    "downscaler = Downscaler(\n",
    "    independent_bands=INDEPENDENT_BANDS,\n",
    "    dependent_band=DEPENDENT_BAND[0],\n",
    ")\n",
    "\n",
    "# Process and export\n",
    "# tasks = process_and_export_downscaled_ET(\n",
    "#     downscaler=downscaler,\n",
    "#     s2_indices=s2_indices,\n",
    "#     independent_vars=independent_vars,\n",
    "#     dependent_vars=dependent_vars,\n",
    "#     aoi=aoi,\n",
    "#     year=YEAR,  \n",
    "#     scale_coarse=scale,\n",
    "#     asset_path=DOWNSCALED_ASSET_PATH,\n",
    "#     scale_fine=10, \n",
    "#     time_step_type=TEMPORAL_RESOLUTION,  \n",
    "#     number_of_images=NUMBER_OF_IMAGES,\n",
    "# )"
   ]
  },
  {
   "cell_type": "code",
   "execution_count": 18,
   "metadata": {},
   "outputs": [
    {
     "data": {
      "text/html": [
       "\n",
       "            <style>\n",
       "                .geemap-dark {\n",
       "                    --jp-widgets-color: white;\n",
       "                    --jp-widgets-label-color: white;\n",
       "                    --jp-ui-font-color1: white;\n",
       "                    --jp-layout-color2: #454545;\n",
       "                    background-color: #383838;\n",
       "                }\n",
       "\n",
       "                .geemap-dark .jupyter-button {\n",
       "                    --jp-layout-color3: #383838;\n",
       "                }\n",
       "\n",
       "                .geemap-colab {\n",
       "                    background-color: var(--colab-primary-surface-color, white);\n",
       "                }\n",
       "\n",
       "                .geemap-colab .jupyter-button {\n",
       "                    --jp-layout-color3: var(--colab-primary-surface-color, white);\n",
       "                }\n",
       "            </style>\n",
       "            "
      ],
      "text/plain": [
       "<IPython.core.display.HTML object>"
      ]
     },
     "metadata": {},
     "output_type": "display_data"
    }
   ],
   "source": [
    "# independent_vars.first().bandNames().getInfo()"
   ]
  },
  {
   "cell_type": "markdown",
   "metadata": {},
   "source": [
    "## Sanity checks\n",
    "### 1. Check the Sentinel-2 harmonization"
   ]
  },
  {
   "cell_type": "code",
   "execution_count": 19,
   "metadata": {},
   "outputs": [
    {
     "data": {
      "text/html": [
       "\n",
       "            <style>\n",
       "                .geemap-dark {\n",
       "                    --jp-widgets-color: white;\n",
       "                    --jp-widgets-label-color: white;\n",
       "                    --jp-ui-font-color1: white;\n",
       "                    --jp-layout-color2: #454545;\n",
       "                    background-color: #383838;\n",
       "                }\n",
       "\n",
       "                .geemap-dark .jupyter-button {\n",
       "                    --jp-layout-color3: #383838;\n",
       "                }\n",
       "\n",
       "                .geemap-colab {\n",
       "                    background-color: var(--colab-primary-surface-color, white);\n",
       "                }\n",
       "\n",
       "                .geemap-colab .jupyter-button {\n",
       "                    --jp-layout-color3: var(--colab-primary-surface-color, white);\n",
       "                }\n",
       "            </style>\n",
       "            "
      ],
      "text/plain": [
       "<IPython.core.display.HTML object>"
      ]
     },
     "metadata": {},
     "output_type": "display_data"
    }
   ],
   "source": [
    "# s2_harmonized_gaps_filled.size().getInfo()"
   ]
  },
  {
   "cell_type": "code",
   "execution_count": 20,
   "metadata": {},
   "outputs": [
    {
     "data": {
      "text/html": [
       "\n",
       "            <style>\n",
       "                .geemap-dark {\n",
       "                    --jp-widgets-color: white;\n",
       "                    --jp-widgets-label-color: white;\n",
       "                    --jp-ui-font-color1: white;\n",
       "                    --jp-layout-color2: #454545;\n",
       "                    background-color: #383838;\n",
       "                }\n",
       "\n",
       "                .geemap-dark .jupyter-button {\n",
       "                    --jp-layout-color3: #383838;\n",
       "                }\n",
       "\n",
       "                .geemap-colab {\n",
       "                    background-color: var(--colab-primary-surface-color, white);\n",
       "                }\n",
       "\n",
       "                .geemap-colab .jupyter-button {\n",
       "                    --jp-layout-color3: var(--colab-primary-surface-color, white);\n",
       "                }\n",
       "            </style>\n",
       "            "
      ],
      "text/plain": [
       "<IPython.core.display.HTML object>"
      ]
     },
     "metadata": {},
     "output_type": "display_data"
    },
    {
     "data": {
      "application/vnd.jupyter.widget-view+json": {
       "model_id": "9e6dba05c21346d5bf97e28147bdb502",
       "version_major": 2,
       "version_minor": 0
      },
      "text/plain": [
       "Map(center=[46.786627433094885, 6.874230754333321], controls=(WidgetControl(options=['position', 'transparent_…"
      ]
     },
     "execution_count": 20,
     "metadata": {},
     "output_type": "execute_result"
    }
   ],
   "source": [
    "Map = geemap.Map()\n",
    "\n",
    "sentinel_vis_params = {\n",
    "    \"bands\": [\"NDVI\"],\n",
    "    \"min\": 0,\n",
    "    \"max\": 1,\n",
    "    \"palette\": [\"white\", \"green\"],\n",
    "}\n",
    "\n",
    "fitted_vis_params = {\n",
    "    \"bands\": [\"fitted_NDVI\"],\n",
    "    \"min\": 0,\n",
    "    \"max\": 1,\n",
    "    \"palette\": [\"white\", \"green\"],\n",
    "}\n",
    "\n",
    "gap_filled_vis_params = {\n",
    "    \"bands\": [\"gap_filled_NDVI\"],\n",
    "    \"min\": 0,\n",
    "    \"max\": 1,\n",
    "    \"palette\": [\"white\", \"green\"],\n",
    "}\n",
    "\n",
    "\n",
    "s2_image = ee.Image(s2_harmonized_gaps_filled.filterBounds(aoi).toList(7).get(2))\n",
    "# s2_image_resampled = ee.Image(independent_vars.toList(36).get(0))\n",
    "\n",
    "Map.addLayer(s2_image, sentinel_vis_params, \"Sentinel 2\")\n",
    "# # Map.addLayer(s2_image, fitted_vis_params, \"Sentinel 2 Fitted\")\n",
    "Map.addLayer(s2_image, gap_filled_vis_params, \"Sentinel 2 Gap Filled\")\n",
    "# Map.addLayer(s2_image_resampled, gap_filled_vis_params, \"Sentinel 2 Resampled\")\n",
    "\n",
    "\n",
    "Map.centerObject(aoi, 12)\n",
    "Map"
   ]
  },
  {
   "cell_type": "code",
   "execution_count": null,
   "metadata": {},
   "outputs": [],
   "source": []
  },
  {
   "cell_type": "code",
   "execution_count": 21,
   "metadata": {},
   "outputs": [
    {
     "data": {
      "text/html": [
       "\n",
       "            <style>\n",
       "                .geemap-dark {\n",
       "                    --jp-widgets-color: white;\n",
       "                    --jp-widgets-label-color: white;\n",
       "                    --jp-ui-font-color1: white;\n",
       "                    --jp-layout-color2: #454545;\n",
       "                    background-color: #383838;\n",
       "                }\n",
       "\n",
       "                .geemap-dark .jupyter-button {\n",
       "                    --jp-layout-color3: #383838;\n",
       "                }\n",
       "\n",
       "                .geemap-colab {\n",
       "                    background-color: var(--colab-primary-surface-color, white);\n",
       "                }\n",
       "\n",
       "                .geemap-colab .jupyter-button {\n",
       "                    --jp-layout-color3: var(--colab-primary-surface-color, white);\n",
       "                }\n",
       "            </style>\n",
       "            "
      ],
      "text/plain": [
       "<IPython.core.display.HTML object>"
      ]
     },
     "metadata": {},
     "output_type": "display_data"
    }
   ],
   "source": [
    "# print_collection_dates(s2_harmonized_gaps_filled)"
   ]
  },
  {
   "cell_type": "markdown",
   "metadata": {},
   "source": [
    "### 2. Sanity Check"
   ]
  },
  {
   "cell_type": "code",
   "execution_count": 15,
   "metadata": {},
   "outputs": [
    {
     "data": {
      "text/html": [
       "\n",
       "            <style>\n",
       "                .geemap-dark {\n",
       "                    --jp-widgets-color: white;\n",
       "                    --jp-widgets-label-color: white;\n",
       "                    --jp-ui-font-color1: white;\n",
       "                    --jp-layout-color2: #454545;\n",
       "                    background-color: #383838;\n",
       "                }\n",
       "\n",
       "                .geemap-dark .jupyter-button {\n",
       "                    --jp-layout-color3: #383838;\n",
       "                }\n",
       "\n",
       "                .geemap-colab {\n",
       "                    background-color: var(--colab-primary-surface-color, white);\n",
       "                }\n",
       "\n",
       "                .geemap-colab .jupyter-button {\n",
       "                    --jp-layout-color3: var(--colab-primary-surface-color, white);\n",
       "                }\n",
       "            </style>\n",
       "            "
      ],
      "text/plain": [
       "<IPython.core.display.HTML object>"
      ]
     },
     "metadata": {},
     "output_type": "display_data"
    },
    {
     "name": "stdout",
     "output_type": "stream",
     "text": [
      "Dates of images in the collection:\n",
      "2020-04-16\n",
      "2020-05-16\n",
      "2020-06-16\n",
      "2020-07-16\n",
      "2020-08-16\n",
      "2020-09-16\n",
      "2020-10-16\n"
     ]
    }
   ],
   "source": [
    "collection = ee.ImageCollection(\"projects/thurgau-irrigation/assets/FribourgAndVaud/ET_products/monthly_Landsat_10m_2020\").map(lambda img: back_to_float(img, 100))\n",
    "\n",
    "print_collection_dates(collection)"
   ]
  },
  {
   "cell_type": "code",
   "execution_count": 16,
   "metadata": {},
   "outputs": [
    {
     "data": {
      "text/html": [
       "\n",
       "            <style>\n",
       "                .geemap-dark {\n",
       "                    --jp-widgets-color: white;\n",
       "                    --jp-widgets-label-color: white;\n",
       "                    --jp-ui-font-color1: white;\n",
       "                    --jp-layout-color2: #454545;\n",
       "                    background-color: #383838;\n",
       "                }\n",
       "\n",
       "                .geemap-dark .jupyter-button {\n",
       "                    --jp-layout-color3: #383838;\n",
       "                }\n",
       "\n",
       "                .geemap-colab {\n",
       "                    background-color: var(--colab-primary-surface-color, white);\n",
       "                }\n",
       "\n",
       "                .geemap-colab .jupyter-button {\n",
       "                    --jp-layout-color3: var(--colab-primary-surface-color, white);\n",
       "                }\n",
       "            </style>\n",
       "            "
      ],
      "text/plain": [
       "<IPython.core.display.HTML object>"
      ]
     },
     "metadata": {},
     "output_type": "display_data"
    }
   ],
   "source": [
    "collection_list = collection.toList(collection.size())\n"
   ]
  },
  {
   "cell_type": "code",
   "execution_count": null,
   "metadata": {},
   "outputs": [
    {
     "data": {
      "text/html": [
       "\n",
       "            <style>\n",
       "                .geemap-dark {\n",
       "                    --jp-widgets-color: white;\n",
       "                    --jp-widgets-label-color: white;\n",
       "                    --jp-ui-font-color1: white;\n",
       "                    --jp-layout-color2: #454545;\n",
       "                    background-color: #383838;\n",
       "                }\n",
       "\n",
       "                .geemap-dark .jupyter-button {\n",
       "                    --jp-layout-color3: #383838;\n",
       "                }\n",
       "\n",
       "                .geemap-colab {\n",
       "                    background-color: var(--colab-primary-surface-color, white);\n",
       "                }\n",
       "\n",
       "                .geemap-colab .jupyter-button {\n",
       "                    --jp-layout-color3: var(--colab-primary-surface-color, white);\n",
       "                }\n",
       "            </style>\n",
       "            "
      ],
      "text/plain": [
       "<IPython.core.display.HTML object>"
      ]
     },
     "metadata": {},
     "output_type": "display_data"
    },
    {
     "data": {
      "application/vnd.jupyter.widget-view+json": {
       "model_id": "97a27bacedaa4633bebfd59048a8daee",
       "version_major": 2,
       "version_minor": 0
      },
      "text/plain": [
       "Map(center=[46.786627433094885, 6.874230754333321], controls=(WidgetControl(options=['position', 'transparent_…"
      ]
     },
     "execution_count": 18,
     "metadata": {},
     "output_type": "execute_result"
    }
   ],
   "source": [
    "Map = geemap.Map()\n",
    "\n",
    "et_vis_params = {\n",
    "    \"bands\": [\"downscaled\"],\n",
    "    \"min\": 0,\n",
    "    \"max\": 1,\n",
    "    \"palette\": [\"white\", \"lightblue\", \"blue\", \"green\", \"yellow\", \"orange\", \"red\", \"darkred\"],\n",
    "}\n",
    "\n",
    "et_coarse_vis_params = {\n",
    "    \"bands\": [\"ET\"],\n",
    "    \"min\": 0,\n",
    "    \"max\": 2,\n",
    "    \"palette\": [\"white\", \"lightblue\", \"blue\", \"green\", \"yellow\", \"orange\", \"red\", \"darkred\"],\n",
    "}\n",
    "\n",
    "\n",
    "et_image = ee.Image(collection_list.get(6))\n",
    "# et_image_coarse = ee.Image(et_coarse_list.get(3))\n",
    "\n",
    "Map.addLayer(et_image, et_vis_params, \"ET\")\n",
    "# Map.addLayer(et_image_coarse, et_coarse_vis_params, \"ET Coarse\")\n",
    "# Map.addLayer(aoi, {}, \"AOI\")\n",
    "\n",
    "Map.centerObject(aoi, 12)\n",
    "\n",
    "Map"
   ]
  },
  {
   "cell_type": "code",
   "execution_count": 25,
   "metadata": {},
   "outputs": [
    {
     "data": {
      "text/html": [
       "\n",
       "            <style>\n",
       "                .geemap-dark {\n",
       "                    --jp-widgets-color: white;\n",
       "                    --jp-widgets-label-color: white;\n",
       "                    --jp-ui-font-color1: white;\n",
       "                    --jp-layout-color2: #454545;\n",
       "                    background-color: #383838;\n",
       "                }\n",
       "\n",
       "                .geemap-dark .jupyter-button {\n",
       "                    --jp-layout-color3: #383838;\n",
       "                }\n",
       "\n",
       "                .geemap-colab {\n",
       "                    background-color: var(--colab-primary-surface-color, white);\n",
       "                }\n",
       "\n",
       "                .geemap-colab .jupyter-button {\n",
       "                    --jp-layout-color3: var(--colab-primary-surface-color, white);\n",
       "                }\n",
       "            </style>\n",
       "            "
      ],
      "text/plain": [
       "<IPython.core.display.HTML object>"
      ]
     },
     "metadata": {},
     "output_type": "display_data"
    }
   ],
   "source": [
    "# # Get list of unique dates and merge same-day images\n",
    "# def merge_daily_images(collection):\n",
    "#     # Get list of unique dates\n",
    "#     dates = collection.aggregate_array('system:time_start').distinct()\n",
    "    \n",
    "#     def merge_images_for_date(date):\n",
    "#         # Get images for this date\n",
    "#         daily_images = collection.filter(ee.Filter.eq('system:time_start', date))\n",
    "#         # Merge images (mosaic takes the first non-masked pixel)\n",
    "#         merged = daily_images.mosaic()\n",
    "#         # Set the date property\n",
    "#         return merged.set('system:time_start', date)\n",
    "    \n",
    "#     # Map merge function over dates\n",
    "#     merged_collection = ee.ImageCollection(dates.map(lambda date: merge_images_for_date(date)))\n",
    "#     return merged_collection\n",
    "\n",
    "# # Apply the merging\n",
    "# merged_sentinel = merge_daily_images(sentinel_collection)\n",
    "\n",
    "# # Visualize first merged image\n",
    "# merged_image = ee.Image(merged_sentinel.first())\n",
    "\n",
    "# # Print number of images before and after\n",
    "# print(f\"Original collection size: {sentinel_collection.size().getInfo()}\")\n",
    "# print(f\"Merged collection size: {merged_sentinel.size().getInfo()}\")"
   ]
  },
  {
   "cell_type": "code",
   "execution_count": 26,
   "metadata": {},
   "outputs": [
    {
     "data": {
      "text/html": [
       "\n",
       "            <style>\n",
       "                .geemap-dark {\n",
       "                    --jp-widgets-color: white;\n",
       "                    --jp-widgets-label-color: white;\n",
       "                    --jp-ui-font-color1: white;\n",
       "                    --jp-layout-color2: #454545;\n",
       "                    background-color: #383838;\n",
       "                }\n",
       "\n",
       "                .geemap-dark .jupyter-button {\n",
       "                    --jp-layout-color3: #383838;\n",
       "                }\n",
       "\n",
       "                .geemap-colab {\n",
       "                    background-color: var(--colab-primary-surface-color, white);\n",
       "                }\n",
       "\n",
       "                .geemap-colab .jupyter-button {\n",
       "                    --jp-layout-color3: var(--colab-primary-surface-color, white);\n",
       "                }\n",
       "            </style>\n",
       "            "
      ],
      "text/plain": [
       "<IPython.core.display.HTML object>"
      ]
     },
     "metadata": {},
     "output_type": "display_data"
    }
   ],
   "source": [
    "# Map = geemap.Map()\n",
    "\n",
    "# sentinel_vis_params = {\n",
    "#     \"bands\": [\"B4\", \"B3\", \"B2\"],\n",
    "#     \"min\": 0,\n",
    "#     \"max\": 2000,\n",
    "# }\n",
    "\n",
    "# sentinel_image = ee.Image(sentinel_collection.first())\n",
    "\n",
    "# Map.addLayer(sentinel_image, sentinel_vis_params, \"Sentinel 2\")\n",
    "# Map.addLayer(merged_image, sentinel_vis_params, \"Merged Sentinel 2\")\n",
    "\n",
    "# Map.centerObject(aoi, 12)\n",
    "\n",
    "# Map"
   ]
  },
  {
   "cell_type": "code",
   "execution_count": null,
   "metadata": {},
   "outputs": [],
   "source": []
  }
 ],
 "metadata": {
  "kernelspec": {
   "display_name": "geemap_env",
   "language": "python",
   "name": "python3"
  },
  "language_info": {
   "codemirror_mode": {
    "name": "ipython",
    "version": 3
   },
   "file_extension": ".py",
   "mimetype": "text/x-python",
   "name": "python",
   "nbconvert_exporter": "python",
   "pygments_lexer": "ipython3",
   "version": "3.11.10"
  }
 },
 "nbformat": 4,
 "nbformat_minor": 2
}
