{
 "cells": [
  {
   "cell_type": "code",
   "execution_count": 1,
   "metadata": {},
   "outputs": [],
   "source": [
    "import sys\n",
    "from pathlib import Path\n",
    "sys.path.append(str(Path().absolute().parent))"
   ]
  },
  {
   "cell_type": "code",
   "execution_count": 2,
   "metadata": {},
   "outputs": [
    {
     "name": "stderr",
     "output_type": "stream",
     "text": [
      "*** Earth Engine *** Share your feedback by taking our Annual Developer Satisfaction Survey: https://google.qualtrics.com/jfe/form/SV_0JLhFqfSY1uiEaW?source=Init\n"
     ]
    }
   ],
   "source": [
    "import ee \n",
    "import geemap\n",
    "\n",
    "ee.Initialize(project=\"thurgau-irrigation\")"
   ]
  },
  {
   "cell_type": "code",
   "execution_count": 3,
   "metadata": {},
   "outputs": [
    {
     "data": {
      "text/html": [
       "\n",
       "            <style>\n",
       "                .geemap-dark {\n",
       "                    --jp-widgets-color: white;\n",
       "                    --jp-widgets-label-color: white;\n",
       "                    --jp-ui-font-color1: white;\n",
       "                    --jp-layout-color2: #454545;\n",
       "                    background-color: #383838;\n",
       "                }\n",
       "\n",
       "                .geemap-dark .jupyter-button {\n",
       "                    --jp-layout-color3: #383838;\n",
       "                }\n",
       "\n",
       "                .geemap-colab {\n",
       "                    background-color: var(--colab-primary-surface-color, white);\n",
       "                }\n",
       "\n",
       "                .geemap-colab .jupyter-button {\n",
       "                    --jp-layout-color3: var(--colab-primary-surface-color, white);\n",
       "                }\n",
       "            </style>\n",
       "            "
      ],
      "text/plain": [
       "<IPython.core.display.HTML object>"
      ]
     },
     "metadata": {},
     "output_type": "display_data"
    }
   ],
   "source": [
    "from src.et_blue.exporting_utils import process_et_blue\n",
    "from src.et_blue.compute_et_blue import compute_et_blue\n",
    "\n",
    "from utils.ee_utils import (\n",
    "    back_to_float,\n",
    "    back_to_int,\n",
    "    export_image_to_asset,\n",
    "    print_value_ranges,\n",
    ")\n",
    "\n",
    "from utils.date_utils import print_collection_dates"
   ]
  },
  {
   "cell_type": "markdown",
   "metadata": {},
   "source": [
    "---"
   ]
  },
  {
   "cell_type": "markdown",
   "metadata": {},
   "source": [
    "## Constants"
   ]
  },
  {
   "cell_type": "code",
   "execution_count": 4,
   "metadata": {},
   "outputs": [
    {
     "data": {
      "text/html": [
       "\n",
       "            <style>\n",
       "                .geemap-dark {\n",
       "                    --jp-widgets-color: white;\n",
       "                    --jp-widgets-label-color: white;\n",
       "                    --jp-ui-font-color1: white;\n",
       "                    --jp-layout-color2: #454545;\n",
       "                    background-color: #383838;\n",
       "                }\n",
       "\n",
       "                .geemap-dark .jupyter-button {\n",
       "                    --jp-layout-color3: #383838;\n",
       "                }\n",
       "\n",
       "                .geemap-colab {\n",
       "                    background-color: var(--colab-primary-surface-color, white);\n",
       "                }\n",
       "\n",
       "                .geemap-colab .jupyter-button {\n",
       "                    --jp-layout-color3: var(--colab-primary-surface-color, white);\n",
       "                }\n",
       "            </style>\n",
       "            "
      ],
      "text/plain": [
       "<IPython.core.display.HTML object>"
      ]
     },
     "metadata": {},
     "output_type": "display_data"
    }
   ],
   "source": [
    "YEAR = 2023\n",
    "\n",
    "PATH_TO_AOI = \"projects/thurgau-irrigation/assets/Thurgau/thrugau_borders_2024\"\n",
    "PATH_TO_ET_PRODUCT = (\n",
    "    f\"projects/thurgau-irrigation/assets/ET_products/Thurgau/WaPOR_10m_{YEAR}\"\n",
    ")\n",
    "PATHT_TO_ET_GREEN = f\"projects/thurgau-irrigation/assets/Thurgau/ET_green/ET_green_{YEAR}_dekadal_from_WaPOR_10m\"\n",
    "\n",
    "ET_GREEN_BAND_NAME = \"ET_green\"\n",
    "ET_BAND_NAME = \"downscaled\"\n",
    "SCALING_FACTOR = 100  # scaling factor for the ET band to convert it back to float\n",
    "# DYNAMIC = False\n",
    "# SCALING_FACTOR_PROPERTY_NAME = \"days\" if DYNAMIC else None\n",
    "NUMBER_OF_IMAGES = 36\n",
    "TEMPORAL_RESOLUTION = \"dekadal\"\n",
    "\n",
    "\n",
    "ET_BLUE_RAW_PATH = f\"projects/thurgau-irrigation/assets/Thurgau/ET_blue_raw/ET_blue_raw_{YEAR}_{TEMPORAL_RESOLUTION}_from_WaPOR_10m\"\n",
    "EXPORT_IMAGE_RESOLUTION = 10  # in meters"
   ]
  },
  {
   "cell_type": "markdown",
   "metadata": {},
   "source": [
    "## 1. Load Assets"
   ]
  },
  {
   "cell_type": "code",
   "execution_count": 5,
   "metadata": {},
   "outputs": [
    {
     "data": {
      "text/html": [
       "\n",
       "            <style>\n",
       "                .geemap-dark {\n",
       "                    --jp-widgets-color: white;\n",
       "                    --jp-widgets-label-color: white;\n",
       "                    --jp-ui-font-color1: white;\n",
       "                    --jp-layout-color2: #454545;\n",
       "                    background-color: #383838;\n",
       "                }\n",
       "\n",
       "                .geemap-dark .jupyter-button {\n",
       "                    --jp-layout-color3: #383838;\n",
       "                }\n",
       "\n",
       "                .geemap-colab {\n",
       "                    background-color: var(--colab-primary-surface-color, white);\n",
       "                }\n",
       "\n",
       "                .geemap-colab .jupyter-button {\n",
       "                    --jp-layout-color3: var(--colab-primary-surface-color, white);\n",
       "                }\n",
       "            </style>\n",
       "            "
      ],
      "text/plain": [
       "<IPython.core.display.HTML object>"
      ]
     },
     "metadata": {},
     "output_type": "display_data"
    }
   ],
   "source": [
    "aoi = ee.FeatureCollection(PATH_TO_AOI).geometry().simplify(500).buffer(100)"
   ]
  },
  {
   "cell_type": "code",
   "execution_count": 6,
   "metadata": {},
   "outputs": [
    {
     "data": {
      "text/html": [
       "\n",
       "            <style>\n",
       "                .geemap-dark {\n",
       "                    --jp-widgets-color: white;\n",
       "                    --jp-widgets-label-color: white;\n",
       "                    --jp-ui-font-color1: white;\n",
       "                    --jp-layout-color2: #454545;\n",
       "                    background-color: #383838;\n",
       "                }\n",
       "\n",
       "                .geemap-dark .jupyter-button {\n",
       "                    --jp-layout-color3: #383838;\n",
       "                }\n",
       "\n",
       "                .geemap-colab {\n",
       "                    background-color: var(--colab-primary-surface-color, white);\n",
       "                }\n",
       "\n",
       "                .geemap-colab .jupyter-button {\n",
       "                    --jp-layout-color3: var(--colab-primary-surface-color, white);\n",
       "                }\n",
       "            </style>\n",
       "            "
      ],
      "text/plain": [
       "<IPython.core.display.HTML object>"
      ]
     },
     "metadata": {},
     "output_type": "display_data"
    },
    {
     "name": "stdout",
     "output_type": "stream",
     "text": [
      "Dates of images in the collection:\n",
      "2023-01-01\n",
      "2023-01-11\n",
      "2023-01-21\n",
      "2023-02-01\n",
      "2023-02-11\n",
      "2023-02-21\n",
      "2023-03-01\n",
      "2023-03-11\n",
      "2023-03-21\n",
      "2023-04-01\n",
      "2023-04-11\n",
      "2023-04-21\n",
      "2023-05-01\n",
      "2023-05-11\n",
      "2023-05-21\n",
      "2023-06-01\n",
      "2023-06-11\n",
      "2023-06-21\n",
      "2023-07-01\n",
      "2023-07-11\n",
      "2023-07-21\n",
      "2023-08-01\n",
      "2023-08-11\n",
      "2023-08-21\n",
      "2023-09-01\n",
      "2023-09-11\n",
      "2023-09-21\n",
      "2023-10-01\n",
      "2023-10-11\n",
      "2023-10-21\n",
      "2023-11-01\n",
      "2023-11-11\n",
      "2023-11-21\n",
      "2023-12-01\n",
      "2023-12-11\n",
      "2023-12-21\n"
     ]
    }
   ],
   "source": [
    "et_collection = (\n",
    "    ee.ImageCollection(PATH_TO_ET_PRODUCT)\n",
    "    # .filter(ee.Filter.eq(\"Region\", \"Thurgau\"))\n",
    "    .filterDate(f\"{YEAR}-01-01\", f\"{YEAR}-12-31\").map(\n",
    "        lambda img: back_to_float(img, SCALING_FACTOR)\n",
    "    )\n",
    ").sort(\"system:time_start\")\n",
    "\n",
    "et_collection_list = et_collection.toList(et_collection.size())\n",
    "\n",
    "\n",
    "# Sanity checks:\n",
    "print_collection_dates(et_collection)"
   ]
  },
  {
   "cell_type": "code",
   "execution_count": 7,
   "metadata": {},
   "outputs": [
    {
     "data": {
      "text/html": [
       "\n",
       "            <style>\n",
       "                .geemap-dark {\n",
       "                    --jp-widgets-color: white;\n",
       "                    --jp-widgets-label-color: white;\n",
       "                    --jp-ui-font-color1: white;\n",
       "                    --jp-layout-color2: #454545;\n",
       "                    background-color: #383838;\n",
       "                }\n",
       "\n",
       "                .geemap-dark .jupyter-button {\n",
       "                    --jp-layout-color3: #383838;\n",
       "                }\n",
       "\n",
       "                .geemap-colab {\n",
       "                    background-color: var(--colab-primary-surface-color, white);\n",
       "                }\n",
       "\n",
       "                .geemap-colab .jupyter-button {\n",
       "                    --jp-layout-color3: var(--colab-primary-surface-color, white);\n",
       "                }\n",
       "            </style>\n",
       "            "
      ],
      "text/plain": [
       "<IPython.core.display.HTML object>"
      ]
     },
     "metadata": {},
     "output_type": "display_data"
    },
    {
     "name": "stdout",
     "output_type": "stream",
     "text": [
      "Dates of images in the collection:\n",
      "2023-01-01\n",
      "2023-01-11\n",
      "2023-01-21\n",
      "2023-02-01\n",
      "2023-02-11\n",
      "2023-02-21\n",
      "2023-03-01\n",
      "2023-03-11\n",
      "2023-03-21\n",
      "2023-04-01\n",
      "2023-04-11\n",
      "2023-04-21\n",
      "2023-05-01\n",
      "2023-05-11\n",
      "2023-05-21\n",
      "2023-06-01\n",
      "2023-06-11\n",
      "2023-06-21\n",
      "2023-07-01\n",
      "2023-07-11\n",
      "2023-07-21\n",
      "2023-08-01\n",
      "2023-08-11\n",
      "2023-08-21\n",
      "2023-09-01\n",
      "2023-09-11\n",
      "2023-09-21\n",
      "2023-10-01\n",
      "2023-10-11\n",
      "2023-10-21\n",
      "2023-11-01\n",
      "2023-11-11\n",
      "2023-11-21\n",
      "2023-12-01\n",
      "2023-12-11\n",
      "2023-12-21\n"
     ]
    }
   ],
   "source": [
    "et_green_collection = (\n",
    "    ee.ImageCollection(PATHT_TO_ET_GREEN)\n",
    "    .filterDate(f\"{YEAR}-01-01\", f\"{YEAR}-12-31\")\n",
    "    .map(lambda img: back_to_float(img, SCALING_FACTOR))\n",
    ")\n",
    "\n",
    "et_green_list = et_green_collection.toList(et_collection.size())\n",
    "\n",
    "# Sanity checks:\n",
    "print_collection_dates(et_green_collection)\n",
    "# print_value_ranges(et_green_collection, ET_GREEN_BAND_NAME)"
   ]
  },
  {
   "cell_type": "markdown",
   "metadata": {},
   "source": [
    "## 2. Compute and Export ET_blue raw"
   ]
  },
  {
   "cell_type": "code",
   "execution_count": 8,
   "metadata": {},
   "outputs": [
    {
     "data": {
      "text/html": [
       "\n",
       "            <style>\n",
       "                .geemap-dark {\n",
       "                    --jp-widgets-color: white;\n",
       "                    --jp-widgets-label-color: white;\n",
       "                    --jp-ui-font-color1: white;\n",
       "                    --jp-layout-color2: #454545;\n",
       "                    background-color: #383838;\n",
       "                }\n",
       "\n",
       "                .geemap-dark .jupyter-button {\n",
       "                    --jp-layout-color3: #383838;\n",
       "                }\n",
       "\n",
       "                .geemap-colab {\n",
       "                    background-color: var(--colab-primary-surface-color, white);\n",
       "                }\n",
       "\n",
       "                .geemap-colab .jupyter-button {\n",
       "                    --jp-layout-color3: var(--colab-primary-surface-color, white);\n",
       "                }\n",
       "            </style>\n",
       "            "
      ],
      "text/plain": [
       "<IPython.core.display.HTML object>"
      ]
     },
     "metadata": {},
     "output_type": "display_data"
    },
    {
     "name": "stdout",
     "output_type": "stream",
     "text": [
      "Exporting ET_blue_raw_dekadal_2023_01_D1 for 2023 to projects/thurgau-irrigation/assets/Thurgau/ET_blue_raw/ET_blue_raw_2023_dekadal_from_WaPOR_10m/ET_blue_raw_dekadal_2023_01_D1\n",
      "Exporting ET_blue_raw_dekadal_2023_01_D2 for 2023 to projects/thurgau-irrigation/assets/Thurgau/ET_blue_raw/ET_blue_raw_2023_dekadal_from_WaPOR_10m/ET_blue_raw_dekadal_2023_01_D2\n",
      "Exporting ET_blue_raw_dekadal_2023_01_D3 for 2023 to projects/thurgau-irrigation/assets/Thurgau/ET_blue_raw/ET_blue_raw_2023_dekadal_from_WaPOR_10m/ET_blue_raw_dekadal_2023_01_D3\n",
      "Exporting ET_blue_raw_dekadal_2023_02_D1 for 2023 to projects/thurgau-irrigation/assets/Thurgau/ET_blue_raw/ET_blue_raw_2023_dekadal_from_WaPOR_10m/ET_blue_raw_dekadal_2023_02_D1\n",
      "Exporting ET_blue_raw_dekadal_2023_02_D2 for 2023 to projects/thurgau-irrigation/assets/Thurgau/ET_blue_raw/ET_blue_raw_2023_dekadal_from_WaPOR_10m/ET_blue_raw_dekadal_2023_02_D2\n",
      "Exporting ET_blue_raw_dekadal_2023_02_D3 for 2023 to projects/thurgau-irrigation/assets/Thurgau/ET_blue_raw/ET_blue_raw_2023_dekadal_from_WaPOR_10m/ET_blue_raw_dekadal_2023_02_D3\n",
      "Exporting ET_blue_raw_dekadal_2023_03_D1 for 2023 to projects/thurgau-irrigation/assets/Thurgau/ET_blue_raw/ET_blue_raw_2023_dekadal_from_WaPOR_10m/ET_blue_raw_dekadal_2023_03_D1\n",
      "Exporting ET_blue_raw_dekadal_2023_03_D2 for 2023 to projects/thurgau-irrigation/assets/Thurgau/ET_blue_raw/ET_blue_raw_2023_dekadal_from_WaPOR_10m/ET_blue_raw_dekadal_2023_03_D2\n",
      "Exporting ET_blue_raw_dekadal_2023_03_D3 for 2023 to projects/thurgau-irrigation/assets/Thurgau/ET_blue_raw/ET_blue_raw_2023_dekadal_from_WaPOR_10m/ET_blue_raw_dekadal_2023_03_D3\n",
      "Exporting ET_blue_raw_dekadal_2023_04_D1 for 2023 to projects/thurgau-irrigation/assets/Thurgau/ET_blue_raw/ET_blue_raw_2023_dekadal_from_WaPOR_10m/ET_blue_raw_dekadal_2023_04_D1\n",
      "Exporting ET_blue_raw_dekadal_2023_04_D2 for 2023 to projects/thurgau-irrigation/assets/Thurgau/ET_blue_raw/ET_blue_raw_2023_dekadal_from_WaPOR_10m/ET_blue_raw_dekadal_2023_04_D2\n",
      "Exporting ET_blue_raw_dekadal_2023_04_D3 for 2023 to projects/thurgau-irrigation/assets/Thurgau/ET_blue_raw/ET_blue_raw_2023_dekadal_from_WaPOR_10m/ET_blue_raw_dekadal_2023_04_D3\n",
      "Exporting ET_blue_raw_dekadal_2023_05_D1 for 2023 to projects/thurgau-irrigation/assets/Thurgau/ET_blue_raw/ET_blue_raw_2023_dekadal_from_WaPOR_10m/ET_blue_raw_dekadal_2023_05_D1\n",
      "Exporting ET_blue_raw_dekadal_2023_05_D2 for 2023 to projects/thurgau-irrigation/assets/Thurgau/ET_blue_raw/ET_blue_raw_2023_dekadal_from_WaPOR_10m/ET_blue_raw_dekadal_2023_05_D2\n",
      "Exporting ET_blue_raw_dekadal_2023_05_D3 for 2023 to projects/thurgau-irrigation/assets/Thurgau/ET_blue_raw/ET_blue_raw_2023_dekadal_from_WaPOR_10m/ET_blue_raw_dekadal_2023_05_D3\n",
      "Exporting ET_blue_raw_dekadal_2023_06_D1 for 2023 to projects/thurgau-irrigation/assets/Thurgau/ET_blue_raw/ET_blue_raw_2023_dekadal_from_WaPOR_10m/ET_blue_raw_dekadal_2023_06_D1\n",
      "Exporting ET_blue_raw_dekadal_2023_06_D2 for 2023 to projects/thurgau-irrigation/assets/Thurgau/ET_blue_raw/ET_blue_raw_2023_dekadal_from_WaPOR_10m/ET_blue_raw_dekadal_2023_06_D2\n",
      "Exporting ET_blue_raw_dekadal_2023_06_D3 for 2023 to projects/thurgau-irrigation/assets/Thurgau/ET_blue_raw/ET_blue_raw_2023_dekadal_from_WaPOR_10m/ET_blue_raw_dekadal_2023_06_D3\n",
      "Exporting ET_blue_raw_dekadal_2023_07_D1 for 2023 to projects/thurgau-irrigation/assets/Thurgau/ET_blue_raw/ET_blue_raw_2023_dekadal_from_WaPOR_10m/ET_blue_raw_dekadal_2023_07_D1\n",
      "Exporting ET_blue_raw_dekadal_2023_07_D2 for 2023 to projects/thurgau-irrigation/assets/Thurgau/ET_blue_raw/ET_blue_raw_2023_dekadal_from_WaPOR_10m/ET_blue_raw_dekadal_2023_07_D2\n",
      "Exporting ET_blue_raw_dekadal_2023_07_D3 for 2023 to projects/thurgau-irrigation/assets/Thurgau/ET_blue_raw/ET_blue_raw_2023_dekadal_from_WaPOR_10m/ET_blue_raw_dekadal_2023_07_D3\n",
      "Exporting ET_blue_raw_dekadal_2023_08_D1 for 2023 to projects/thurgau-irrigation/assets/Thurgau/ET_blue_raw/ET_blue_raw_2023_dekadal_from_WaPOR_10m/ET_blue_raw_dekadal_2023_08_D1\n",
      "Exporting ET_blue_raw_dekadal_2023_08_D2 for 2023 to projects/thurgau-irrigation/assets/Thurgau/ET_blue_raw/ET_blue_raw_2023_dekadal_from_WaPOR_10m/ET_blue_raw_dekadal_2023_08_D2\n",
      "Exporting ET_blue_raw_dekadal_2023_08_D3 for 2023 to projects/thurgau-irrigation/assets/Thurgau/ET_blue_raw/ET_blue_raw_2023_dekadal_from_WaPOR_10m/ET_blue_raw_dekadal_2023_08_D3\n",
      "Exporting ET_blue_raw_dekadal_2023_09_D1 for 2023 to projects/thurgau-irrigation/assets/Thurgau/ET_blue_raw/ET_blue_raw_2023_dekadal_from_WaPOR_10m/ET_blue_raw_dekadal_2023_09_D1\n",
      "Exporting ET_blue_raw_dekadal_2023_09_D2 for 2023 to projects/thurgau-irrigation/assets/Thurgau/ET_blue_raw/ET_blue_raw_2023_dekadal_from_WaPOR_10m/ET_blue_raw_dekadal_2023_09_D2\n",
      "Exporting ET_blue_raw_dekadal_2023_09_D3 for 2023 to projects/thurgau-irrigation/assets/Thurgau/ET_blue_raw/ET_blue_raw_2023_dekadal_from_WaPOR_10m/ET_blue_raw_dekadal_2023_09_D3\n",
      "Exporting ET_blue_raw_dekadal_2023_10_D1 for 2023 to projects/thurgau-irrigation/assets/Thurgau/ET_blue_raw/ET_blue_raw_2023_dekadal_from_WaPOR_10m/ET_blue_raw_dekadal_2023_10_D1\n",
      "Exporting ET_blue_raw_dekadal_2023_10_D2 for 2023 to projects/thurgau-irrigation/assets/Thurgau/ET_blue_raw/ET_blue_raw_2023_dekadal_from_WaPOR_10m/ET_blue_raw_dekadal_2023_10_D2\n",
      "Exporting ET_blue_raw_dekadal_2023_10_D3 for 2023 to projects/thurgau-irrigation/assets/Thurgau/ET_blue_raw/ET_blue_raw_2023_dekadal_from_WaPOR_10m/ET_blue_raw_dekadal_2023_10_D3\n",
      "Exporting ET_blue_raw_dekadal_2023_11_D1 for 2023 to projects/thurgau-irrigation/assets/Thurgau/ET_blue_raw/ET_blue_raw_2023_dekadal_from_WaPOR_10m/ET_blue_raw_dekadal_2023_11_D1\n",
      "Exporting ET_blue_raw_dekadal_2023_11_D2 for 2023 to projects/thurgau-irrigation/assets/Thurgau/ET_blue_raw/ET_blue_raw_2023_dekadal_from_WaPOR_10m/ET_blue_raw_dekadal_2023_11_D2\n",
      "Exporting ET_blue_raw_dekadal_2023_11_D3 for 2023 to projects/thurgau-irrigation/assets/Thurgau/ET_blue_raw/ET_blue_raw_2023_dekadal_from_WaPOR_10m/ET_blue_raw_dekadal_2023_11_D3\n",
      "Exporting ET_blue_raw_dekadal_2023_12_D1 for 2023 to projects/thurgau-irrigation/assets/Thurgau/ET_blue_raw/ET_blue_raw_2023_dekadal_from_WaPOR_10m/ET_blue_raw_dekadal_2023_12_D1\n",
      "Exporting ET_blue_raw_dekadal_2023_12_D2 for 2023 to projects/thurgau-irrigation/assets/Thurgau/ET_blue_raw/ET_blue_raw_2023_dekadal_from_WaPOR_10m/ET_blue_raw_dekadal_2023_12_D2\n",
      "Exporting ET_blue_raw_dekadal_2023_12_D3 for 2023 to projects/thurgau-irrigation/assets/Thurgau/ET_blue_raw/ET_blue_raw_2023_dekadal_from_WaPOR_10m/ET_blue_raw_dekadal_2023_12_D3\n",
      "Generated 36 export tasks for year 2023\n"
     ]
    }
   ],
   "source": [
    "process_et_blue(\n",
    "    et_collection_list=et_collection_list,\n",
    "    et_green_list=et_green_list,\n",
    "    year=YEAR,\n",
    "    aoi=aoi,\n",
    "    asset_path=ET_BLUE_RAW_PATH,\n",
    "    time_step_type=TEMPORAL_RESOLUTION,\n",
    "    resolution=EXPORT_IMAGE_RESOLUTION,\n",
    ")"
   ]
  },
  {
   "cell_type": "code",
   "execution_count": 9,
   "metadata": {},
   "outputs": [
    {
     "data": {
      "text/html": [
       "\n",
       "            <style>\n",
       "                .geemap-dark {\n",
       "                    --jp-widgets-color: white;\n",
       "                    --jp-widgets-label-color: white;\n",
       "                    --jp-ui-font-color1: white;\n",
       "                    --jp-layout-color2: #454545;\n",
       "                    background-color: #383838;\n",
       "                }\n",
       "\n",
       "                .geemap-dark .jupyter-button {\n",
       "                    --jp-layout-color3: #383838;\n",
       "                }\n",
       "\n",
       "                .geemap-colab {\n",
       "                    background-color: var(--colab-primary-surface-color, white);\n",
       "                }\n",
       "\n",
       "                .geemap-colab .jupyter-button {\n",
       "                    --jp-layout-color3: var(--colab-primary-surface-color, white);\n",
       "                }\n",
       "            </style>\n",
       "            "
      ],
      "text/plain": [
       "<IPython.core.display.HTML object>"
      ]
     },
     "metadata": {},
     "output_type": "display_data"
    }
   ],
   "source": [
    "et_blue_raw = []\n",
    "\n",
    "for i in range(NUMBER_OF_IMAGES):\n",
    "    # Process ET images\n",
    "    et_image = ee.Image(et_collection_list.get(i))\n",
    "    et_green = ee.Image(et_green_list.get(i))\n",
    "    et_blue = compute_et_blue(et_image, et_green)\n",
    "    et_blue_raw.append(et_blue)"
   ]
  },
  {
   "cell_type": "code",
   "execution_count": 10,
   "metadata": {},
   "outputs": [
    {
     "data": {
      "text/html": [
       "\n",
       "            <style>\n",
       "                .geemap-dark {\n",
       "                    --jp-widgets-color: white;\n",
       "                    --jp-widgets-label-color: white;\n",
       "                    --jp-ui-font-color1: white;\n",
       "                    --jp-layout-color2: #454545;\n",
       "                    background-color: #383838;\n",
       "                }\n",
       "\n",
       "                .geemap-dark .jupyter-button {\n",
       "                    --jp-layout-color3: #383838;\n",
       "                }\n",
       "\n",
       "                .geemap-colab {\n",
       "                    background-color: var(--colab-primary-surface-color, white);\n",
       "                }\n",
       "\n",
       "                .geemap-colab .jupyter-button {\n",
       "                    --jp-layout-color3: var(--colab-primary-surface-color, white);\n",
       "                }\n",
       "            </style>\n",
       "            "
      ],
      "text/plain": [
       "<IPython.core.display.HTML object>"
      ]
     },
     "metadata": {},
     "output_type": "display_data"
    },
    {
     "data": {
      "text/plain": [
       "['ET_blue']"
      ]
     },
     "execution_count": 10,
     "metadata": {},
     "output_type": "execute_result"
    }
   ],
   "source": [
    "ee.Image(et_blue_raw[0]).bandNames().getInfo()"
   ]
  },
  {
   "cell_type": "code",
   "execution_count": 11,
   "metadata": {},
   "outputs": [
    {
     "data": {
      "text/html": [
       "\n",
       "            <style>\n",
       "                .geemap-dark {\n",
       "                    --jp-widgets-color: white;\n",
       "                    --jp-widgets-label-color: white;\n",
       "                    --jp-ui-font-color1: white;\n",
       "                    --jp-layout-color2: #454545;\n",
       "                    background-color: #383838;\n",
       "                }\n",
       "\n",
       "                .geemap-dark .jupyter-button {\n",
       "                    --jp-layout-color3: #383838;\n",
       "                }\n",
       "\n",
       "                .geemap-colab {\n",
       "                    background-color: var(--colab-primary-surface-color, white);\n",
       "                }\n",
       "\n",
       "                .geemap-colab .jupyter-button {\n",
       "                    --jp-layout-color3: var(--colab-primary-surface-color, white);\n",
       "                }\n",
       "            </style>\n",
       "            "
      ],
      "text/plain": [
       "<IPython.core.display.HTML object>"
      ]
     },
     "metadata": {},
     "output_type": "display_data"
    },
    {
     "data": {
      "application/vnd.jupyter.widget-view+json": {
       "model_id": "aaf5f77d8da542d38476a0b466172a7b",
       "version_major": 2,
       "version_minor": 0
      },
      "text/plain": [
       "Map(center=[47.56858787382066, 9.092720596553875], controls=(WidgetControl(options=['position', 'transparent_b…"
      ]
     },
     "execution_count": 11,
     "metadata": {},
     "output_type": "execute_result"
    }
   ],
   "source": [
    "Map = geemap.Map()\n",
    "\n",
    "image = ee.Image(et_blue_raw[20])\n",
    "# image_green = ee.Image(et_green_list.get(20))\n",
    "# image_et = ee.Image(et_collection_list.get(20))\n",
    "# image_ET = ee.Image(et_collection_list.get(17))\n",
    "\n",
    "vis_params = {\n",
    "    \"bands\": [\"ET_blue\"],\n",
    "    \"min\": 0,\n",
    "    \"max\": 1,\n",
    "    \"palette\": [\"blue\", \"lightblue\", \"green\", \"yellow\", \"orange\", \"red\"],\n",
    "}\n",
    "\n",
    "# vis_green = {\n",
    "#     \"bands\": [\"ET_green\"],\n",
    "#     \"min\": 0,\n",
    "#     \"max\": 3,\n",
    "#     \"palette\": [\"blue\", \"lightblue\", \"green\", \"yellow\", \"orange\", \"red\"],\n",
    "# }\n",
    "\n",
    "# vis_ET = {\n",
    "#     \"bands\": [\"downscaled\"],\n",
    "#     \"min\": 0,\n",
    "#     \"max\": 5,\n",
    "#     \"palette\": [\"blue\", \"lightblue\", \"green\", \"yellow\", \"orange\", \"red\"],\n",
    "# }\n",
    "\n",
    "\n",
    "Map.center_object(aoi, 12)\n",
    "Map.addLayer(image, vis_params, \"ET blue raw\")\n",
    "Map.add_colorbar(vis_params, label=\"ET blue raw [mm/month]\")\n",
    "# Map.addLayer(image_green, vis_green, \"ET green\")\n",
    "# Map.add_colorbar(vis_green, label=\"ET green [mm/month]\")\n",
    "# Map.addLayer(image_et, vis_ET, \"ET\")\n",
    "# Map.add_colorbar(vis_ET, label=\"ET [mm/month]\")\n",
    "\n",
    "\n",
    "Map"
   ]
  },
  {
   "cell_type": "code",
   "execution_count": null,
   "metadata": {},
   "outputs": [],
   "source": []
  }
 ],
 "metadata": {
  "kernelspec": {
   "display_name": "geemap_env",
   "language": "python",
   "name": "python3"
  },
  "language_info": {
   "codemirror_mode": {
    "name": "ipython",
    "version": 3
   },
   "file_extension": ".py",
   "mimetype": "text/x-python",
   "name": "python",
   "nbconvert_exporter": "python",
   "pygments_lexer": "ipython3",
   "version": "3.11.10"
  }
 },
 "nbformat": 4,
 "nbformat_minor": 2
}
