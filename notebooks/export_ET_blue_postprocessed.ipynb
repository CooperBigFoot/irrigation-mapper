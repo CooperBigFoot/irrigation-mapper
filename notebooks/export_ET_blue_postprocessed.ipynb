{
 "cells": [
  {
   "cell_type": "code",
   "execution_count": 1,
   "metadata": {},
   "outputs": [],
   "source": [
    "import sys\n",
    "from pathlib import Path\n",
    "sys.path.append(str(Path().absolute().parent))"
   ]
  },
  {
   "cell_type": "code",
   "execution_count": 2,
   "metadata": {},
   "outputs": [
    {
     "name": "stderr",
     "output_type": "stream",
     "text": [
      "*** Earth Engine *** Share your feedback by taking our Annual Developer Satisfaction Survey: https://google.qualtrics.com/jfe/form/SV_0JLhFqfSY1uiEaW?source=Init\n"
     ]
    }
   ],
   "source": [
    "import ee \n",
    "import geemap\n",
    "\n",
    "ee.Initialize(project=\"thurgau-irrigation\")"
   ]
  },
  {
   "cell_type": "code",
   "execution_count": 3,
   "metadata": {},
   "outputs": [
    {
     "data": {
      "text/html": [
       "\n",
       "            <style>\n",
       "                .geemap-dark {\n",
       "                    --jp-widgets-color: white;\n",
       "                    --jp-widgets-label-color: white;\n",
       "                    --jp-ui-font-color1: white;\n",
       "                    --jp-layout-color2: #454545;\n",
       "                    background-color: #383838;\n",
       "                }\n",
       "\n",
       "                .geemap-dark .jupyter-button {\n",
       "                    --jp-layout-color3: #383838;\n",
       "                }\n",
       "\n",
       "                .geemap-colab {\n",
       "                    background-color: var(--colab-primary-surface-color, white);\n",
       "                }\n",
       "\n",
       "                .geemap-colab .jupyter-button {\n",
       "                    --jp-layout-color3: var(--colab-primary-surface-color, white);\n",
       "                }\n",
       "            </style>\n",
       "            "
      ],
      "text/plain": [
       "<IPython.core.display.HTML object>"
      ]
     },
     "metadata": {},
     "output_type": "display_data"
    }
   ],
   "source": [
    "from src.et_blue.exporting_utils import postprocess_et_blue_raw\n",
    "from src.et_blue.compute_et_blue import compute_et_blue, compute_volumetric_et_blue, postprocess_et_blue\n",
    "\n",
    "from src.et_green.compute_et_green import calculate_band_std_dev\n",
    "\n",
    "from utils.ee_utils import (\n",
    "    back_to_float,\n",
    "    back_to_int,\n",
    "    export_image_to_asset,\n",
    "    print_value_ranges,\n",
    ")\n",
    "\n",
    "from utils.date_utils import print_collection_dates"
   ]
  },
  {
   "cell_type": "markdown",
   "metadata": {
    "vscode": {
     "languageId": "plaintext"
    }
   },
   "source": [
    "---"
   ]
  },
  {
   "cell_type": "markdown",
   "metadata": {},
   "source": [
    "## Constants"
   ]
  },
  {
   "cell_type": "code",
   "execution_count": 4,
   "metadata": {},
   "outputs": [
    {
     "data": {
      "text/html": [
       "\n",
       "            <style>\n",
       "                .geemap-dark {\n",
       "                    --jp-widgets-color: white;\n",
       "                    --jp-widgets-label-color: white;\n",
       "                    --jp-ui-font-color1: white;\n",
       "                    --jp-layout-color2: #454545;\n",
       "                    background-color: #383838;\n",
       "                }\n",
       "\n",
       "                .geemap-dark .jupyter-button {\n",
       "                    --jp-layout-color3: #383838;\n",
       "                }\n",
       "\n",
       "                .geemap-colab {\n",
       "                    background-color: var(--colab-primary-surface-color, white);\n",
       "                }\n",
       "\n",
       "                .geemap-colab .jupyter-button {\n",
       "                    --jp-layout-color3: var(--colab-primary-surface-color, white);\n",
       "                }\n",
       "            </style>\n",
       "            "
      ],
      "text/plain": [
       "<IPython.core.display.HTML object>"
      ]
     },
     "metadata": {},
     "output_type": "display_data"
    }
   ],
   "source": [
    "YEAR = 2023\n",
    "\n",
    "PATH_TO_AOI = \"projects/thurgau-irrigation/assets/Thurgau/thrugau_borders_2024\"\n",
    "PATH_TO_ET_GREEN = f\"projects/thurgau-irrigation/assets/Thurgau/ET_green/ET_green_{YEAR}_dekadal_from_WaPOR_10m\"\n",
    "PATH_TO_ET_BLUE_RAW = f\"projects/thurgau-irrigation/assets/Thurgau/ET_blue_raw/ET_blue_raw_{YEAR}_dekadal_from_WaPOR_10m\"\n",
    "\n",
    "ET_GREEN_BAND_NAME = \"ET_green\"\n",
    "SCALING_FACTOR = 100  # scaling factor for the ET band to convert it back to float\n",
    "NUMBER_OF_IMAGES = 21\n",
    "TEMPORAL_RESOLUTION = \"dekadal\"\n",
    "\n",
    "\n",
    "ET_BLUE_POSTPROCESSED_PATH = f\"projects/thurgau-irrigation/assets/Thurgau/ET_blue_postprocessed/ET_blue_postprocessed_{YEAR}_{TEMPORAL_RESOLUTION}_from_WaPOR_10m\"\n",
    "EXPORT_IMAGE_RESOLUTION = 10  # in meters"
   ]
  },
  {
   "cell_type": "markdown",
   "metadata": {},
   "source": [
    "## 1. Load assets"
   ]
  },
  {
   "cell_type": "code",
   "execution_count": 5,
   "metadata": {},
   "outputs": [
    {
     "data": {
      "text/html": [
       "\n",
       "            <style>\n",
       "                .geemap-dark {\n",
       "                    --jp-widgets-color: white;\n",
       "                    --jp-widgets-label-color: white;\n",
       "                    --jp-ui-font-color1: white;\n",
       "                    --jp-layout-color2: #454545;\n",
       "                    background-color: #383838;\n",
       "                }\n",
       "\n",
       "                .geemap-dark .jupyter-button {\n",
       "                    --jp-layout-color3: #383838;\n",
       "                }\n",
       "\n",
       "                .geemap-colab {\n",
       "                    background-color: var(--colab-primary-surface-color, white);\n",
       "                }\n",
       "\n",
       "                .geemap-colab .jupyter-button {\n",
       "                    --jp-layout-color3: var(--colab-primary-surface-color, white);\n",
       "                }\n",
       "            </style>\n",
       "            "
      ],
      "text/plain": [
       "<IPython.core.display.HTML object>"
      ]
     },
     "metadata": {},
     "output_type": "display_data"
    }
   ],
   "source": [
    "aoi = ee.FeatureCollection(PATH_TO_AOI).geometry().simplify(500).buffer(100)"
   ]
  },
  {
   "cell_type": "code",
   "execution_count": 6,
   "metadata": {},
   "outputs": [
    {
     "data": {
      "text/html": [
       "\n",
       "            <style>\n",
       "                .geemap-dark {\n",
       "                    --jp-widgets-color: white;\n",
       "                    --jp-widgets-label-color: white;\n",
       "                    --jp-ui-font-color1: white;\n",
       "                    --jp-layout-color2: #454545;\n",
       "                    background-color: #383838;\n",
       "                }\n",
       "\n",
       "                .geemap-dark .jupyter-button {\n",
       "                    --jp-layout-color3: #383838;\n",
       "                }\n",
       "\n",
       "                .geemap-colab {\n",
       "                    background-color: var(--colab-primary-surface-color, white);\n",
       "                }\n",
       "\n",
       "                .geemap-colab .jupyter-button {\n",
       "                    --jp-layout-color3: var(--colab-primary-surface-color, white);\n",
       "                }\n",
       "            </style>\n",
       "            "
      ],
      "text/plain": [
       "<IPython.core.display.HTML object>"
      ]
     },
     "metadata": {},
     "output_type": "display_data"
    },
    {
     "name": "stdout",
     "output_type": "stream",
     "text": [
      "Dates of images in the collection:\n",
      "2023-04-01\n",
      "2023-04-11\n",
      "2023-04-21\n",
      "2023-05-01\n",
      "2023-05-11\n",
      "2023-05-21\n",
      "2023-06-01\n",
      "2023-06-11\n",
      "2023-06-21\n",
      "2023-07-01\n",
      "2023-07-11\n",
      "2023-07-21\n",
      "2023-08-01\n",
      "2023-08-11\n",
      "2023-08-21\n",
      "2023-09-01\n",
      "2023-09-11\n",
      "2023-09-21\n",
      "2023-10-01\n",
      "2023-10-11\n",
      "2023-10-21\n"
     ]
    }
   ],
   "source": [
    "et_green_collection = (\n",
    "    ee.ImageCollection(PATH_TO_ET_GREEN)\n",
    "    .filterBounds(aoi)\n",
    "    .filterDate(f\"{YEAR}-04-01\", f\"{YEAR}-10-31\")\n",
    "    .map(lambda img: back_to_float(img, SCALING_FACTOR))\n",
    ")\n",
    "\n",
    "print_collection_dates(et_green_collection)\n",
    "\n",
    "\n",
    "et_green_list = et_green_collection.toList(et_green_collection.size())"
   ]
  },
  {
   "cell_type": "code",
   "execution_count": 7,
   "metadata": {},
   "outputs": [
    {
     "data": {
      "text/html": [
       "\n",
       "            <style>\n",
       "                .geemap-dark {\n",
       "                    --jp-widgets-color: white;\n",
       "                    --jp-widgets-label-color: white;\n",
       "                    --jp-ui-font-color1: white;\n",
       "                    --jp-layout-color2: #454545;\n",
       "                    background-color: #383838;\n",
       "                }\n",
       "\n",
       "                .geemap-dark .jupyter-button {\n",
       "                    --jp-layout-color3: #383838;\n",
       "                }\n",
       "\n",
       "                .geemap-colab {\n",
       "                    background-color: var(--colab-primary-surface-color, white);\n",
       "                }\n",
       "\n",
       "                .geemap-colab .jupyter-button {\n",
       "                    --jp-layout-color3: var(--colab-primary-surface-color, white);\n",
       "                }\n",
       "            </style>\n",
       "            "
      ],
      "text/plain": [
       "<IPython.core.display.HTML object>"
      ]
     },
     "metadata": {},
     "output_type": "display_data"
    },
    {
     "name": "stdout",
     "output_type": "stream",
     "text": [
      "Dates of images in the collection:\n",
      "2023-04-01\n",
      "2023-04-11\n",
      "2023-04-21\n",
      "2023-05-01\n",
      "2023-05-11\n",
      "2023-05-21\n",
      "2023-06-01\n",
      "2023-06-11\n",
      "2023-06-21\n",
      "2023-07-01\n",
      "2023-07-11\n",
      "2023-07-21\n",
      "2023-08-01\n",
      "2023-08-11\n",
      "2023-08-21\n",
      "2023-09-01\n",
      "2023-09-11\n",
      "2023-09-21\n",
      "2023-10-01\n",
      "2023-10-11\n",
      "2023-10-21\n"
     ]
    }
   ],
   "source": [
    "et_blue_raw_collection = (\n",
    "    ee.ImageCollection(PATH_TO_ET_BLUE_RAW)\n",
    "    .filterBounds(aoi)\n",
    "    .filterDate(f\"{YEAR}-04-01\", f\"{YEAR}-10-31\")\n",
    "    .map(lambda img: back_to_float(img, SCALING_FACTOR))\n",
    ")\n",
    "\n",
    "print_collection_dates(et_blue_raw_collection)\n",
    "\n",
    "\n",
    "et_blue_raw_list = et_blue_raw_collection.toList(et_blue_raw_collection.size())"
   ]
  },
  {
   "cell_type": "markdown",
   "metadata": {},
   "source": [
    "## 2. Computing and exporting ET blue postprocessed"
   ]
  },
  {
   "cell_type": "code",
   "execution_count": 8,
   "metadata": {},
   "outputs": [
    {
     "data": {
      "text/html": [
       "\n",
       "            <style>\n",
       "                .geemap-dark {\n",
       "                    --jp-widgets-color: white;\n",
       "                    --jp-widgets-label-color: white;\n",
       "                    --jp-ui-font-color1: white;\n",
       "                    --jp-layout-color2: #454545;\n",
       "                    background-color: #383838;\n",
       "                }\n",
       "\n",
       "                .geemap-dark .jupyter-button {\n",
       "                    --jp-layout-color3: #383838;\n",
       "                }\n",
       "\n",
       "                .geemap-colab {\n",
       "                    background-color: var(--colab-primary-surface-color, white);\n",
       "                }\n",
       "\n",
       "                .geemap-colab .jupyter-button {\n",
       "                    --jp-layout-color3: var(--colab-primary-surface-color, white);\n",
       "                }\n",
       "            </style>\n",
       "            "
      ],
      "text/plain": [
       "<IPython.core.display.HTML object>"
      ]
     },
     "metadata": {},
     "output_type": "display_data"
    },
    {
     "name": "stdout",
     "output_type": "stream",
     "text": [
      "Exporting ET_blue_postprocessed_dekadal_2023_04_D1 for 2023 to projects/thurgau-irrigation/assets/Thurgau/ET_blue_postprocessed/ET_blue_postprocessed_2023_dekadal_from_WaPOR_10m/ET_blue_postprocessed_dekadal_2023_04_D1\n",
      "Exporting ET_blue_postprocessed_dekadal_2023_04_D2 for 2023 to projects/thurgau-irrigation/assets/Thurgau/ET_blue_postprocessed/ET_blue_postprocessed_2023_dekadal_from_WaPOR_10m/ET_blue_postprocessed_dekadal_2023_04_D2\n",
      "Exporting ET_blue_postprocessed_dekadal_2023_04_D3 for 2023 to projects/thurgau-irrigation/assets/Thurgau/ET_blue_postprocessed/ET_blue_postprocessed_2023_dekadal_from_WaPOR_10m/ET_blue_postprocessed_dekadal_2023_04_D3\n",
      "Exporting ET_blue_postprocessed_dekadal_2023_05_D1 for 2023 to projects/thurgau-irrigation/assets/Thurgau/ET_blue_postprocessed/ET_blue_postprocessed_2023_dekadal_from_WaPOR_10m/ET_blue_postprocessed_dekadal_2023_05_D1\n",
      "Exporting ET_blue_postprocessed_dekadal_2023_05_D2 for 2023 to projects/thurgau-irrigation/assets/Thurgau/ET_blue_postprocessed/ET_blue_postprocessed_2023_dekadal_from_WaPOR_10m/ET_blue_postprocessed_dekadal_2023_05_D2\n",
      "Exporting ET_blue_postprocessed_dekadal_2023_05_D3 for 2023 to projects/thurgau-irrigation/assets/Thurgau/ET_blue_postprocessed/ET_blue_postprocessed_2023_dekadal_from_WaPOR_10m/ET_blue_postprocessed_dekadal_2023_05_D3\n",
      "Exporting ET_blue_postprocessed_dekadal_2023_06_D1 for 2023 to projects/thurgau-irrigation/assets/Thurgau/ET_blue_postprocessed/ET_blue_postprocessed_2023_dekadal_from_WaPOR_10m/ET_blue_postprocessed_dekadal_2023_06_D1\n",
      "Exporting ET_blue_postprocessed_dekadal_2023_06_D2 for 2023 to projects/thurgau-irrigation/assets/Thurgau/ET_blue_postprocessed/ET_blue_postprocessed_2023_dekadal_from_WaPOR_10m/ET_blue_postprocessed_dekadal_2023_06_D2\n",
      "Exporting ET_blue_postprocessed_dekadal_2023_06_D3 for 2023 to projects/thurgau-irrigation/assets/Thurgau/ET_blue_postprocessed/ET_blue_postprocessed_2023_dekadal_from_WaPOR_10m/ET_blue_postprocessed_dekadal_2023_06_D3\n",
      "Exporting ET_blue_postprocessed_dekadal_2023_07_D1 for 2023 to projects/thurgau-irrigation/assets/Thurgau/ET_blue_postprocessed/ET_blue_postprocessed_2023_dekadal_from_WaPOR_10m/ET_blue_postprocessed_dekadal_2023_07_D1\n",
      "Exporting ET_blue_postprocessed_dekadal_2023_07_D2 for 2023 to projects/thurgau-irrigation/assets/Thurgau/ET_blue_postprocessed/ET_blue_postprocessed_2023_dekadal_from_WaPOR_10m/ET_blue_postprocessed_dekadal_2023_07_D2\n",
      "Exporting ET_blue_postprocessed_dekadal_2023_07_D3 for 2023 to projects/thurgau-irrigation/assets/Thurgau/ET_blue_postprocessed/ET_blue_postprocessed_2023_dekadal_from_WaPOR_10m/ET_blue_postprocessed_dekadal_2023_07_D3\n",
      "Exporting ET_blue_postprocessed_dekadal_2023_08_D1 for 2023 to projects/thurgau-irrigation/assets/Thurgau/ET_blue_postprocessed/ET_blue_postprocessed_2023_dekadal_from_WaPOR_10m/ET_blue_postprocessed_dekadal_2023_08_D1\n",
      "Exporting ET_blue_postprocessed_dekadal_2023_08_D2 for 2023 to projects/thurgau-irrigation/assets/Thurgau/ET_blue_postprocessed/ET_blue_postprocessed_2023_dekadal_from_WaPOR_10m/ET_blue_postprocessed_dekadal_2023_08_D2\n",
      "Exporting ET_blue_postprocessed_dekadal_2023_08_D3 for 2023 to projects/thurgau-irrigation/assets/Thurgau/ET_blue_postprocessed/ET_blue_postprocessed_2023_dekadal_from_WaPOR_10m/ET_blue_postprocessed_dekadal_2023_08_D3\n",
      "Exporting ET_blue_postprocessed_dekadal_2023_09_D1 for 2023 to projects/thurgau-irrigation/assets/Thurgau/ET_blue_postprocessed/ET_blue_postprocessed_2023_dekadal_from_WaPOR_10m/ET_blue_postprocessed_dekadal_2023_09_D1\n",
      "Exporting ET_blue_postprocessed_dekadal_2023_09_D2 for 2023 to projects/thurgau-irrigation/assets/Thurgau/ET_blue_postprocessed/ET_blue_postprocessed_2023_dekadal_from_WaPOR_10m/ET_blue_postprocessed_dekadal_2023_09_D2\n",
      "Exporting ET_blue_postprocessed_dekadal_2023_09_D3 for 2023 to projects/thurgau-irrigation/assets/Thurgau/ET_blue_postprocessed/ET_blue_postprocessed_2023_dekadal_from_WaPOR_10m/ET_blue_postprocessed_dekadal_2023_09_D3\n",
      "Exporting ET_blue_postprocessed_dekadal_2023_10_D1 for 2023 to projects/thurgau-irrigation/assets/Thurgau/ET_blue_postprocessed/ET_blue_postprocessed_2023_dekadal_from_WaPOR_10m/ET_blue_postprocessed_dekadal_2023_10_D1\n",
      "Exporting ET_blue_postprocessed_dekadal_2023_10_D2 for 2023 to projects/thurgau-irrigation/assets/Thurgau/ET_blue_postprocessed/ET_blue_postprocessed_2023_dekadal_from_WaPOR_10m/ET_blue_postprocessed_dekadal_2023_10_D2\n",
      "Exporting ET_blue_postprocessed_dekadal_2023_10_D3 for 2023 to projects/thurgau-irrigation/assets/Thurgau/ET_blue_postprocessed/ET_blue_postprocessed_2023_dekadal_from_WaPOR_10m/ET_blue_postprocessed_dekadal_2023_10_D3\n",
      "Generated 21 export tasks for year 2023\n"
     ]
    }
   ],
   "source": [
    "postprocess_et_blue_raw(\n",
    "    et_blue_raw_list=et_blue_raw_list,\n",
    "    et_green_list=et_green_list,\n",
    "    year=YEAR,\n",
    "    aoi=aoi,\n",
    "    asset_path=ET_BLUE_POSTPROCESSED_PATH,\n",
    "    time_step_type=TEMPORAL_RESOLUTION,\n",
    "    resolution=EXPORT_IMAGE_RESOLUTION,\n",
    "    et_green_band_name=ET_GREEN_BAND_NAME,\n",
    ")"
   ]
  },
  {
   "cell_type": "markdown",
   "metadata": {},
   "source": [
    "## 3. Sanity check"
   ]
  },
  {
   "cell_type": "code",
   "execution_count": 9,
   "metadata": {},
   "outputs": [
    {
     "data": {
      "text/html": [
       "\n",
       "            <style>\n",
       "                .geemap-dark {\n",
       "                    --jp-widgets-color: white;\n",
       "                    --jp-widgets-label-color: white;\n",
       "                    --jp-ui-font-color1: white;\n",
       "                    --jp-layout-color2: #454545;\n",
       "                    background-color: #383838;\n",
       "                }\n",
       "\n",
       "                .geemap-dark .jupyter-button {\n",
       "                    --jp-layout-color3: #383838;\n",
       "                }\n",
       "\n",
       "                .geemap-colab {\n",
       "                    background-color: var(--colab-primary-surface-color, white);\n",
       "                }\n",
       "\n",
       "                .geemap-colab .jupyter-button {\n",
       "                    --jp-layout-color3: var(--colab-primary-surface-color, white);\n",
       "                }\n",
       "            </style>\n",
       "            "
      ],
      "text/plain": [
       "<IPython.core.display.HTML object>"
      ]
     },
     "metadata": {},
     "output_type": "display_data"
    }
   ],
   "source": [
    "et_blue_postprocessed = []\n",
    "\n",
    "et_blue_previous = None\n",
    "\n",
    "for i in range(NUMBER_OF_IMAGES):\n",
    "    # Get current images\n",
    "    et_green = ee.Image(et_green_list.get(i))\n",
    "    et_blue_present = ee.Image(et_blue_raw_list.get(i))\n",
    "\n",
    "    # Initialize previous for first iteration\n",
    "    if et_blue_previous is None:\n",
    "        et_blue_previous = et_blue_present\n",
    "\n",
    "    # Calculate threshold from ET green\n",
    "    threshold = calculate_band_std_dev(et_green, ET_GREEN_BAND_NAME)\n",
    "\n",
    "    # Post process using the previous processed image\n",
    "    et_blue = postprocess_et_blue(et_blue_present, et_blue_previous, threshold)\n",
    "\n",
    "    # Compute and add volumetric band\n",
    "    et_blue_m3 = compute_volumetric_et_blue(et_blue)\n",
    "    et_blue = et_blue.addBands(et_blue_m3)\n",
    "\n",
    "    # Store current processed image for next iteration\n",
    "    et_blue_previous = et_blue.select(\"ET_blue\")\n",
    "\n",
    "    et_blue_postprocessed.append(et_blue)"
   ]
  },
  {
   "cell_type": "code",
   "execution_count": 10,
   "metadata": {},
   "outputs": [
    {
     "data": {
      "text/html": [
       "\n",
       "            <style>\n",
       "                .geemap-dark {\n",
       "                    --jp-widgets-color: white;\n",
       "                    --jp-widgets-label-color: white;\n",
       "                    --jp-ui-font-color1: white;\n",
       "                    --jp-layout-color2: #454545;\n",
       "                    background-color: #383838;\n",
       "                }\n",
       "\n",
       "                .geemap-dark .jupyter-button {\n",
       "                    --jp-layout-color3: #383838;\n",
       "                }\n",
       "\n",
       "                .geemap-colab {\n",
       "                    background-color: var(--colab-primary-surface-color, white);\n",
       "                }\n",
       "\n",
       "                .geemap-colab .jupyter-button {\n",
       "                    --jp-layout-color3: var(--colab-primary-surface-color, white);\n",
       "                }\n",
       "            </style>\n",
       "            "
      ],
      "text/plain": [
       "<IPython.core.display.HTML object>"
      ]
     },
     "metadata": {},
     "output_type": "display_data"
    },
    {
     "data": {
      "application/vnd.jupyter.widget-view+json": {
       "model_id": "cdefa5a2759f41f9b0b619d365119651",
       "version_major": 2,
       "version_minor": 0
      },
      "text/plain": [
       "Map(center=[47.56858787382066, 9.092720596553875], controls=(WidgetControl(options=['position', 'transparent_b…"
      ]
     },
     "execution_count": 10,
     "metadata": {},
     "output_type": "execute_result"
    }
   ],
   "source": [
    "image = ee.Image(et_blue_postprocessed[5])\n",
    "\n",
    "Map = geemap.Map()\n",
    "\n",
    "vis_params = {\n",
    "    \"bands\": [\"ET_blue\"],\n",
    "    \"min\": 0,\n",
    "    \"max\": 1,\n",
    "    \"palette\": [\"blue\", \"green\", \"yellow\", \"red\"],\n",
    "}\n",
    "\n",
    "Map.addLayer(image, vis_params, \"ET_blue\")\n",
    "\n",
    "# Map.addLayer(aoi, {}, \"AOI\")\n",
    "Map.center_object(aoi, 12)\n",
    "\n",
    "Map"
   ]
  },
  {
   "cell_type": "code",
   "execution_count": null,
   "metadata": {},
   "outputs": [],
   "source": []
  }
 ],
 "metadata": {
  "kernelspec": {
   "display_name": "geemap_env",
   "language": "python",
   "name": "python3"
  },
  "language_info": {
   "codemirror_mode": {
    "name": "ipython",
    "version": 3
   },
   "file_extension": ".py",
   "mimetype": "text/x-python",
   "name": "python",
   "nbconvert_exporter": "python",
   "pygments_lexer": "ipython3",
   "version": "3.11.10"
  }
 },
 "nbformat": 4,
 "nbformat_minor": 2
}
