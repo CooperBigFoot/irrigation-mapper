{
 "cells": [
  {
   "cell_type": "code",
   "execution_count": 1,
   "metadata": {},
   "outputs": [],
   "source": [
    "import sys\n",
    "from pathlib import Path\n",
    "sys.path.append(str(Path().absolute().parent))"
   ]
  },
  {
   "cell_type": "code",
   "execution_count": 2,
   "metadata": {},
   "outputs": [
    {
     "name": "stderr",
     "output_type": "stream",
     "text": [
      "*** Earth Engine *** Share your feedback by taking our Annual Developer Satisfaction Survey: https://google.qualtrics.com/jfe/form/SV_0JLhFqfSY1uiEaW?source=Init\n"
     ]
    }
   ],
   "source": [
    "import ee \n",
    "import geemap\n",
    "\n",
    "ee.Initialize(project=\"thurgau-irrigation\")"
   ]
  },
  {
   "cell_type": "code",
   "execution_count": 3,
   "metadata": {},
   "outputs": [
    {
     "data": {
      "text/html": [
       "\n",
       "            <style>\n",
       "                .geemap-dark {\n",
       "                    --jp-widgets-color: white;\n",
       "                    --jp-widgets-label-color: white;\n",
       "                    --jp-ui-font-color1: white;\n",
       "                    --jp-layout-color2: #454545;\n",
       "                    background-color: #383838;\n",
       "                }\n",
       "\n",
       "                .geemap-dark .jupyter-button {\n",
       "                    --jp-layout-color3: #383838;\n",
       "                }\n",
       "\n",
       "                .geemap-colab {\n",
       "                    background-color: var(--colab-primary-surface-color, white);\n",
       "                }\n",
       "\n",
       "                .geemap-colab .jupyter-button {\n",
       "                    --jp-layout-color3: var(--colab-primary-surface-color, white);\n",
       "                }\n",
       "            </style>\n",
       "            "
      ],
      "text/plain": [
       "<IPython.core.display.HTML object>"
      ]
     },
     "metadata": {},
     "output_type": "display_data"
    }
   ],
   "source": [
    "from src.data_processing.downscaling import resample_image, Downscaler\n",
    "from src.data_processing.sentinel_preprocessing import load_sentinel2_data\n",
    "\n",
    "from utils.date_utils import (\n",
    "    set_to_first_of_month,\n",
    "    print_collection_dates,\n",
    "    create_centered_date_ranges,\n",
    ")\n",
    "from utils.ee_utils import harmonized_ts, export_image_to_asset, back_to_int\n",
    "from utils.harmonic_regressor import HarmonicRegressor\n",
    "\n",
    "from typing import List, Callable, Tuple"
   ]
  },
  {
   "cell_type": "markdown",
   "metadata": {},
   "source": [
    "---"
   ]
  },
  {
   "cell_type": "markdown",
   "metadata": {},
   "source": [
    "## Constants"
   ]
  },
  {
   "cell_type": "code",
   "execution_count": 4,
   "metadata": {},
   "outputs": [
    {
     "data": {
      "text/html": [
       "\n",
       "            <style>\n",
       "                .geemap-dark {\n",
       "                    --jp-widgets-color: white;\n",
       "                    --jp-widgets-label-color: white;\n",
       "                    --jp-ui-font-color1: white;\n",
       "                    --jp-layout-color2: #454545;\n",
       "                    background-color: #383838;\n",
       "                }\n",
       "\n",
       "                .geemap-dark .jupyter-button {\n",
       "                    --jp-layout-color3: #383838;\n",
       "                }\n",
       "\n",
       "                .geemap-colab {\n",
       "                    background-color: var(--colab-primary-surface-color, white);\n",
       "                }\n",
       "\n",
       "                .geemap-colab .jupyter-button {\n",
       "                    --jp-layout-color3: var(--colab-primary-surface-color, white);\n",
       "                }\n",
       "            </style>\n",
       "            "
      ],
      "text/plain": [
       "<IPython.core.display.HTML object>"
      ]
     },
     "metadata": {},
     "output_type": "display_data"
    }
   ],
   "source": [
    "PATH_TO_AOI = \"projects/thurgau-irrigation/assets/Thurgau/thrugau_borders_2024\"\n",
    "PATH_TO_ET_PRODUCT = \"projects/thurgau-irrigation/assets/ETlandsatmonthly\"\n",
    "START_YEAR = 2022\n",
    "END_YEAR = 2022\n",
    "BUFFER_DAYS = 15\n",
    "BAND_TO_RESAMPLE = \"ET\"\n",
    "TARGET_RESAMPLE_SCALE = 100\n",
    "BANDS_TO_HARMONIZE = [\"B3\", \"B4\", \"B8\", \"B11\", \"B12\"]\n",
    "AGGREGATION_OPTIONS = {\n",
    "    \"agg_type\": \"mosaic\",\n",
    "    \"mosaic_type\": \"least_cloudy\",\n",
    "    \"band_name\": \"NDVI\",\n",
    "}\n",
    "INDEXES_FOR_HARMONIZATION = [\"NDVI\", \"NDWI\", \"NDBI\"]\n",
    "INDEPENDENT_BANDS = [\"gap_filled_NDVI\", \"gap_filled_NDBI\", \"gap_filled_NDWI\"]\n",
    "DEPENDENT_BAND = [\"ET\"]\n"
   ]
  },
  {
   "cell_type": "markdown",
   "metadata": {},
   "source": [
    "## 1. Load ET product"
   ]
  },
  {
   "cell_type": "code",
   "execution_count": 5,
   "metadata": {},
   "outputs": [
    {
     "data": {
      "text/html": [
       "\n",
       "            <style>\n",
       "                .geemap-dark {\n",
       "                    --jp-widgets-color: white;\n",
       "                    --jp-widgets-label-color: white;\n",
       "                    --jp-ui-font-color1: white;\n",
       "                    --jp-layout-color2: #454545;\n",
       "                    background-color: #383838;\n",
       "                }\n",
       "\n",
       "                .geemap-dark .jupyter-button {\n",
       "                    --jp-layout-color3: #383838;\n",
       "                }\n",
       "\n",
       "                .geemap-colab {\n",
       "                    background-color: var(--colab-primary-surface-color, white);\n",
       "                }\n",
       "\n",
       "                .geemap-colab .jupyter-button {\n",
       "                    --jp-layout-color3: var(--colab-primary-surface-color, white);\n",
       "                }\n",
       "            </style>\n",
       "            "
      ],
      "text/plain": [
       "<IPython.core.display.HTML object>"
      ]
     },
     "metadata": {},
     "output_type": "display_data"
    }
   ],
   "source": [
    "aoi_feature_collection = ee.FeatureCollection(PATH_TO_AOI)\n",
    "aoi_geometry = aoi_feature_collection.geometry().simplify(500)\n",
    "\n",
    "aoi = aoi_geometry.buffer(100)"
   ]
  },
  {
   "cell_type": "code",
   "execution_count": 6,
   "metadata": {},
   "outputs": [
    {
     "data": {
      "text/html": [
       "\n",
       "            <style>\n",
       "                .geemap-dark {\n",
       "                    --jp-widgets-color: white;\n",
       "                    --jp-widgets-label-color: white;\n",
       "                    --jp-ui-font-color1: white;\n",
       "                    --jp-layout-color2: #454545;\n",
       "                    background-color: #383838;\n",
       "                }\n",
       "\n",
       "                .geemap-dark .jupyter-button {\n",
       "                    --jp-layout-color3: #383838;\n",
       "                }\n",
       "\n",
       "                .geemap-colab {\n",
       "                    background-color: var(--colab-primary-surface-color, white);\n",
       "                }\n",
       "\n",
       "                .geemap-colab .jupyter-button {\n",
       "                    --jp-layout-color3: var(--colab-primary-surface-color, white);\n",
       "                }\n",
       "            </style>\n",
       "            "
      ],
      "text/plain": [
       "<IPython.core.display.HTML object>"
      ]
     },
     "metadata": {},
     "output_type": "display_data"
    }
   ],
   "source": [
    "landsat_ET_30m = ee.ImageCollection(\n",
    "    \"projects/thurgau-irrigation/assets/ETlandsatmonthly\"\n",
    ").filterDate(\"2022-01-01\", \"2022-12-31\")\n",
    "\n",
    "landsat_ET_30m = set_to_first_of_month(landsat_ET_30m)\n",
    "\n",
    "landsat_ET_100m = landsat_ET_30m.map(lambda img: resample_image(img, 100, [\"ET\"]))\n",
    "landsat_ET_100m_list = landsat_ET_100m.toList(landsat_ET_100m.size())"
   ]
  },
  {
   "cell_type": "markdown",
   "metadata": {},
   "source": [
    "## 2. Load Sentinel-2 data"
   ]
  },
  {
   "cell_type": "code",
   "execution_count": 7,
   "metadata": {},
   "outputs": [
    {
     "data": {
      "text/html": [
       "\n",
       "            <style>\n",
       "                .geemap-dark {\n",
       "                    --jp-widgets-color: white;\n",
       "                    --jp-widgets-label-color: white;\n",
       "                    --jp-ui-font-color1: white;\n",
       "                    --jp-layout-color2: #454545;\n",
       "                    background-color: #383838;\n",
       "                }\n",
       "\n",
       "                .geemap-dark .jupyter-button {\n",
       "                    --jp-layout-color3: #383838;\n",
       "                }\n",
       "\n",
       "                .geemap-colab {\n",
       "                    background-color: var(--colab-primary-surface-color, white);\n",
       "                }\n",
       "\n",
       "                .geemap-colab .jupyter-button {\n",
       "                    --jp-layout-color3: var(--colab-primary-surface-color, white);\n",
       "                }\n",
       "            </style>\n",
       "            "
      ],
      "text/plain": [
       "<IPython.core.display.HTML object>"
      ]
     },
     "metadata": {},
     "output_type": "display_data"
    }
   ],
   "source": [
    "s2_collection = load_sentinel2_data((START_YEAR, END_YEAR), aoi=aoi)\n",
    "\n",
    "time_intervals = create_centered_date_ranges(landsat_ET_100m_list, buffer_days=15)\n",
    "\n",
    "s2_harmonized = harmonized_ts(\n",
    "    masked_collection=s2_collection,\n",
    "    band_list=BANDS_TO_HARMONIZE,\n",
    "    time_intervals=time_intervals,\n",
    "    options=AGGREGATION_OPTIONS,\n",
    ")"
   ]
  },
  {
   "cell_type": "code",
   "execution_count": 8,
   "metadata": {},
   "outputs": [
    {
     "data": {
      "text/html": [
       "\n",
       "            <style>\n",
       "                .geemap-dark {\n",
       "                    --jp-widgets-color: white;\n",
       "                    --jp-widgets-label-color: white;\n",
       "                    --jp-ui-font-color1: white;\n",
       "                    --jp-layout-color2: #454545;\n",
       "                    background-color: #383838;\n",
       "                }\n",
       "\n",
       "                .geemap-dark .jupyter-button {\n",
       "                    --jp-layout-color3: #383838;\n",
       "                }\n",
       "\n",
       "                .geemap-colab {\n",
       "                    background-color: var(--colab-primary-surface-color, white);\n",
       "                }\n",
       "\n",
       "                .geemap-colab .jupyter-button {\n",
       "                    --jp-layout-color3: var(--colab-primary-surface-color, white);\n",
       "                }\n",
       "            </style>\n",
       "            "
      ],
      "text/plain": [
       "<IPython.core.display.HTML object>"
      ]
     },
     "metadata": {},
     "output_type": "display_data"
    },
    {
     "data": {
      "text/plain": [
       "['B3', 'B4', 'B8', 'B11', 'B12', 't', 'constant']"
      ]
     },
     "execution_count": 8,
     "metadata": {},
     "output_type": "execute_result"
    }
   ],
   "source": [
    "def add_temporal_bands(collection: ee.ImageCollection) -> ee.ImageCollection:\n",
    "    \"\"\"Add temporal bands to each image in the collection.\"\"\"\n",
    "    def _add_bands(image: ee.Image) -> ee.Image:\n",
    "        date = ee.Date(image.get('system:time_start'))\n",
    "        years = date.difference(ee.Date('1970-01-01'), 'year')\n",
    "        \n",
    "        projection = image.select([0]).projection()\n",
    "        time_band = ee.Image(years).float().rename('t')\n",
    "        constant_band = ee.Image.constant(1).rename('constant')\n",
    "        \n",
    "        return image.addBands([\n",
    "            time_band.setDefaultProjection(projection),\n",
    "            constant_band.setDefaultProjection(projection)\n",
    "        ])\n",
    "    \n",
    "    return collection.map(_add_bands)\n",
    "\n",
    "s2_harmonized = add_temporal_bands(s2_harmonized)\n",
    "s2_harmonized.first().bandNames().getInfo()"
   ]
  },
  {
   "cell_type": "code",
   "execution_count": 9,
   "metadata": {},
   "outputs": [
    {
     "data": {
      "text/html": [
       "\n",
       "            <style>\n",
       "                .geemap-dark {\n",
       "                    --jp-widgets-color: white;\n",
       "                    --jp-widgets-label-color: white;\n",
       "                    --jp-ui-font-color1: white;\n",
       "                    --jp-layout-color2: #454545;\n",
       "                    background-color: #383838;\n",
       "                }\n",
       "\n",
       "                .geemap-dark .jupyter-button {\n",
       "                    --jp-layout-color3: #383838;\n",
       "                }\n",
       "\n",
       "                .geemap-colab {\n",
       "                    background-color: var(--colab-primary-surface-color, white);\n",
       "                }\n",
       "\n",
       "                .geemap-colab .jupyter-button {\n",
       "                    --jp-layout-color3: var(--colab-primary-surface-color, white);\n",
       "                }\n",
       "            </style>\n",
       "            "
      ],
      "text/plain": [
       "<IPython.core.display.HTML object>"
      ]
     },
     "metadata": {},
     "output_type": "display_data"
    }
   ],
   "source": [
    "def compute_vegetation_indexes(image: ee.Image) -> ee.Image:\n",
    "    \"\"\"\n",
    "    Compute vegetation indexes for a given image\n",
    "\n",
    "    Args:\n",
    "        image (ee.Image): The image to compute the vegetation indexes for\n",
    "\n",
    "    Returns:\n",
    "        ee.Image: The input image with the vegetation indexes\n",
    "\n",
    "    \"\"\"\n",
    "    ndvi = image.normalizedDifference([\"B8\", \"B4\"]).rename(\"NDVI\")\n",
    "    ndwi = image.normalizedDifference([\"B3\", \"B8\"]).rename(\"NDWI\")\n",
    "    ndbi = image.normalizedDifference([\"B11\", \"B8\"]).rename(\"NDBI\")\n",
    "    return image.addBands(ndvi).addBands(ndwi).addBands(ndbi)\n",
    "\n",
    "s2_harmonized_w_vegetation_indexes = s2_harmonized.map(compute_vegetation_indexes)"
   ]
  },
  {
   "cell_type": "code",
   "execution_count": 10,
   "metadata": {},
   "outputs": [
    {
     "data": {
      "text/html": [
       "\n",
       "            <style>\n",
       "                .geemap-dark {\n",
       "                    --jp-widgets-color: white;\n",
       "                    --jp-widgets-label-color: white;\n",
       "                    --jp-ui-font-color1: white;\n",
       "                    --jp-layout-color2: #454545;\n",
       "                    background-color: #383838;\n",
       "                }\n",
       "\n",
       "                .geemap-dark .jupyter-button {\n",
       "                    --jp-layout-color3: #383838;\n",
       "                }\n",
       "\n",
       "                .geemap-colab {\n",
       "                    background-color: var(--colab-primary-surface-color, white);\n",
       "                }\n",
       "\n",
       "                .geemap-colab .jupyter-button {\n",
       "                    --jp-layout-color3: var(--colab-primary-surface-color, white);\n",
       "                }\n",
       "            </style>\n",
       "            "
      ],
      "text/plain": [
       "<IPython.core.display.HTML object>"
      ]
     },
     "metadata": {},
     "output_type": "display_data"
    },
    {
     "data": {
      "text/plain": [
       "['B3', 'B4', 'B8', 'B11', 'B12', 't', 'constant', 'NDVI', 'NDWI', 'NDBI']"
      ]
     },
     "execution_count": 10,
     "metadata": {},
     "output_type": "execute_result"
    }
   ],
   "source": [
    "s2_harmonized_w_vegetation_indexes.first().bandNames().getInfo()    "
   ]
  },
  {
   "cell_type": "code",
   "execution_count": 11,
   "metadata": {},
   "outputs": [
    {
     "data": {
      "text/html": [
       "\n",
       "            <style>\n",
       "                .geemap-dark {\n",
       "                    --jp-widgets-color: white;\n",
       "                    --jp-widgets-label-color: white;\n",
       "                    --jp-ui-font-color1: white;\n",
       "                    --jp-layout-color2: #454545;\n",
       "                    background-color: #383838;\n",
       "                }\n",
       "\n",
       "                .geemap-dark .jupyter-button {\n",
       "                    --jp-layout-color3: #383838;\n",
       "                }\n",
       "\n",
       "                .geemap-colab {\n",
       "                    background-color: var(--colab-primary-surface-color, white);\n",
       "                }\n",
       "\n",
       "                .geemap-colab .jupyter-button {\n",
       "                    --jp-layout-color3: var(--colab-primary-surface-color, white);\n",
       "                }\n",
       "            </style>\n",
       "            "
      ],
      "text/plain": [
       "<IPython.core.display.HTML object>"
      ]
     },
     "metadata": {},
     "output_type": "display_data"
    }
   ],
   "source": [
    "s2_harmonized_gaps_filled = s2_harmonized_w_vegetation_indexes\n",
    "\n",
    "for index in INDEXES_FOR_HARMONIZATION:\n",
    "    regressor = HarmonicRegressor(\n",
    "        omega=1, max_harmonic_order=1, band_to_harmonize=index\n",
    "    )\n",
    "\n",
    "    regressor.fit(s2_harmonized_w_vegetation_indexes)\n",
    "    fitted_collection = regressor.predict(s2_harmonized_w_vegetation_indexes)\n",
    "\n",
    "    fitted_collection = fitted_collection.map(\n",
    "        lambda img: img.select([\"fitted\"]).rename(f\"fitted_{index}\")\n",
    "    )\n",
    "\n",
    "    s2_harmonized_gaps_filled = s2_harmonized_gaps_filled.map(\n",
    "        lambda img: img.addBands(\n",
    "            fitted_collection.filterDate(img.date()).first().select([f\"fitted_{index}\"])\n",
    "        )\n",
    "    )"
   ]
  },
  {
   "cell_type": "code",
   "execution_count": 12,
   "metadata": {},
   "outputs": [
    {
     "data": {
      "text/html": [
       "\n",
       "            <style>\n",
       "                .geemap-dark {\n",
       "                    --jp-widgets-color: white;\n",
       "                    --jp-widgets-label-color: white;\n",
       "                    --jp-ui-font-color1: white;\n",
       "                    --jp-layout-color2: #454545;\n",
       "                    background-color: #383838;\n",
       "                }\n",
       "\n",
       "                .geemap-dark .jupyter-button {\n",
       "                    --jp-layout-color3: #383838;\n",
       "                }\n",
       "\n",
       "                .geemap-colab {\n",
       "                    background-color: var(--colab-primary-surface-color, white);\n",
       "                }\n",
       "\n",
       "                .geemap-colab .jupyter-button {\n",
       "                    --jp-layout-color3: var(--colab-primary-surface-color, white);\n",
       "                }\n",
       "            </style>\n",
       "            "
      ],
      "text/plain": [
       "<IPython.core.display.HTML object>"
      ]
     },
     "metadata": {},
     "output_type": "display_data"
    },
    {
     "data": {
      "text/plain": [
       "['B3',\n",
       " 'B4',\n",
       " 'B8',\n",
       " 'B11',\n",
       " 'B12',\n",
       " 't',\n",
       " 'constant',\n",
       " 'NDVI',\n",
       " 'NDWI',\n",
       " 'NDBI',\n",
       " 'fitted_NDVI',\n",
       " 'fitted_NDWI',\n",
       " 'fitted_NDBI']"
      ]
     },
     "execution_count": 12,
     "metadata": {},
     "output_type": "execute_result"
    }
   ],
   "source": [
    "s2_harmonized_gaps_filled.first().bandNames().getInfo()"
   ]
  },
  {
   "cell_type": "code",
   "execution_count": 13,
   "metadata": {},
   "outputs": [
    {
     "data": {
      "text/html": [
       "\n",
       "            <style>\n",
       "                .geemap-dark {\n",
       "                    --jp-widgets-color: white;\n",
       "                    --jp-widgets-label-color: white;\n",
       "                    --jp-ui-font-color1: white;\n",
       "                    --jp-layout-color2: #454545;\n",
       "                    background-color: #383838;\n",
       "                }\n",
       "\n",
       "                .geemap-dark .jupyter-button {\n",
       "                    --jp-layout-color3: #383838;\n",
       "                }\n",
       "\n",
       "                .geemap-colab {\n",
       "                    background-color: var(--colab-primary-surface-color, white);\n",
       "                }\n",
       "\n",
       "                .geemap-colab .jupyter-button {\n",
       "                    --jp-layout-color3: var(--colab-primary-surface-color, white);\n",
       "                }\n",
       "            </style>\n",
       "            "
      ],
      "text/plain": [
       "<IPython.core.display.HTML object>"
      ]
     },
     "metadata": {},
     "output_type": "display_data"
    },
    {
     "data": {
      "text/plain": [
       "['B3',\n",
       " 'B4',\n",
       " 'B8',\n",
       " 'B11',\n",
       " 'B12',\n",
       " 't',\n",
       " 'constant',\n",
       " 'NDVI',\n",
       " 'NDWI',\n",
       " 'NDBI',\n",
       " 'fitted_NDVI',\n",
       " 'fitted_NDWI',\n",
       " 'fitted_NDBI',\n",
       " 'gap_filled_NDVI',\n",
       " 'gap_filled_NDWI',\n",
       " 'gap_filled_NDBI']"
      ]
     },
     "execution_count": 13,
     "metadata": {},
     "output_type": "execute_result"
    }
   ],
   "source": [
    "def fill_gaps(\n",
    "    img: ee.Image, source_band: str, fill_band: str, output_name: str\n",
    ") -> ee.Image:\n",
    "    \"\"\"Fill gaps in a band with values from another band.\n",
    "\n",
    "    Args:\n",
    "        img (ee.Image): Input image containing both bands\n",
    "        source_band (str): Name of band containing gaps to fill\n",
    "        fill_band (str): Name of band to use for filling gaps\n",
    "        output_name (str): Name for the output gap-filled band\n",
    "\n",
    "    Returns:\n",
    "        ee.Image: Image with gap-filled band\n",
    "    \"\"\"\n",
    "    scale = img.projection().nominalScale()\n",
    "    projection = img.projection()\n",
    "    # Create mask where the source band is invalid (gaps)\n",
    "    gap_mask = img.select(source_band).mask().Not()\n",
    "\n",
    "    # Get the source band and fill band\n",
    "    source = img.select(source_band)\n",
    "    fill = img.select(fill_band)\n",
    "\n",
    "    # Fill gaps: use source band where available, fill band where there are gaps\n",
    "    filled = source.unmask().where(gap_mask, fill).rename(output_name)\n",
    "    filled = filled.setDefaultProjection(projection).set(\"scale\", scale)\n",
    "\n",
    "    return filled\n",
    "\n",
    "\n",
    "def apply_gap_filling(img: ee.Image, indexes: List[str]) -> ee.Image:\n",
    "    \"\"\"Apply gap filling to multiple bands.\n",
    "\n",
    "    Args:\n",
    "        img (ee.Image): Input image\n",
    "        indexes (list[str]): List of index names to process (e.g., ['NDVI', 'NDWI', 'NDBI'])\n",
    "\n",
    "    Returns:\n",
    "        ee.Image: Original image with added gap-filled bands\n",
    "    \"\"\"\n",
    "    # Start with the original image\n",
    "    result = img\n",
    "\n",
    "    # Add each gap-filled band one at a time\n",
    "    for index in indexes:\n",
    "        filled_band = fill_gaps(\n",
    "            img=img,\n",
    "            source_band=index,\n",
    "            fill_band=f\"fitted_{index}\",\n",
    "            output_name=f\"gap_filled_{index}\",\n",
    "        )\n",
    "        result = result.addBands(filled_band)\n",
    "\n",
    "    return result\n",
    "\n",
    "\n",
    "# Apply gap filling to the collection\n",
    "def process_collection(\n",
    "    collection: ee.ImageCollection, indexes: List[str]\n",
    ") -> ee.ImageCollection:\n",
    "    \"\"\"Process entire collection by applying gap filling to each image.\n",
    "\n",
    "    Args:\n",
    "        collection (ee.ImageCollection): Input collection\n",
    "        indexes (List[str]): List of index names to process\n",
    "\n",
    "    Returns:\n",
    "        ee.ImageCollection: Processed collection with gap-filled bands\n",
    "    \"\"\"\n",
    "    return collection.map(lambda img: apply_gap_filling(img, indexes))\n",
    "\n",
    "\n",
    "s2_harmonized_gaps_filled = process_collection(s2_harmonized_gaps_filled, INDEXES_FOR_HARMONIZATION)\n",
    "\n",
    "s2_harmonized_gaps_filled.first().bandNames().getInfo()"
   ]
  },
  {
   "cell_type": "code",
   "execution_count": 14,
   "metadata": {},
   "outputs": [
    {
     "data": {
      "text/html": [
       "\n",
       "            <style>\n",
       "                .geemap-dark {\n",
       "                    --jp-widgets-color: white;\n",
       "                    --jp-widgets-label-color: white;\n",
       "                    --jp-ui-font-color1: white;\n",
       "                    --jp-layout-color2: #454545;\n",
       "                    background-color: #383838;\n",
       "                }\n",
       "\n",
       "                .geemap-dark .jupyter-button {\n",
       "                    --jp-layout-color3: #383838;\n",
       "                }\n",
       "\n",
       "                .geemap-colab {\n",
       "                    background-color: var(--colab-primary-surface-color, white);\n",
       "                }\n",
       "\n",
       "                .geemap-colab .jupyter-button {\n",
       "                    --jp-layout-color3: var(--colab-primary-surface-color, white);\n",
       "                }\n",
       "            </style>\n",
       "            "
      ],
      "text/plain": [
       "<IPython.core.display.HTML object>"
      ]
     },
     "metadata": {},
     "output_type": "display_data"
    }
   ],
   "source": [
    "def create_timesteps(year: str, time_step_type: str = \"dekadal\") -> List[dict]:\n",
    "    \"\"\"Generate timestep information for the year.\"\"\"\n",
    "    steps = 36 if time_step_type == \"dekadal\" else 12\n",
    "    timesteps = []\n",
    "\n",
    "    for i in range(steps):\n",
    "        if time_step_type == \"dekadal\":\n",
    "            dekad = i % 3 + 1\n",
    "            month = i // 3 + 1\n",
    "            date = ee.Date.fromYMD(int(year), month, dekad * 10 - 9)\n",
    "            time_label = f\"{month:02d}_D{dekad}\"\n",
    "        else:\n",
    "            month = i + 1\n",
    "            date = ee.Date.fromYMD(int(year), month, 1)\n",
    "            time_label = f\"{month:02d}\"\n",
    "\n",
    "        timesteps.append({\"date\": date, \"label\": time_label, \"index\": i})\n",
    "\n",
    "    return timesteps\n",
    "\n",
    "\n",
    "def process_and_export_downscaled_ET(\n",
    "    downscaler: Downscaler,\n",
    "    s2_indices: ee.ImageCollection,\n",
    "    independent_vars: ee.ImageCollection,\n",
    "    dependent_vars: ee.ImageCollection,\n",
    "    aoi: ee.Geometry,\n",
    "    year: str,\n",
    "    asset_id_template: Callable[[str, str], str],\n",
    "    scale_coarse: float,\n",
    "    scale_fine: float = 10,\n",
    "    time_step_type: str = \"dekadal\",\n",
    "    crs: str = \"EPSG:32632\",\n",
    ") -> List[ee.batch.Task]:\n",
    "    \"\"\"\n",
    "    Process and export downscaled ET images to Earth Engine assets.\n",
    "\n",
    "    Args:\n",
    "        downscaler: The Downscaler object for downscaling images\n",
    "        s2_indices: Sentinel-2 indices ImageCollection\n",
    "        independent_vars: Resampled independent variables ImageCollection\n",
    "        dependent_vars: Dependent variables ImageCollection\n",
    "        aoi: Area of interest geometry\n",
    "        year: Processing year\n",
    "        asset_id_template: Function that takes (year, time_label) and returns full asset path\n",
    "        scale_coarse: Scale before downscaling\n",
    "        scale_fine: Scale after downscaling (default: 10m)\n",
    "        time_step_type: \"dekadal\" or \"monthly\" (default: \"dekadal\")\n",
    "        crs: Output coordinate reference system (default: \"EPSG:32632\")\n",
    "\n",
    "    Returns:\n",
    "        List of export tasks\n",
    "    \"\"\"\n",
    "    # Convert collections to lists for indexed access\n",
    "    s2_indices_list = s2_indices.toList(s2_indices.size())\n",
    "    independent_vars_list = independent_vars.toList(independent_vars.size())\n",
    "    dependent_vars_list = dependent_vars.toList(dependent_vars.size())\n",
    "\n",
    "    # Generate timesteps\n",
    "    timesteps = create_timesteps(year, time_step_type)\n",
    "\n",
    "    tasks = []\n",
    "    for step in timesteps:\n",
    "        # Get images for current timestep\n",
    "        s2_index = ee.Image(s2_indices_list.get(step[\"index\"]))\n",
    "        ind_vars = ee.Image(independent_vars_list.get(step[\"index\"]))\n",
    "        dep_vars = ee.Image(dependent_vars_list.get(step[\"index\"]))\n",
    "\n",
    "        # Perform downscaling\n",
    "        et_downscaled = downscaler.downscale(\n",
    "            coarse_independent_vars=ind_vars,\n",
    "            coarse_dependent_var=dep_vars,\n",
    "            fine_independent_vars=s2_index,\n",
    "            geometry=aoi,\n",
    "            resolution=scale_coarse,\n",
    "        )\n",
    "\n",
    "        # Post-process\n",
    "        et_downscaled = back_to_int(et_downscaled, 100)\n",
    "\n",
    "        # Get asset ID from template function\n",
    "        asset_id = asset_id_template(year, step[\"label\"])\n",
    "\n",
    "        # Export\n",
    "        task = export_image_to_asset(\n",
    "            et_downscaled,\n",
    "            asset_id=asset_id,\n",
    "            task_name=f\"ET_downscaled_{year}_{step['label']}\",\n",
    "            year=year,\n",
    "            aoi=aoi,\n",
    "            crs=crs,\n",
    "            scale=scale_fine,\n",
    "        )\n",
    "        tasks.append(task)\n",
    "\n",
    "    return tasks"
   ]
  },
  {
   "cell_type": "code",
   "execution_count": 15,
   "metadata": {},
   "outputs": [
    {
     "data": {
      "text/html": [
       "\n",
       "            <style>\n",
       "                .geemap-dark {\n",
       "                    --jp-widgets-color: white;\n",
       "                    --jp-widgets-label-color: white;\n",
       "                    --jp-ui-font-color1: white;\n",
       "                    --jp-layout-color2: #454545;\n",
       "                    background-color: #383838;\n",
       "                }\n",
       "\n",
       "                .geemap-dark .jupyter-button {\n",
       "                    --jp-layout-color3: #383838;\n",
       "                }\n",
       "\n",
       "                .geemap-colab {\n",
       "                    background-color: var(--colab-primary-surface-color, white);\n",
       "                }\n",
       "\n",
       "                .geemap-colab .jupyter-button {\n",
       "                    --jp-layout-color3: var(--colab-primary-surface-color, white);\n",
       "                }\n",
       "            </style>\n",
       "            "
      ],
      "text/plain": [
       "<IPython.core.display.HTML object>"
      ]
     },
     "metadata": {},
     "output_type": "display_data"
    },
    {
     "name": "stdout",
     "output_type": "stream",
     "text": [
      "Band: ET\n",
      "30.000000000000004\n",
      "Band: resampled_ET\n",
      "100\n"
     ]
    }
   ],
   "source": [
    "# Print the scale of each band in landsat_ET_100m\n",
    "bands = [\"ET\", \"resampled_ET\"]\n",
    "\n",
    "for band in bands:\n",
    "    print(f\"Band: {band}\")\n",
    "    print(landsat_ET_100m.first().select(band).projection().nominalScale().getInfo())"
   ]
  },
  {
   "cell_type": "code",
   "execution_count": 16,
   "metadata": {},
   "outputs": [
    {
     "data": {
      "text/html": [
       "\n",
       "            <style>\n",
       "                .geemap-dark {\n",
       "                    --jp-widgets-color: white;\n",
       "                    --jp-widgets-label-color: white;\n",
       "                    --jp-ui-font-color1: white;\n",
       "                    --jp-layout-color2: #454545;\n",
       "                    background-color: #383838;\n",
       "                }\n",
       "\n",
       "                .geemap-dark .jupyter-button {\n",
       "                    --jp-layout-color3: #383838;\n",
       "                }\n",
       "\n",
       "                .geemap-colab {\n",
       "                    background-color: var(--colab-primary-surface-color, white);\n",
       "                }\n",
       "\n",
       "                .geemap-colab .jupyter-button {\n",
       "                    --jp-layout-color3: var(--colab-primary-surface-color, white);\n",
       "                }\n",
       "            </style>\n",
       "            "
      ],
      "text/plain": [
       "<IPython.core.display.HTML object>"
      ]
     },
     "metadata": {},
     "output_type": "display_data"
    }
   ],
   "source": [
    "s2_indices = s2_harmonized_gaps_filled.select(INDEPENDENT_BANDS)\n",
    "\n",
    "independent_vars = s2_indices.map(\n",
    "    lambda img: resample_image(\n",
    "        image=img,\n",
    "        target_scale=TARGET_RESAMPLE_SCALE,\n",
    "        bands_to_resample=INDEPENDENT_BANDS,\n",
    "    )\n",
    ").select([f\"resampled_{band}\" for band in INDEPENDENT_BANDS])"
   ]
  },
  {
   "cell_type": "code",
   "execution_count": 17,
   "metadata": {},
   "outputs": [
    {
     "data": {
      "text/html": [
       "\n",
       "            <style>\n",
       "                .geemap-dark {\n",
       "                    --jp-widgets-color: white;\n",
       "                    --jp-widgets-label-color: white;\n",
       "                    --jp-ui-font-color1: white;\n",
       "                    --jp-layout-color2: #454545;\n",
       "                    background-color: #383838;\n",
       "                }\n",
       "\n",
       "                .geemap-dark .jupyter-button {\n",
       "                    --jp-layout-color3: #383838;\n",
       "                }\n",
       "\n",
       "                .geemap-colab {\n",
       "                    background-color: var(--colab-primary-surface-color, white);\n",
       "                }\n",
       "\n",
       "                .geemap-colab .jupyter-button {\n",
       "                    --jp-layout-color3: var(--colab-primary-surface-color, white);\n",
       "                }\n",
       "            </style>\n",
       "            "
      ],
      "text/plain": [
       "<IPython.core.display.HTML object>"
      ]
     },
     "metadata": {},
     "output_type": "display_data"
    },
    {
     "data": {
      "text/plain": [
       "['resampled_gap_filled_NDVI',\n",
       " 'resampled_gap_filled_NDBI',\n",
       " 'resampled_gap_filled_NDWI']"
      ]
     },
     "execution_count": 17,
     "metadata": {},
     "output_type": "execute_result"
    }
   ],
   "source": [
    "independent_vars.first().bandNames().getInfo()"
   ]
  },
  {
   "cell_type": "code",
   "execution_count": 18,
   "metadata": {},
   "outputs": [
    {
     "data": {
      "text/html": [
       "\n",
       "            <style>\n",
       "                .geemap-dark {\n",
       "                    --jp-widgets-color: white;\n",
       "                    --jp-widgets-label-color: white;\n",
       "                    --jp-ui-font-color1: white;\n",
       "                    --jp-layout-color2: #454545;\n",
       "                    background-color: #383838;\n",
       "                }\n",
       "\n",
       "                .geemap-dark .jupyter-button {\n",
       "                    --jp-layout-color3: #383838;\n",
       "                }\n",
       "\n",
       "                .geemap-colab {\n",
       "                    background-color: var(--colab-primary-surface-color, white);\n",
       "                }\n",
       "\n",
       "                .geemap-colab .jupyter-button {\n",
       "                    --jp-layout-color3: var(--colab-primary-surface-color, white);\n",
       "                }\n",
       "            </style>\n",
       "            "
      ],
      "text/plain": [
       "<IPython.core.display.HTML object>"
      ]
     },
     "metadata": {},
     "output_type": "display_data"
    },
    {
     "name": "stdout",
     "output_type": "stream",
     "text": [
      "['resampled_gap_filled_NDVI', 'resampled_gap_filled_NDBI', 'resampled_gap_filled_NDWI']\n"
     ]
    }
   ],
   "source": [
    "print([f\"resampled_{band}\" for band in INDEPENDENT_BANDS])"
   ]
  },
  {
   "cell_type": "code",
   "execution_count": 19,
   "metadata": {},
   "outputs": [
    {
     "data": {
      "text/html": [
       "\n",
       "            <style>\n",
       "                .geemap-dark {\n",
       "                    --jp-widgets-color: white;\n",
       "                    --jp-widgets-label-color: white;\n",
       "                    --jp-ui-font-color1: white;\n",
       "                    --jp-layout-color2: #454545;\n",
       "                    background-color: #383838;\n",
       "                }\n",
       "\n",
       "                .geemap-dark .jupyter-button {\n",
       "                    --jp-layout-color3: #383838;\n",
       "                }\n",
       "\n",
       "                .geemap-colab {\n",
       "                    background-color: var(--colab-primary-surface-color, white);\n",
       "                }\n",
       "\n",
       "                .geemap-colab .jupyter-button {\n",
       "                    --jp-layout-color3: var(--colab-primary-surface-color, white);\n",
       "                }\n",
       "            </style>\n",
       "            "
      ],
      "text/plain": [
       "<IPython.core.display.HTML object>"
      ]
     },
     "metadata": {},
     "output_type": "display_data"
    },
    {
     "data": {
      "text/plain": [
       "['ET']"
      ]
     },
     "execution_count": 19,
     "metadata": {},
     "output_type": "execute_result"
    }
   ],
   "source": [
    "dependent_vars = landsat_ET_100m.select(DEPENDENT_BAND)\n",
    "\n",
    "dependent_vars.first().bandNames().getInfo()"
   ]
  },
  {
   "cell_type": "code",
   "execution_count": 20,
   "metadata": {},
   "outputs": [
    {
     "data": {
      "text/html": [
       "\n",
       "            <style>\n",
       "                .geemap-dark {\n",
       "                    --jp-widgets-color: white;\n",
       "                    --jp-widgets-label-color: white;\n",
       "                    --jp-ui-font-color1: white;\n",
       "                    --jp-layout-color2: #454545;\n",
       "                    background-color: #383838;\n",
       "                }\n",
       "\n",
       "                .geemap-dark .jupyter-button {\n",
       "                    --jp-layout-color3: #383838;\n",
       "                }\n",
       "\n",
       "                .geemap-colab {\n",
       "                    background-color: var(--colab-primary-surface-color, white);\n",
       "                }\n",
       "\n",
       "                .geemap-colab .jupyter-button {\n",
       "                    --jp-layout-color3: var(--colab-primary-surface-color, white);\n",
       "                }\n",
       "            </style>\n",
       "            "
      ],
      "text/plain": [
       "<IPython.core.display.HTML object>"
      ]
     },
     "metadata": {},
     "output_type": "display_data"
    },
    {
     "data": {
      "text/plain": [
       "['ET']"
      ]
     },
     "execution_count": 20,
     "metadata": {},
     "output_type": "execute_result"
    }
   ],
   "source": [
    "DEPENDENT_BAND"
   ]
  },
  {
   "cell_type": "code",
   "execution_count": 21,
   "metadata": {},
   "outputs": [
    {
     "data": {
      "text/html": [
       "\n",
       "            <style>\n",
       "                .geemap-dark {\n",
       "                    --jp-widgets-color: white;\n",
       "                    --jp-widgets-label-color: white;\n",
       "                    --jp-ui-font-color1: white;\n",
       "                    --jp-layout-color2: #454545;\n",
       "                    background-color: #383838;\n",
       "                }\n",
       "\n",
       "                .geemap-dark .jupyter-button {\n",
       "                    --jp-layout-color3: #383838;\n",
       "                }\n",
       "\n",
       "                .geemap-colab {\n",
       "                    background-color: var(--colab-primary-surface-color, white);\n",
       "                }\n",
       "\n",
       "                .geemap-colab .jupyter-button {\n",
       "                    --jp-layout-color3: var(--colab-primary-surface-color, white);\n",
       "                }\n",
       "            </style>\n",
       "            "
      ],
      "text/plain": [
       "<IPython.core.display.HTML object>"
      ]
     },
     "metadata": {},
     "output_type": "display_data"
    }
   ],
   "source": [
    "# dependent_vars = landsat_ET_100m.select(DEPENDENT_BAND)\n",
    "\n",
    "# # Get the scale from the coarse resolution product\n",
    "# scale = 100\n",
    "\n",
    "# downscaler = Downscaler(\n",
    "#     independent_vars=[f\"resampled_{band}\" for band in INDEPENDENT_BANDS],\n",
    "#     dependent_var=DEPENDENT_BAND[0],\n",
    "# )\n",
    "\n",
    "\n",
    "# # Configure asset path template\n",
    "# def asset_template(year: str, label: str) -> str:\n",
    "#     return (\n",
    "#         f\"projects/thurgau-irrigation/assets/\"\n",
    "#         f\"testing_downscaling_{year}/\"\n",
    "#         f\"testing_downscaling_{year}_{label}\"\n",
    "#     )\n",
    "\n",
    "\n",
    "# # Process and export\n",
    "# tasks = process_and_export_downscaled_ET(\n",
    "#     downscaler=downscaler,\n",
    "#     s2_indices=s2_indices,\n",
    "#     independent_vars=independent_vars,\n",
    "#     dependent_vars=dependent_vars,\n",
    "#     aoi=aoi,\n",
    "#     year=START_YEAR,\n",
    "#     asset_id_template=asset_template,\n",
    "#     scale_coarse=scale,\n",
    "#     scale_fine=10,\n",
    "#     time_step_type=\"monthly\",\n",
    "#     crs=\"EPSG:32632\",\n",
    "# )\n",
    "\n",
    "# print(f\"Started {len(tasks)} export tasks.\")"
   ]
  },
  {
   "cell_type": "code",
   "execution_count": null,
   "metadata": {},
   "outputs": [],
   "source": []
  },
  {
   "cell_type": "code",
   "execution_count": null,
   "metadata": {},
   "outputs": [],
   "source": []
  },
  {
   "cell_type": "code",
   "execution_count": 22,
   "metadata": {},
   "outputs": [
    {
     "data": {
      "text/html": [
       "\n",
       "            <style>\n",
       "                .geemap-dark {\n",
       "                    --jp-widgets-color: white;\n",
       "                    --jp-widgets-label-color: white;\n",
       "                    --jp-ui-font-color1: white;\n",
       "                    --jp-layout-color2: #454545;\n",
       "                    background-color: #383838;\n",
       "                }\n",
       "\n",
       "                .geemap-dark .jupyter-button {\n",
       "                    --jp-layout-color3: #383838;\n",
       "                }\n",
       "\n",
       "                .geemap-colab {\n",
       "                    background-color: var(--colab-primary-surface-color, white);\n",
       "                }\n",
       "\n",
       "                .geemap-colab .jupyter-button {\n",
       "                    --jp-layout-color3: var(--colab-primary-surface-color, white);\n",
       "                }\n",
       "            </style>\n",
       "            "
      ],
      "text/plain": [
       "<IPython.core.display.HTML object>"
      ]
     },
     "metadata": {},
     "output_type": "display_data"
    }
   ],
   "source": [
    "# Map = geemap.Map()\n",
    "\n",
    "# sentinel_vis_params = {\n",
    "#     \"bands\": [\"NDI\"],\n",
    "#     \"min\": 0,\n",
    "#     \"max\": 1,\n",
    "#     \"palette\": [\"white\", \"green\"],\n",
    "# }\n",
    "\n",
    "# fitted_vis_params = {\n",
    "#     \"bands\": [\"fitted_NDI\"],\n",
    "#     \"min\": 0,\n",
    "#     \"max\": 1,\n",
    "#     \"palette\": [\"white\", \"green\"],\n",
    "# }\n",
    "\n",
    "# gap_filled_vis_params = {\n",
    "#     \"bands\": [\"gap_filled_NDI\"],\n",
    "#     \"min\": 0,\n",
    "#     \"max\": 1,\n",
    "#     \"palette\": [\"white\", \"green\"],\n",
    "# }\n",
    "\n",
    "\n",
    "# s2_image = ee.Image(s2_harmonized_gaps_filled.filterBounds(AOI).toList(12).get(8))\n",
    "\n",
    "# Map.addLayer(s2_image, sentinel_vis_params, \"Sentinel 2\")\n",
    "# Map.addLayer(s2_image, fitted_vis_params, \"Sentinel 2 Fitted\")\n",
    "# Map.addLayer(s2_image, gap_filled_vis_params, \"Sentinel 2 Gap Filled\")\n",
    "\n",
    "\n",
    "# Map.centerObject(AOI, 12)\n",
    "# Map"
   ]
  },
  {
   "cell_type": "code",
   "execution_count": null,
   "metadata": {},
   "outputs": [],
   "source": []
  }
 ],
 "metadata": {
  "kernelspec": {
   "display_name": "geemap_env",
   "language": "python",
   "name": "python3"
  },
  "language_info": {
   "codemirror_mode": {
    "name": "ipython",
    "version": 3
   },
   "file_extension": ".py",
   "mimetype": "text/x-python",
   "name": "python",
   "nbconvert_exporter": "python",
   "pygments_lexer": "ipython3",
   "version": "3.11.10"
  }
 },
 "nbformat": 4,
 "nbformat_minor": 2
}
